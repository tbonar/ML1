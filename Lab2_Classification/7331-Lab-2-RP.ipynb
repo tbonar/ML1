{
 "cells": [
  {
   "cell_type": "code",
   "execution_count": 15,
   "id": "9568880e",
   "metadata": {},
   "outputs": [
    {
     "data": {
      "text/plain": "   genre        artist_name                        track_name  \\\n0  Movie     Henri Salvador       C'est beau de faire un Show   \n1  Movie  Martin & les fées  Perdu d'avance (par Gad Elmaleh)   \n2  Movie    Joseph Williams    Don't Let Me Be Lonely Tonight   \n3  Movie     Henri Salvador    Dis-moi Monsieur Gordon Cooper   \n4  Movie       Fabien Nataf                         Ouverture   \n\n                 track_id  popularity  acousticness  danceability  \\\n0  0BRjO6ga9RKCKjfDqeFgWV           0         0.611         0.389   \n1  0BjC1NfoEOOusryehmNudP           1         0.246         0.590   \n2  0CoSDzoNIKCRs124s9uTVy           3         0.952         0.663   \n3  0Gc6TVm52BwZD07Ki6tIvf           0         0.703         0.240   \n4  0IuslXpMROHdEPvSl1fTQK           4         0.950         0.331   \n\n   duration_ms  energy  instrumentalness key  liveness  loudness   mode  \\\n0        99373   0.910             0.000  C#    0.3460    -1.828  Major   \n1       137373   0.737             0.000  F#    0.1510    -5.559  Minor   \n2       170267   0.131             0.000   C    0.1030   -13.879  Minor   \n3       152427   0.326             0.000  C#    0.0985   -12.178  Major   \n4        82625   0.225             0.123   F    0.2020   -21.150  Major   \n\n   speechiness    tempo time_signature  valence  \n0       0.0525  166.969            4/4    0.814  \n1       0.0868  174.003            4/4    0.816  \n2       0.0362   99.488            5/4    0.368  \n3       0.0395  171.758            4/4    0.227  \n4       0.0456  140.576            4/4    0.390  ",
      "text/html": "<div>\n<style scoped>\n    .dataframe tbody tr th:only-of-type {\n        vertical-align: middle;\n    }\n\n    .dataframe tbody tr th {\n        vertical-align: top;\n    }\n\n    .dataframe thead th {\n        text-align: right;\n    }\n</style>\n<table border=\"1\" class=\"dataframe\">\n  <thead>\n    <tr style=\"text-align: right;\">\n      <th></th>\n      <th>genre</th>\n      <th>artist_name</th>\n      <th>track_name</th>\n      <th>track_id</th>\n      <th>popularity</th>\n      <th>acousticness</th>\n      <th>danceability</th>\n      <th>duration_ms</th>\n      <th>energy</th>\n      <th>instrumentalness</th>\n      <th>key</th>\n      <th>liveness</th>\n      <th>loudness</th>\n      <th>mode</th>\n      <th>speechiness</th>\n      <th>tempo</th>\n      <th>time_signature</th>\n      <th>valence</th>\n    </tr>\n  </thead>\n  <tbody>\n    <tr>\n      <th>0</th>\n      <td>Movie</td>\n      <td>Henri Salvador</td>\n      <td>C'est beau de faire un Show</td>\n      <td>0BRjO6ga9RKCKjfDqeFgWV</td>\n      <td>0</td>\n      <td>0.611</td>\n      <td>0.389</td>\n      <td>99373</td>\n      <td>0.910</td>\n      <td>0.000</td>\n      <td>C#</td>\n      <td>0.3460</td>\n      <td>-1.828</td>\n      <td>Major</td>\n      <td>0.0525</td>\n      <td>166.969</td>\n      <td>4/4</td>\n      <td>0.814</td>\n    </tr>\n    <tr>\n      <th>1</th>\n      <td>Movie</td>\n      <td>Martin &amp; les fées</td>\n      <td>Perdu d'avance (par Gad Elmaleh)</td>\n      <td>0BjC1NfoEOOusryehmNudP</td>\n      <td>1</td>\n      <td>0.246</td>\n      <td>0.590</td>\n      <td>137373</td>\n      <td>0.737</td>\n      <td>0.000</td>\n      <td>F#</td>\n      <td>0.1510</td>\n      <td>-5.559</td>\n      <td>Minor</td>\n      <td>0.0868</td>\n      <td>174.003</td>\n      <td>4/4</td>\n      <td>0.816</td>\n    </tr>\n    <tr>\n      <th>2</th>\n      <td>Movie</td>\n      <td>Joseph Williams</td>\n      <td>Don't Let Me Be Lonely Tonight</td>\n      <td>0CoSDzoNIKCRs124s9uTVy</td>\n      <td>3</td>\n      <td>0.952</td>\n      <td>0.663</td>\n      <td>170267</td>\n      <td>0.131</td>\n      <td>0.000</td>\n      <td>C</td>\n      <td>0.1030</td>\n      <td>-13.879</td>\n      <td>Minor</td>\n      <td>0.0362</td>\n      <td>99.488</td>\n      <td>5/4</td>\n      <td>0.368</td>\n    </tr>\n    <tr>\n      <th>3</th>\n      <td>Movie</td>\n      <td>Henri Salvador</td>\n      <td>Dis-moi Monsieur Gordon Cooper</td>\n      <td>0Gc6TVm52BwZD07Ki6tIvf</td>\n      <td>0</td>\n      <td>0.703</td>\n      <td>0.240</td>\n      <td>152427</td>\n      <td>0.326</td>\n      <td>0.000</td>\n      <td>C#</td>\n      <td>0.0985</td>\n      <td>-12.178</td>\n      <td>Major</td>\n      <td>0.0395</td>\n      <td>171.758</td>\n      <td>4/4</td>\n      <td>0.227</td>\n    </tr>\n    <tr>\n      <th>4</th>\n      <td>Movie</td>\n      <td>Fabien Nataf</td>\n      <td>Ouverture</td>\n      <td>0IuslXpMROHdEPvSl1fTQK</td>\n      <td>4</td>\n      <td>0.950</td>\n      <td>0.331</td>\n      <td>82625</td>\n      <td>0.225</td>\n      <td>0.123</td>\n      <td>F</td>\n      <td>0.2020</td>\n      <td>-21.150</td>\n      <td>Major</td>\n      <td>0.0456</td>\n      <td>140.576</td>\n      <td>4/4</td>\n      <td>0.390</td>\n    </tr>\n  </tbody>\n</table>\n</div>"
     },
     "execution_count": 15,
     "metadata": {},
     "output_type": "execute_result"
    }
   ],
   "source": [
    "import pandas as pd\n",
    "import os\n",
    "\n",
    "# Retrieves current working directory to locate physical csv on disk\n",
    "file_path = os.path.join(os.getcwd(), \"SpotifyFeatures.csv\")\n",
    "\n",
    "#Loading in csv Spotify dataset\n",
    "df = pd.read_csv(file_path) # read in the csv file\n",
    "\n",
    "# Data Import Check\n",
    "df.head()"
   ]
  },
  {
   "cell_type": "code",
   "execution_count": 16,
   "id": "359b2405",
   "metadata": {},
   "outputs": [
    {
     "data": {
      "text/plain": "          popularity   acousticness   danceability   duration_ms  \\\ncount  232725.000000  232725.000000  232725.000000  2.327250e+05   \nmean       41.127502       0.368560       0.554364  2.351223e+05   \nstd        18.189948       0.354768       0.185608  1.189359e+05   \nmin         0.000000       0.000000       0.056900  1.538700e+04   \n25%        29.000000       0.037600       0.435000  1.828570e+05   \n50%        43.000000       0.232000       0.571000  2.204270e+05   \n75%        55.000000       0.722000       0.692000  2.657680e+05   \nmax       100.000000       0.996000       0.989000  5.552917e+06   \n\n              energy  instrumentalness       liveness       loudness  \\\ncount  232725.000000     232725.000000  232725.000000  232725.000000   \nmean        0.570958          0.148301       0.215009      -9.569885   \nstd         0.263456          0.302768       0.198273       5.998204   \nmin         0.000020          0.000000       0.009670     -52.457000   \n25%         0.385000          0.000000       0.097400     -11.771000   \n50%         0.605000          0.000044       0.128000      -7.762000   \n75%         0.787000          0.035800       0.264000      -5.501000   \nmax         0.999000          0.999000       1.000000       3.744000   \n\n         speechiness          tempo        valence  \ncount  232725.000000  232725.000000  232725.000000  \nmean        0.120765     117.666585       0.454917  \nstd         0.185518      30.898907       0.260065  \nmin         0.022200      30.379000       0.000000  \n25%         0.036700      92.959000       0.237000  \n50%         0.050100     115.778000       0.444000  \n75%         0.105000     139.054000       0.660000  \nmax         0.967000     242.903000       1.000000  ",
      "text/html": "<div>\n<style scoped>\n    .dataframe tbody tr th:only-of-type {\n        vertical-align: middle;\n    }\n\n    .dataframe tbody tr th {\n        vertical-align: top;\n    }\n\n    .dataframe thead th {\n        text-align: right;\n    }\n</style>\n<table border=\"1\" class=\"dataframe\">\n  <thead>\n    <tr style=\"text-align: right;\">\n      <th></th>\n      <th>popularity</th>\n      <th>acousticness</th>\n      <th>danceability</th>\n      <th>duration_ms</th>\n      <th>energy</th>\n      <th>instrumentalness</th>\n      <th>liveness</th>\n      <th>loudness</th>\n      <th>speechiness</th>\n      <th>tempo</th>\n      <th>valence</th>\n    </tr>\n  </thead>\n  <tbody>\n    <tr>\n      <th>count</th>\n      <td>232725.000000</td>\n      <td>232725.000000</td>\n      <td>232725.000000</td>\n      <td>2.327250e+05</td>\n      <td>232725.000000</td>\n      <td>232725.000000</td>\n      <td>232725.000000</td>\n      <td>232725.000000</td>\n      <td>232725.000000</td>\n      <td>232725.000000</td>\n      <td>232725.000000</td>\n    </tr>\n    <tr>\n      <th>mean</th>\n      <td>41.127502</td>\n      <td>0.368560</td>\n      <td>0.554364</td>\n      <td>2.351223e+05</td>\n      <td>0.570958</td>\n      <td>0.148301</td>\n      <td>0.215009</td>\n      <td>-9.569885</td>\n      <td>0.120765</td>\n      <td>117.666585</td>\n      <td>0.454917</td>\n    </tr>\n    <tr>\n      <th>std</th>\n      <td>18.189948</td>\n      <td>0.354768</td>\n      <td>0.185608</td>\n      <td>1.189359e+05</td>\n      <td>0.263456</td>\n      <td>0.302768</td>\n      <td>0.198273</td>\n      <td>5.998204</td>\n      <td>0.185518</td>\n      <td>30.898907</td>\n      <td>0.260065</td>\n    </tr>\n    <tr>\n      <th>min</th>\n      <td>0.000000</td>\n      <td>0.000000</td>\n      <td>0.056900</td>\n      <td>1.538700e+04</td>\n      <td>0.000020</td>\n      <td>0.000000</td>\n      <td>0.009670</td>\n      <td>-52.457000</td>\n      <td>0.022200</td>\n      <td>30.379000</td>\n      <td>0.000000</td>\n    </tr>\n    <tr>\n      <th>25%</th>\n      <td>29.000000</td>\n      <td>0.037600</td>\n      <td>0.435000</td>\n      <td>1.828570e+05</td>\n      <td>0.385000</td>\n      <td>0.000000</td>\n      <td>0.097400</td>\n      <td>-11.771000</td>\n      <td>0.036700</td>\n      <td>92.959000</td>\n      <td>0.237000</td>\n    </tr>\n    <tr>\n      <th>50%</th>\n      <td>43.000000</td>\n      <td>0.232000</td>\n      <td>0.571000</td>\n      <td>2.204270e+05</td>\n      <td>0.605000</td>\n      <td>0.000044</td>\n      <td>0.128000</td>\n      <td>-7.762000</td>\n      <td>0.050100</td>\n      <td>115.778000</td>\n      <td>0.444000</td>\n    </tr>\n    <tr>\n      <th>75%</th>\n      <td>55.000000</td>\n      <td>0.722000</td>\n      <td>0.692000</td>\n      <td>2.657680e+05</td>\n      <td>0.787000</td>\n      <td>0.035800</td>\n      <td>0.264000</td>\n      <td>-5.501000</td>\n      <td>0.105000</td>\n      <td>139.054000</td>\n      <td>0.660000</td>\n    </tr>\n    <tr>\n      <th>max</th>\n      <td>100.000000</td>\n      <td>0.996000</td>\n      <td>0.989000</td>\n      <td>5.552917e+06</td>\n      <td>0.999000</td>\n      <td>0.999000</td>\n      <td>1.000000</td>\n      <td>3.744000</td>\n      <td>0.967000</td>\n      <td>242.903000</td>\n      <td>1.000000</td>\n    </tr>\n  </tbody>\n</table>\n</div>"
     },
     "execution_count": 16,
     "metadata": {},
     "output_type": "execute_result"
    }
   ],
   "source": [
    "df.describe()"
   ]
  },
  {
   "cell_type": "code",
   "execution_count": 17,
   "id": "88003ab0",
   "metadata": {},
   "outputs": [
    {
     "name": "stdout",
     "output_type": "stream",
     "text": [
      "<class 'pandas.core.frame.DataFrame'>\n",
      "RangeIndex: 232725 entries, 0 to 232724\n",
      "Data columns (total 18 columns):\n",
      " #   Column            Non-Null Count   Dtype  \n",
      "---  ------            --------------   -----  \n",
      " 0   genre             232725 non-null  object \n",
      " 1   artist_name       232725 non-null  object \n",
      " 2   track_name        232725 non-null  object \n",
      " 3   track_id          232725 non-null  object \n",
      " 4   popularity        232725 non-null  int64  \n",
      " 5   acousticness      232725 non-null  float64\n",
      " 6   danceability      232725 non-null  float64\n",
      " 7   duration_ms       232725 non-null  int64  \n",
      " 8   energy            232725 non-null  float64\n",
      " 9   instrumentalness  232725 non-null  float64\n",
      " 10  key               232725 non-null  object \n",
      " 11  liveness          232725 non-null  float64\n",
      " 12  loudness          232725 non-null  float64\n",
      " 13  mode              232725 non-null  object \n",
      " 14  speechiness       232725 non-null  float64\n",
      " 15  tempo             232725 non-null  float64\n",
      " 16  time_signature    232725 non-null  object \n",
      " 17  valence           232725 non-null  float64\n",
      "dtypes: float64(9), int64(2), object(7)\n",
      "memory usage: 32.0+ MB\n"
     ]
    }
   ],
   "source": [
    "df.info()"
   ]
  },
  {
   "cell_type": "code",
   "execution_count": 18,
   "id": "fb87eb89",
   "metadata": {
    "scrolled": true
   },
   "outputs": [
    {
     "data": {
      "text/plain": "Index(['genre', 'artist_name', 'track_name', 'track_id', 'popularity',\n       'acousticness', 'danceability', 'duration_ms', 'energy',\n       'instrumentalness', 'key', 'liveness', 'loudness', 'mode',\n       'speechiness', 'tempo', 'time_signature', 'valence'],\n      dtype='object')"
     },
     "execution_count": 18,
     "metadata": {},
     "output_type": "execute_result"
    }
   ],
   "source": [
    "df.keys()"
   ]
  },
  {
   "cell_type": "code",
   "execution_count": 19,
   "id": "e1cb3431",
   "metadata": {},
   "outputs": [
    {
     "data": {
      "text/plain": "array(['C#', 'F#', 'C', 'F', 'G', 'E', 'D#', 'G#', 'D', 'A#', 'A', 'B'],\n      dtype=object)"
     },
     "execution_count": 19,
     "metadata": {},
     "output_type": "execute_result"
    }
   ],
   "source": [
    "pd.unique(df['key'])"
   ]
  },
  {
   "cell_type": "markdown",
   "id": "73af99fb",
   "metadata": {},
   "source": [
    "## Feature Engineering\n",
    "\n",
    "There are 3 categorical variables (**key, mode, and time signature**) that need to be converted from text to numbers\n",
    "using Pandas [astype(\"category\")](https://pandas-docs.github.io/pandas-docs-travis/user_guide/categorical.html).\n",
    "We also define popularity as a binary variable. For our purposes, we will define above 57 as \"popular\" since that's the\n",
    "border of the top 25% of songs and encode that as 1, and below 57 as \"not popular\" and encode that as 0.\n",
    "\n",
    "**Key**: Since there are 12 letter keys (not distinguishing between major and minor), we will convert A to 0, A# to 1,\n",
    "and so on and so forth.\n",
    "\n",
    "**Mode**: We will assign major=1 and minor=0.\n",
    "\n",
    "**Time-Signature**: We will assign time signature from 0 to 4 since there are 5 unique values."
   ]
  },
  {
   "cell_type": "code",
   "execution_count": 43,
   "id": "3c889205",
   "metadata": {
    "pycharm": {
     "name": "#%%\n"
    }
   },
   "outputs": [
    {
     "data": {
      "text/plain": "0          0\n1          1\n2          2\n3          0\n4          3\n          ..\n232720     8\n232721     5\n232722     8\n232723    10\n232724     7\nName: key, Length: 232725, dtype: category\nCategories (12, int64): [0, 1, 2, 3, ..., 8, 9, 10, 11]"
     },
     "execution_count": 43,
     "metadata": {},
     "output_type": "execute_result"
    }
   ],
   "source": [
    "df[\"key\"].astype('category')"
   ]
  },
  {
   "cell_type": "code",
   "execution_count": null,
   "outputs": [],
   "source": [
    "df[\"key\"] = df[\"key\"].astype('category')"
   ],
   "metadata": {
    "collapsed": false,
    "pycharm": {
     "name": "#%%\n"
    }
   }
  },
  {
   "cell_type": "code",
   "execution_count": 44,
   "outputs": [
    {
     "data": {
      "text/plain": "0         1\n1         0\n2         0\n3         1\n4         1\n         ..\n232720    1\n232721    0\n232722    1\n232723    1\n232724    0\nName: mode, Length: 232725, dtype: category\nCategories (2, int64): [0, 1]"
     },
     "execution_count": 44,
     "metadata": {},
     "output_type": "execute_result"
    }
   ],
   "source": [
    "df[\"mode\"].astype('category')"
   ],
   "metadata": {
    "collapsed": false,
    "pycharm": {
     "name": "#%%\n"
    }
   }
  },
  {
   "cell_type": "code",
   "execution_count": 45,
   "outputs": [],
   "source": [
    "df[\"mode\"] = df[\"mode\"].astype('category')\n"
   ],
   "metadata": {
    "collapsed": false,
    "pycharm": {
     "name": "#%%\n"
    }
   }
  },
  {
   "cell_type": "code",
   "execution_count": 46,
   "outputs": [
    {
     "data": {
      "text/plain": "0         0\n1         0\n2         1\n3         0\n4         0\n         ..\n232720    0\n232721    0\n232722    0\n232723    0\n232724    0\nName: time_signature, Length: 232725, dtype: category\nCategories (5, int64): [0, 1, 2, 3, 4]"
     },
     "execution_count": 46,
     "metadata": {},
     "output_type": "execute_result"
    }
   ],
   "source": [
    "df[\"time_signature\"].astype('category')"
   ],
   "metadata": {
    "collapsed": false,
    "pycharm": {
     "name": "#%%\n"
    }
   }
  },
  {
   "cell_type": "code",
   "execution_count": 47,
   "outputs": [],
   "source": [
    "df[\"time_signature\"] = df[\"time_signature\"].astype('category')\n"
   ],
   "metadata": {
    "collapsed": false,
    "pycharm": {
     "name": "#%%\n"
    }
   }
  },
  {
   "cell_type": "code",
   "execution_count": 48,
   "outputs": [],
   "source": [
    "# We'll transform our classification category as well\n",
    "df[\"genre\"] = df[\"genre\"].astype('category')"
   ],
   "metadata": {
    "collapsed": false,
    "pycharm": {
     "name": "#%%\n"
    }
   }
  },
  {
   "cell_type": "code",
   "execution_count": 49,
   "outputs": [
    {
     "name": "stdout",
     "output_type": "stream",
     "text": [
      "<class 'pandas.core.frame.DataFrame'>\n",
      "RangeIndex: 232725 entries, 0 to 232724\n",
      "Data columns (total 18 columns):\n",
      " #   Column            Non-Null Count   Dtype   \n",
      "---  ------            --------------   -----   \n",
      " 0   genre             232725 non-null  category\n",
      " 1   artist_name       232725 non-null  object  \n",
      " 2   track_name        232725 non-null  object  \n",
      " 3   track_id          232725 non-null  object  \n",
      " 4   popularity        232725 non-null  int64   \n",
      " 5   acousticness      232725 non-null  float64 \n",
      " 6   danceability      232725 non-null  float64 \n",
      " 7   duration_ms       232725 non-null  int64   \n",
      " 8   energy            232725 non-null  float64 \n",
      " 9   instrumentalness  232725 non-null  float64 \n",
      " 10  key               232725 non-null  category\n",
      " 11  liveness          232725 non-null  float64 \n",
      " 12  loudness          232725 non-null  float64 \n",
      " 13  mode              232725 non-null  category\n",
      " 14  speechiness       232725 non-null  float64 \n",
      " 15  tempo             232725 non-null  float64 \n",
      " 16  time_signature    232725 non-null  category\n",
      " 17  valence           232725 non-null  float64 \n",
      "dtypes: category(4), float64(9), int64(2), object(3)\n",
      "memory usage: 25.7+ MB\n"
     ]
    }
   ],
   "source": [
    "df.info()"
   ],
   "metadata": {
    "collapsed": false,
    "pycharm": {
     "name": "#%%\n"
    }
   }
  },
  {
   "cell_type": "code",
   "execution_count": 51,
   "id": "fa7f19c4",
   "metadata": {
    "scrolled": true
   },
   "outputs": [
    {
     "data": {
      "text/plain": "        genre               artist_name                        track_name  \\\n0       Movie            Henri Salvador       C'est beau de faire un Show   \n1       Movie         Martin & les fées  Perdu d'avance (par Gad Elmaleh)   \n2       Movie           Joseph Williams    Don't Let Me Be Lonely Tonight   \n3       Movie            Henri Salvador    Dis-moi Monsieur Gordon Cooper   \n4       Movie              Fabien Nataf                         Ouverture   \n...       ...                       ...                               ...   \n232720   Soul                     Slave                      Son Of Slide   \n232721   Soul  Jr Thomas & The Volcanos                      Burning Fire   \n232722   Soul              Muddy Waters    (I'm Your) Hoochie Coochie Man   \n232723   Soul                   R.LUM.R                     With My Words   \n232724   Soul            Mint Condition    You Don't Have To Hurt No More   \n\n                      track_id  popularity  acousticness  danceability  \\\n0       0BRjO6ga9RKCKjfDqeFgWV           0       0.61100         0.389   \n1       0BjC1NfoEOOusryehmNudP           0       0.24600         0.590   \n2       0CoSDzoNIKCRs124s9uTVy           0       0.95200         0.663   \n3       0Gc6TVm52BwZD07Ki6tIvf           0       0.70300         0.240   \n4       0IuslXpMROHdEPvSl1fTQK           0       0.95000         0.331   \n...                        ...         ...           ...           ...   \n232720  2XGLdVl7lGeq8ksM6Al7jT           0       0.00384         0.687   \n232721  1qWZdkBl4UVPj9lK6HuuFM           0       0.03290         0.785   \n232722  2ziWXUmQLrXTiYjCg2fZ2t           0       0.90100         0.517   \n232723  6EFsue2YbIG4Qkq8Zr9Rir           0       0.26200         0.745   \n232724  34XO9RwPMKjbvRry54QzWn           0       0.09730         0.758   \n\n        duration_ms  energy  instrumentalness key  liveness  loudness mode  \\\n0             99373   0.910          0.000000   0    0.3460    -1.828    1   \n1            137373   0.737          0.000000   1    0.1510    -5.559    0   \n2            170267   0.131          0.000000   2    0.1030   -13.879    0   \n3            152427   0.326          0.000000   0    0.0985   -12.178    1   \n4             82625   0.225          0.123000   3    0.2020   -21.150    1   \n...             ...     ...               ...  ..       ...       ...  ...   \n232720       326240   0.714          0.544000   8    0.0845   -10.626    1   \n232721       282447   0.683          0.000880   5    0.2370    -6.944    0   \n232722       166960   0.419          0.000000   8    0.0945    -8.282    1   \n232723       222442   0.704          0.000000  10    0.3330    -7.137    1   \n232724       323027   0.470          0.000049   7    0.0836    -6.708    0   \n\n        speechiness    tempo time_signature  valence  \n0            0.0525  166.969              0    0.814  \n1            0.0868  174.003              0    0.816  \n2            0.0362   99.488              1    0.368  \n3            0.0395  171.758              0    0.227  \n4            0.0456  140.576              0    0.390  \n...             ...      ...            ...      ...  \n232720       0.0316  115.542              0    0.962  \n232721       0.0337  113.830              0    0.969  \n232722       0.1480   84.135              0    0.813  \n232723       0.1460  100.031              0    0.489  \n232724       0.0287  113.897              0    0.479  \n\n[232725 rows x 18 columns]",
      "text/html": "<div>\n<style scoped>\n    .dataframe tbody tr th:only-of-type {\n        vertical-align: middle;\n    }\n\n    .dataframe tbody tr th {\n        vertical-align: top;\n    }\n\n    .dataframe thead th {\n        text-align: right;\n    }\n</style>\n<table border=\"1\" class=\"dataframe\">\n  <thead>\n    <tr style=\"text-align: right;\">\n      <th></th>\n      <th>genre</th>\n      <th>artist_name</th>\n      <th>track_name</th>\n      <th>track_id</th>\n      <th>popularity</th>\n      <th>acousticness</th>\n      <th>danceability</th>\n      <th>duration_ms</th>\n      <th>energy</th>\n      <th>instrumentalness</th>\n      <th>key</th>\n      <th>liveness</th>\n      <th>loudness</th>\n      <th>mode</th>\n      <th>speechiness</th>\n      <th>tempo</th>\n      <th>time_signature</th>\n      <th>valence</th>\n    </tr>\n  </thead>\n  <tbody>\n    <tr>\n      <th>0</th>\n      <td>Movie</td>\n      <td>Henri Salvador</td>\n      <td>C'est beau de faire un Show</td>\n      <td>0BRjO6ga9RKCKjfDqeFgWV</td>\n      <td>0</td>\n      <td>0.61100</td>\n      <td>0.389</td>\n      <td>99373</td>\n      <td>0.910</td>\n      <td>0.000000</td>\n      <td>0</td>\n      <td>0.3460</td>\n      <td>-1.828</td>\n      <td>1</td>\n      <td>0.0525</td>\n      <td>166.969</td>\n      <td>0</td>\n      <td>0.814</td>\n    </tr>\n    <tr>\n      <th>1</th>\n      <td>Movie</td>\n      <td>Martin &amp; les fées</td>\n      <td>Perdu d'avance (par Gad Elmaleh)</td>\n      <td>0BjC1NfoEOOusryehmNudP</td>\n      <td>0</td>\n      <td>0.24600</td>\n      <td>0.590</td>\n      <td>137373</td>\n      <td>0.737</td>\n      <td>0.000000</td>\n      <td>1</td>\n      <td>0.1510</td>\n      <td>-5.559</td>\n      <td>0</td>\n      <td>0.0868</td>\n      <td>174.003</td>\n      <td>0</td>\n      <td>0.816</td>\n    </tr>\n    <tr>\n      <th>2</th>\n      <td>Movie</td>\n      <td>Joseph Williams</td>\n      <td>Don't Let Me Be Lonely Tonight</td>\n      <td>0CoSDzoNIKCRs124s9uTVy</td>\n      <td>0</td>\n      <td>0.95200</td>\n      <td>0.663</td>\n      <td>170267</td>\n      <td>0.131</td>\n      <td>0.000000</td>\n      <td>2</td>\n      <td>0.1030</td>\n      <td>-13.879</td>\n      <td>0</td>\n      <td>0.0362</td>\n      <td>99.488</td>\n      <td>1</td>\n      <td>0.368</td>\n    </tr>\n    <tr>\n      <th>3</th>\n      <td>Movie</td>\n      <td>Henri Salvador</td>\n      <td>Dis-moi Monsieur Gordon Cooper</td>\n      <td>0Gc6TVm52BwZD07Ki6tIvf</td>\n      <td>0</td>\n      <td>0.70300</td>\n      <td>0.240</td>\n      <td>152427</td>\n      <td>0.326</td>\n      <td>0.000000</td>\n      <td>0</td>\n      <td>0.0985</td>\n      <td>-12.178</td>\n      <td>1</td>\n      <td>0.0395</td>\n      <td>171.758</td>\n      <td>0</td>\n      <td>0.227</td>\n    </tr>\n    <tr>\n      <th>4</th>\n      <td>Movie</td>\n      <td>Fabien Nataf</td>\n      <td>Ouverture</td>\n      <td>0IuslXpMROHdEPvSl1fTQK</td>\n      <td>0</td>\n      <td>0.95000</td>\n      <td>0.331</td>\n      <td>82625</td>\n      <td>0.225</td>\n      <td>0.123000</td>\n      <td>3</td>\n      <td>0.2020</td>\n      <td>-21.150</td>\n      <td>1</td>\n      <td>0.0456</td>\n      <td>140.576</td>\n      <td>0</td>\n      <td>0.390</td>\n    </tr>\n    <tr>\n      <th>...</th>\n      <td>...</td>\n      <td>...</td>\n      <td>...</td>\n      <td>...</td>\n      <td>...</td>\n      <td>...</td>\n      <td>...</td>\n      <td>...</td>\n      <td>...</td>\n      <td>...</td>\n      <td>...</td>\n      <td>...</td>\n      <td>...</td>\n      <td>...</td>\n      <td>...</td>\n      <td>...</td>\n      <td>...</td>\n      <td>...</td>\n    </tr>\n    <tr>\n      <th>232720</th>\n      <td>Soul</td>\n      <td>Slave</td>\n      <td>Son Of Slide</td>\n      <td>2XGLdVl7lGeq8ksM6Al7jT</td>\n      <td>0</td>\n      <td>0.00384</td>\n      <td>0.687</td>\n      <td>326240</td>\n      <td>0.714</td>\n      <td>0.544000</td>\n      <td>8</td>\n      <td>0.0845</td>\n      <td>-10.626</td>\n      <td>1</td>\n      <td>0.0316</td>\n      <td>115.542</td>\n      <td>0</td>\n      <td>0.962</td>\n    </tr>\n    <tr>\n      <th>232721</th>\n      <td>Soul</td>\n      <td>Jr Thomas &amp; The Volcanos</td>\n      <td>Burning Fire</td>\n      <td>1qWZdkBl4UVPj9lK6HuuFM</td>\n      <td>0</td>\n      <td>0.03290</td>\n      <td>0.785</td>\n      <td>282447</td>\n      <td>0.683</td>\n      <td>0.000880</td>\n      <td>5</td>\n      <td>0.2370</td>\n      <td>-6.944</td>\n      <td>0</td>\n      <td>0.0337</td>\n      <td>113.830</td>\n      <td>0</td>\n      <td>0.969</td>\n    </tr>\n    <tr>\n      <th>232722</th>\n      <td>Soul</td>\n      <td>Muddy Waters</td>\n      <td>(I'm Your) Hoochie Coochie Man</td>\n      <td>2ziWXUmQLrXTiYjCg2fZ2t</td>\n      <td>0</td>\n      <td>0.90100</td>\n      <td>0.517</td>\n      <td>166960</td>\n      <td>0.419</td>\n      <td>0.000000</td>\n      <td>8</td>\n      <td>0.0945</td>\n      <td>-8.282</td>\n      <td>1</td>\n      <td>0.1480</td>\n      <td>84.135</td>\n      <td>0</td>\n      <td>0.813</td>\n    </tr>\n    <tr>\n      <th>232723</th>\n      <td>Soul</td>\n      <td>R.LUM.R</td>\n      <td>With My Words</td>\n      <td>6EFsue2YbIG4Qkq8Zr9Rir</td>\n      <td>0</td>\n      <td>0.26200</td>\n      <td>0.745</td>\n      <td>222442</td>\n      <td>0.704</td>\n      <td>0.000000</td>\n      <td>10</td>\n      <td>0.3330</td>\n      <td>-7.137</td>\n      <td>1</td>\n      <td>0.1460</td>\n      <td>100.031</td>\n      <td>0</td>\n      <td>0.489</td>\n    </tr>\n    <tr>\n      <th>232724</th>\n      <td>Soul</td>\n      <td>Mint Condition</td>\n      <td>You Don't Have To Hurt No More</td>\n      <td>34XO9RwPMKjbvRry54QzWn</td>\n      <td>0</td>\n      <td>0.09730</td>\n      <td>0.758</td>\n      <td>323027</td>\n      <td>0.470</td>\n      <td>0.000049</td>\n      <td>7</td>\n      <td>0.0836</td>\n      <td>-6.708</td>\n      <td>0</td>\n      <td>0.0287</td>\n      <td>113.897</td>\n      <td>0</td>\n      <td>0.479</td>\n    </tr>\n  </tbody>\n</table>\n<p>232725 rows × 18 columns</p>\n</div>"
     },
     "execution_count": 51,
     "metadata": {},
     "output_type": "execute_result"
    }
   ],
   "source": [
    "# Popularity\n",
    "df.loc[df['popularity'] < 57, 'popularity'] = 0 \n",
    "df.loc[df['popularity'] >= 57, 'popularity'] = 1\n",
    "df.loc[df['popularity'] == 0]\n"
   ]
  },
  {
   "cell_type": "code",
   "execution_count": 26,
   "id": "4218c1f8",
   "metadata": {},
   "outputs": [
    {
     "data": {
      "text/plain": "       genre     artist_name  \\\n135      R&B   Mary J. Blige   \n136      R&B         Rihanna   \n137      R&B       Yung Bleu   \n138      R&B        Surfaces   \n139      R&B  Olivia O'Brien   \n...      ...             ...   \n230312  Soul     James Brown   \n230782  Soul    Alex Hepburn   \n230817  Soul    Paloma Faith   \n230946  Soul     James Brown   \n231493  Soul      Simply Red   \n\n                                               track_name  \\\n135                            Be Without You - Kendu Mix   \n136                                             Desperado   \n137            Ice On My Baby (feat. Kevin Gates) - Remix   \n138                             Heaven Falls / Fall on Me   \n139                                           Love Myself   \n...                                                   ...   \n230312  Get Up (I Feel Like Being A) Sex Machine - Pts...   \n230782                                        If You Stay   \n230817                        Make Your Own Kind of Music   \n230946                 Papa's Got A Brand New Bag - Pt. 1   \n231493                             The Air That I Breathe   \n\n                      track_id  popularity  acousticness  danceability  \\\n135     2YegxR5As7BeQuVp2U6pek           1       0.08300         0.724   \n136     6KFaHC9G178beAp7P0Vi5S           1       0.32300         0.685   \n137     6muW8cSjJ3rusKJ0vH5olw           1       0.06750         0.762   \n138     7yHqOZfsXYlicyoMt62yC6           1       0.36000         0.563   \n139     4XzgjxGKqULifVf7mnDIQK           1       0.59600         0.653   \n...                        ...         ...           ...           ...   \n230312  6hpmTwgNCz81H2bFEREx29           1       0.27300         0.833   \n230782  4sJoIeb8zWYCLHSLM0az3b           1       0.04530         0.719   \n230817  5jsFFhABp2FkasGr4QcQd6           1       0.00862         0.567   \n230946  5aZzmPUv5a2nna9sxBrmpL           1       0.51900         0.775   \n231493  4Sfq2ZuUK9tS66eXqCCKRF           1       0.21000         0.660   \n\n        duration_ms  energy  instrumentalness key  liveness  loudness mode  \\\n135          246333   0.689          0.000000   8    0.3040    -5.922    0   \n136          186467   0.610          0.000000   2    0.1020    -5.221    0   \n137          199520   0.520          0.000004   3    0.1140    -5.237    0   \n138          240597   0.366          0.002430  11    0.0955    -6.896    0   \n139          213947   0.621          0.000000  11    0.0811    -5.721    0   \n...             ...     ...               ...  ..       ...       ...  ...   \n230312       318800   0.661          0.000149   9    0.2940    -7.595    0   \n230782       194554   0.702          0.000013  11    0.0662    -4.577    1   \n230817       163840   0.753          0.001830   5    0.1270    -4.823    1   \n230946       128973   0.725          0.054100   5    0.0944    -8.369    1   \n231493       262827   0.560          0.000040   2    0.0974    -8.894    1   \n\n        speechiness    tempo time_signature  valence  \n135          0.1350  146.496              0   0.6930  \n136          0.0439   94.384              2   0.3230  \n137          0.0959   75.047              0   0.0862  \n138          0.1210   85.352              0   0.7680  \n139          0.0409  100.006              0   0.4660  \n...             ...      ...            ...      ...  \n230312       0.1010  108.314              0   0.8580  \n230782       0.0357  116.938              0   0.6130  \n230817       0.0406  120.098              0   0.5660  \n230946       0.0944  129.681              0   0.9140  \n231493       0.0287   89.505              0   0.6410  \n\n[49104 rows x 18 columns]",
      "text/html": "<div>\n<style scoped>\n    .dataframe tbody tr th:only-of-type {\n        vertical-align: middle;\n    }\n\n    .dataframe tbody tr th {\n        vertical-align: top;\n    }\n\n    .dataframe thead th {\n        text-align: right;\n    }\n</style>\n<table border=\"1\" class=\"dataframe\">\n  <thead>\n    <tr style=\"text-align: right;\">\n      <th></th>\n      <th>genre</th>\n      <th>artist_name</th>\n      <th>track_name</th>\n      <th>track_id</th>\n      <th>popularity</th>\n      <th>acousticness</th>\n      <th>danceability</th>\n      <th>duration_ms</th>\n      <th>energy</th>\n      <th>instrumentalness</th>\n      <th>key</th>\n      <th>liveness</th>\n      <th>loudness</th>\n      <th>mode</th>\n      <th>speechiness</th>\n      <th>tempo</th>\n      <th>time_signature</th>\n      <th>valence</th>\n    </tr>\n  </thead>\n  <tbody>\n    <tr>\n      <th>135</th>\n      <td>R&amp;B</td>\n      <td>Mary J. Blige</td>\n      <td>Be Without You - Kendu Mix</td>\n      <td>2YegxR5As7BeQuVp2U6pek</td>\n      <td>1</td>\n      <td>0.08300</td>\n      <td>0.724</td>\n      <td>246333</td>\n      <td>0.689</td>\n      <td>0.000000</td>\n      <td>8</td>\n      <td>0.3040</td>\n      <td>-5.922</td>\n      <td>0</td>\n      <td>0.1350</td>\n      <td>146.496</td>\n      <td>0</td>\n      <td>0.6930</td>\n    </tr>\n    <tr>\n      <th>136</th>\n      <td>R&amp;B</td>\n      <td>Rihanna</td>\n      <td>Desperado</td>\n      <td>6KFaHC9G178beAp7P0Vi5S</td>\n      <td>1</td>\n      <td>0.32300</td>\n      <td>0.685</td>\n      <td>186467</td>\n      <td>0.610</td>\n      <td>0.000000</td>\n      <td>2</td>\n      <td>0.1020</td>\n      <td>-5.221</td>\n      <td>0</td>\n      <td>0.0439</td>\n      <td>94.384</td>\n      <td>2</td>\n      <td>0.3230</td>\n    </tr>\n    <tr>\n      <th>137</th>\n      <td>R&amp;B</td>\n      <td>Yung Bleu</td>\n      <td>Ice On My Baby (feat. Kevin Gates) - Remix</td>\n      <td>6muW8cSjJ3rusKJ0vH5olw</td>\n      <td>1</td>\n      <td>0.06750</td>\n      <td>0.762</td>\n      <td>199520</td>\n      <td>0.520</td>\n      <td>0.000004</td>\n      <td>3</td>\n      <td>0.1140</td>\n      <td>-5.237</td>\n      <td>0</td>\n      <td>0.0959</td>\n      <td>75.047</td>\n      <td>0</td>\n      <td>0.0862</td>\n    </tr>\n    <tr>\n      <th>138</th>\n      <td>R&amp;B</td>\n      <td>Surfaces</td>\n      <td>Heaven Falls / Fall on Me</td>\n      <td>7yHqOZfsXYlicyoMt62yC6</td>\n      <td>1</td>\n      <td>0.36000</td>\n      <td>0.563</td>\n      <td>240597</td>\n      <td>0.366</td>\n      <td>0.002430</td>\n      <td>11</td>\n      <td>0.0955</td>\n      <td>-6.896</td>\n      <td>0</td>\n      <td>0.1210</td>\n      <td>85.352</td>\n      <td>0</td>\n      <td>0.7680</td>\n    </tr>\n    <tr>\n      <th>139</th>\n      <td>R&amp;B</td>\n      <td>Olivia O'Brien</td>\n      <td>Love Myself</td>\n      <td>4XzgjxGKqULifVf7mnDIQK</td>\n      <td>1</td>\n      <td>0.59600</td>\n      <td>0.653</td>\n      <td>213947</td>\n      <td>0.621</td>\n      <td>0.000000</td>\n      <td>11</td>\n      <td>0.0811</td>\n      <td>-5.721</td>\n      <td>0</td>\n      <td>0.0409</td>\n      <td>100.006</td>\n      <td>0</td>\n      <td>0.4660</td>\n    </tr>\n    <tr>\n      <th>...</th>\n      <td>...</td>\n      <td>...</td>\n      <td>...</td>\n      <td>...</td>\n      <td>...</td>\n      <td>...</td>\n      <td>...</td>\n      <td>...</td>\n      <td>...</td>\n      <td>...</td>\n      <td>...</td>\n      <td>...</td>\n      <td>...</td>\n      <td>...</td>\n      <td>...</td>\n      <td>...</td>\n      <td>...</td>\n      <td>...</td>\n    </tr>\n    <tr>\n      <th>230312</th>\n      <td>Soul</td>\n      <td>James Brown</td>\n      <td>Get Up (I Feel Like Being A) Sex Machine - Pts...</td>\n      <td>6hpmTwgNCz81H2bFEREx29</td>\n      <td>1</td>\n      <td>0.27300</td>\n      <td>0.833</td>\n      <td>318800</td>\n      <td>0.661</td>\n      <td>0.000149</td>\n      <td>9</td>\n      <td>0.2940</td>\n      <td>-7.595</td>\n      <td>0</td>\n      <td>0.1010</td>\n      <td>108.314</td>\n      <td>0</td>\n      <td>0.8580</td>\n    </tr>\n    <tr>\n      <th>230782</th>\n      <td>Soul</td>\n      <td>Alex Hepburn</td>\n      <td>If You Stay</td>\n      <td>4sJoIeb8zWYCLHSLM0az3b</td>\n      <td>1</td>\n      <td>0.04530</td>\n      <td>0.719</td>\n      <td>194554</td>\n      <td>0.702</td>\n      <td>0.000013</td>\n      <td>11</td>\n      <td>0.0662</td>\n      <td>-4.577</td>\n      <td>1</td>\n      <td>0.0357</td>\n      <td>116.938</td>\n      <td>0</td>\n      <td>0.6130</td>\n    </tr>\n    <tr>\n      <th>230817</th>\n      <td>Soul</td>\n      <td>Paloma Faith</td>\n      <td>Make Your Own Kind of Music</td>\n      <td>5jsFFhABp2FkasGr4QcQd6</td>\n      <td>1</td>\n      <td>0.00862</td>\n      <td>0.567</td>\n      <td>163840</td>\n      <td>0.753</td>\n      <td>0.001830</td>\n      <td>5</td>\n      <td>0.1270</td>\n      <td>-4.823</td>\n      <td>1</td>\n      <td>0.0406</td>\n      <td>120.098</td>\n      <td>0</td>\n      <td>0.5660</td>\n    </tr>\n    <tr>\n      <th>230946</th>\n      <td>Soul</td>\n      <td>James Brown</td>\n      <td>Papa's Got A Brand New Bag - Pt. 1</td>\n      <td>5aZzmPUv5a2nna9sxBrmpL</td>\n      <td>1</td>\n      <td>0.51900</td>\n      <td>0.775</td>\n      <td>128973</td>\n      <td>0.725</td>\n      <td>0.054100</td>\n      <td>5</td>\n      <td>0.0944</td>\n      <td>-8.369</td>\n      <td>1</td>\n      <td>0.0944</td>\n      <td>129.681</td>\n      <td>0</td>\n      <td>0.9140</td>\n    </tr>\n    <tr>\n      <th>231493</th>\n      <td>Soul</td>\n      <td>Simply Red</td>\n      <td>The Air That I Breathe</td>\n      <td>4Sfq2ZuUK9tS66eXqCCKRF</td>\n      <td>1</td>\n      <td>0.21000</td>\n      <td>0.660</td>\n      <td>262827</td>\n      <td>0.560</td>\n      <td>0.000040</td>\n      <td>2</td>\n      <td>0.0974</td>\n      <td>-8.894</td>\n      <td>1</td>\n      <td>0.0287</td>\n      <td>89.505</td>\n      <td>0</td>\n      <td>0.6410</td>\n    </tr>\n  </tbody>\n</table>\n<p>49104 rows × 18 columns</p>\n</div>"
     },
     "execution_count": 26,
     "metadata": {},
     "output_type": "execute_result"
    }
   ],
   "source": [
    "df.loc[df['popularity']== 1]"
   ]
  },
  {
   "cell_type": "code",
   "execution_count": 28,
   "id": "ad6b1d0b",
   "metadata": {},
   "outputs": [],
   "source": [
    "from sklearn.linear_model import LogisticRegression\n",
    "from sklearn.ensemble import RandomForestClassifier\n",
    "from sklearn.neighbors import KNeighborsClassifier\n",
    "from sklearn.tree import DecisionTreeClassifier\n",
    "from xgboost import XGBClassifier\n",
    "\n",
    "from sklearn.metrics import accuracy_score, roc_auc_score\n",
    "from sklearn.model_selection import train_test_split"
   ]
  },
  {
   "cell_type": "markdown",
   "id": "eb68e16b",
   "metadata": {},
   "source": [
    "**For feature selection, we will select the following features which are only based on music theory and not artist/song information: acousticness, danceability, duration_ms, energy, instrumentalness, key, liveliness, loudness, mode, speeciness, tempo, time_signature, and valence.**"
   ]
  },
  {
   "cell_type": "code",
   "execution_count": 29,
   "id": "947f15ea",
   "metadata": {},
   "outputs": [],
   "source": [
    "features = [\"acousticness\", \"danceability\", \"duration_ms\", \"energy\", \"instrumentalness\", \"key\", \"liveness\", \n",
    "            \"mode\", \"speechiness\", \"tempo\", \"time_signature\", \"valence\"]\n"
   ]
  },
  {
   "cell_type": "code",
   "execution_count": 52,
   "id": "1e1fb054",
   "metadata": {},
   "outputs": [],
   "source": [
    "training = df.sample(frac = 0.8,random_state = 420)\n",
    "X_train = training[features]\n",
    "y_train = training['popularity']\n",
    "X_test = df.drop(training.index)[features]"
   ]
  },
  {
   "cell_type": "code",
   "execution_count": 53,
   "id": "5bfedd6d",
   "metadata": {},
   "outputs": [],
   "source": [
    "X_train, X_valid, y_train, y_valid = train_test_split(X_train, y_train, test_size = 0.2, random_state = 420)"
   ]
  },
  {
   "cell_type": "markdown",
   "source": [
    "# Logistic Regression"
   ],
   "metadata": {
    "collapsed": false
   }
  },
  {
   "cell_type": "code",
   "execution_count": 32,
   "id": "b853b056",
   "metadata": {},
   "outputs": [
    {
     "name": "stdout",
     "output_type": "stream",
     "text": [
      "Accuracy: 0.7895316360511333\n",
      "AUC: 0.5\n"
     ]
    }
   ],
   "source": [
    "# Logistic Regression\n",
    "LR_Model = LogisticRegression()\n",
    "LR_Model.fit(X_train, y_train)\n",
    "LR_Predict = LR_Model.predict(X_valid)\n",
    "LR_Accuracy = accuracy_score(y_valid, LR_Predict)\n",
    "print(\"Accuracy: \" + str(LR_Accuracy))\n",
    "\n",
    "LR_AUC = roc_auc_score(y_valid, LR_Predict) \n",
    "print(\"AUC: \" + str(LR_AUC))"
   ]
  },
  {
   "cell_type": "markdown",
   "source": [
    "# Random Forest Classifier"
   ],
   "metadata": {
    "collapsed": false,
    "pycharm": {
     "name": "#%% md\n"
    }
   }
  },
  {
   "cell_type": "code",
   "execution_count": 33,
   "id": "7fd7bb71",
   "metadata": {},
   "outputs": [
    {
     "name": "stdout",
     "output_type": "stream",
     "text": [
      "Accuracy: 0.9214469867869803\n",
      "AUC: 0.833459224557254\n"
     ]
    }
   ],
   "source": [
    "# Random Forest Classifier\n",
    "RFC_Model = RandomForestClassifier()\n",
    "RFC_Model.fit(X_train, y_train)\n",
    "RFC_Predict = RFC_Model.predict(X_valid)\n",
    "RFC_Accuracy = accuracy_score(y_valid, RFC_Predict)\n",
    "print(\"Accuracy: \" + str(RFC_Accuracy))\n",
    "\n",
    "RFC_AUC = roc_auc_score(y_valid, RFC_Predict) \n",
    "print(\"AUC: \" + str(RFC_AUC))"
   ]
  },
  {
   "cell_type": "code",
   "execution_count": 34,
   "id": "a0c4c438",
   "metadata": {},
   "outputs": [
    {
     "name": "stdout",
     "output_type": "stream",
     "text": [
      "Feature: 0, Score: 0.11530\n",
      "Feature: 1, Score: 0.10770\n",
      "Feature: 2, Score: 0.10860\n",
      "Feature: 3, Score: 0.10647\n",
      "Feature: 4, Score: 0.08794\n",
      "Feature: 5, Score: 0.05013\n",
      "Feature: 6, Score: 0.09767\n",
      "Feature: 7, Score: 0.01222\n",
      "Feature: 8, Score: 0.10481\n",
      "Feature: 9, Score: 0.09811\n",
      "Feature: 10, Score: 0.00695\n",
      "Feature: 11, Score: 0.10411\n"
     ]
    },
    {
     "data": {
      "text/plain": "<Figure size 640x480 with 1 Axes>",
      "image/png": "[encoded data removed]"
     },
     "metadata": {},
     "output_type": "display_data"
    }
   ],
   "source": [
    "# random forest for feature importance on a regression problem\n",
    "\n",
    "#Trying to show the feature name instead of feature 1 , feature 2. Please try if you can show the feature name in the plot\n",
    "\n",
    "from matplotlib import pyplot\n",
    "importance = RFC_Model.feature_importances_\n",
    "importance\n",
    "# summarize feature importance\n",
    "for i,v in enumerate(importance):\n",
    "\tprint('Feature: %0d, Score: %.5f' % (i,v))\n",
    "# plot feature importance\n",
    "pyplot.bar([x for x in range(len(importance))], importance)\n",
    "pyplot.show()"
   ]
  },
  {
   "cell_type": "markdown",
   "id": "7678b82e",
   "metadata": {
    "pycharm": {
     "name": "#%% md\n"
    }
   },
   "source": [
    "# K-Nearest Neighbor Classifier"
   ]
  },
  {
   "cell_type": "code",
   "execution_count": 35,
   "id": "1282bc92",
   "metadata": {},
   "outputs": [
    {
     "name": "stdout",
     "output_type": "stream",
     "text": [
      "Accuracy: 0.7736330432914383\n",
      "AUC: 0.6156631913174396\n"
     ]
    }
   ],
   "source": [
    "# K-Nearest Neighbor\n",
    "KNN_Model = KNeighborsClassifier()\n",
    "KNN_Model.fit(X_train, y_train)\n",
    "KNN_Predict = KNN_Model.predict(X_valid)\n",
    "KNN_Accuracy = accuracy_score(y_valid, KNN_Predict)\n",
    "print(\"Accuracy: \" + str(KNN_Accuracy))\n",
    "\n",
    "KNN_AUC = roc_auc_score(y_valid, KNN_Predict) \n",
    "print(\"AUC: \" + str(KNN_AUC))"
   ]
  },
  {
   "cell_type": "markdown",
   "source": [
    "# Decision Tree Classifier"
   ],
   "metadata": {
    "collapsed": false,
    "pycharm": {
     "name": "#%% md\n"
    }
   }
  },
  {
   "cell_type": "code",
   "execution_count": 36,
   "id": "f300c6ab",
   "metadata": {},
   "outputs": [
    {
     "name": "stdout",
     "output_type": "stream",
     "text": [
      "Accuracy: 0.8510044043398861\n",
      "AUC: 0.8110285286807968\n"
     ]
    }
   ],
   "source": [
    "# Decision Tree Classifier\n",
    "DT_Model = DecisionTreeClassifier()\n",
    "DT_Model.fit(X_train, y_train)\n",
    "DT_Predict = DT_Model.predict(X_valid)\n",
    "DT_Accuracy = accuracy_score(y_valid, DT_Predict)\n",
    "print(\"Accuracy: \" + str(DT_Accuracy))\n",
    "\n",
    "DT_AUC = roc_auc_score(y_valid, DT_Predict) \n",
    "print(\"AUC: \" + str(DT_AUC))"
   ]
  },
  {
   "cell_type": "markdown",
   "source": [
    "# Linear Support Vector Classification"
   ],
   "metadata": {
    "collapsed": false,
    "pycharm": {
     "name": "#%% md\n"
    }
   }
  },
  {
   "cell_type": "code",
   "execution_count": 37,
   "id": "52be9064",
   "metadata": {},
   "outputs": [
    {
     "name": "stdout",
     "output_type": "stream",
     "text": [
      "Accuracy: 0.7085\n",
      "AUC: 0.5724690688300172\n"
     ]
    }
   ],
   "source": [
    "# Linear Support Vector Classification\n",
    "training_LSVC = training.sample(10000)\n",
    "X_train_LSVC = training_LSVC[features]\n",
    "y_train_LSVC = training_LSVC['popularity']\n",
    "X_test_LSVC = df.drop(training_LSVC.index)[features]\n",
    "X_train_LSVC, X_valid_LSVC, y_train_LSVC, y_valid_LSVC = train_test_split(\n",
    "    X_train_LSVC, y_train_LSVC, test_size = 0.2, random_state = 420)\n",
    "\n",
    "LSVC_Model = DecisionTreeClassifier()\n",
    "LSVC_Model.fit(X_train_LSVC, y_train_LSVC)\n",
    "LSVC_Predict = LSVC_Model.predict(X_valid_LSVC)\n",
    "LSVC_Accuracy = accuracy_score(y_valid_LSVC, LSVC_Predict)\n",
    "print(\"Accuracy: \" + str(LSVC_Accuracy))\n",
    "\n",
    "LSVC_AUC = roc_auc_score(y_valid_LSVC, LSVC_Predict) \n",
    "print(\"AUC: \" + str(LSVC_AUC))"
   ]
  },
  {
   "cell_type": "code",
   "execution_count": 54,
   "outputs": [
    {
     "name": "stdout",
     "output_type": "stream",
     "text": [
      "acousticness         float64\n",
      "danceability         float64\n",
      "duration_ms            int64\n",
      "energy               float64\n",
      "instrumentalness     float64\n",
      "key                 category\n",
      "liveness             float64\n",
      "mode                category\n",
      "speechiness          float64\n",
      "tempo                float64\n",
      "time_signature      category\n",
      "valence              float64\n",
      "dtype: object\n"
     ]
    }
   ],
   "source": [
    "print(X_train.dtypes)"
   ],
   "metadata": {
    "collapsed": false,
    "pycharm": {
     "name": "#%%\n"
    }
   }
  },
  {
   "cell_type": "markdown",
   "source": [
    "# XGB Classifier"
   ],
   "metadata": {
    "collapsed": false,
    "pycharm": {
     "name": "#%% md\n"
    }
   }
  },
  {
   "cell_type": "code",
   "execution_count": 57,
   "id": "9111410a",
   "metadata": {},
   "outputs": [
    {
     "ename": "ValueError",
     "evalue": "Experimental support for categorical data is not implemented for current tree method yet.",
     "output_type": "error",
     "traceback": [
      "\u001B[1;31m---------------------------------------------------------------------------\u001B[0m",
      "\u001B[1;31mValueError\u001B[0m                                Traceback (most recent call last)",
      "\u001B[1;32m<ipython-input-57-5a6ae388a900>\u001B[0m in \u001B[0;36m<module>\u001B[1;34m\u001B[0m\n\u001B[0;32m      4\u001B[0m                           \u001B[0menable_categorical\u001B[0m\u001B[1;33m=\u001B[0m\u001B[1;32mTrue\u001B[0m\u001B[1;33m,\u001B[0m\u001B[1;33m\u001B[0m\u001B[1;33m\u001B[0m\u001B[0m\n\u001B[0;32m      5\u001B[0m                           use_label_encoder=False)\n\u001B[1;32m----> 6\u001B[1;33m \u001B[0mXGB_Model\u001B[0m\u001B[1;33m.\u001B[0m\u001B[0mfit\u001B[0m\u001B[1;33m(\u001B[0m\u001B[0mX_train\u001B[0m\u001B[1;33m,\u001B[0m \u001B[0my_train\u001B[0m\u001B[1;33m)\u001B[0m\u001B[1;33m\u001B[0m\u001B[1;33m\u001B[0m\u001B[0m\n\u001B[0m\u001B[0;32m      7\u001B[0m \u001B[0mXGB_Predict\u001B[0m \u001B[1;33m=\u001B[0m \u001B[0mXGB_Model\u001B[0m\u001B[1;33m.\u001B[0m\u001B[0mpredict\u001B[0m\u001B[1;33m(\u001B[0m\u001B[0mX_valid\u001B[0m\u001B[1;33m)\u001B[0m\u001B[1;33m\u001B[0m\u001B[1;33m\u001B[0m\u001B[0m\n\u001B[0;32m      8\u001B[0m \u001B[0mXGB_Accuracy\u001B[0m \u001B[1;33m=\u001B[0m \u001B[0maccuracy_score\u001B[0m\u001B[1;33m(\u001B[0m\u001B[0my_valid\u001B[0m\u001B[1;33m,\u001B[0m \u001B[0mXGB_Predict\u001B[0m\u001B[1;33m)\u001B[0m\u001B[1;33m\u001B[0m\u001B[1;33m\u001B[0m\u001B[0m\n",
      "\u001B[1;32m~\\anaconda3\\envs\\ML1\\lib\\site-packages\\xgboost\\core.py\u001B[0m in \u001B[0;36minner_f\u001B[1;34m(*args, **kwargs)\u001B[0m\n\u001B[0;32m    504\u001B[0m         \u001B[1;32mfor\u001B[0m \u001B[0mk\u001B[0m\u001B[1;33m,\u001B[0m \u001B[0marg\u001B[0m \u001B[1;32min\u001B[0m \u001B[0mzip\u001B[0m\u001B[1;33m(\u001B[0m\u001B[0msig\u001B[0m\u001B[1;33m.\u001B[0m\u001B[0mparameters\u001B[0m\u001B[1;33m,\u001B[0m \u001B[0margs\u001B[0m\u001B[1;33m)\u001B[0m\u001B[1;33m:\u001B[0m\u001B[1;33m\u001B[0m\u001B[1;33m\u001B[0m\u001B[0m\n\u001B[0;32m    505\u001B[0m             \u001B[0mkwargs\u001B[0m\u001B[1;33m[\u001B[0m\u001B[0mk\u001B[0m\u001B[1;33m]\u001B[0m \u001B[1;33m=\u001B[0m \u001B[0marg\u001B[0m\u001B[1;33m\u001B[0m\u001B[1;33m\u001B[0m\u001B[0m\n\u001B[1;32m--> 506\u001B[1;33m         \u001B[1;32mreturn\u001B[0m \u001B[0mf\u001B[0m\u001B[1;33m(\u001B[0m\u001B[1;33m**\u001B[0m\u001B[0mkwargs\u001B[0m\u001B[1;33m)\u001B[0m\u001B[1;33m\u001B[0m\u001B[1;33m\u001B[0m\u001B[0m\n\u001B[0m\u001B[0;32m    507\u001B[0m \u001B[1;33m\u001B[0m\u001B[0m\n\u001B[0;32m    508\u001B[0m     \u001B[1;32mreturn\u001B[0m \u001B[0minner_f\u001B[0m\u001B[1;33m\u001B[0m\u001B[1;33m\u001B[0m\u001B[0m\n",
      "\u001B[1;32m~\\anaconda3\\envs\\ML1\\lib\\site-packages\\xgboost\\sklearn.py\u001B[0m in \u001B[0;36mfit\u001B[1;34m(self, X, y, sample_weight, base_margin, eval_set, eval_metric, early_stopping_rounds, verbose, xgb_model, sample_weight_eval_set, base_margin_eval_set, feature_weights, callbacks)\u001B[0m\n\u001B[0;32m   1228\u001B[0m             \u001B[0mlabel_transform\u001B[0m \u001B[1;33m=\u001B[0m \u001B[1;32mlambda\u001B[0m \u001B[0mx\u001B[0m\u001B[1;33m:\u001B[0m \u001B[0mx\u001B[0m\u001B[1;33m\u001B[0m\u001B[1;33m\u001B[0m\u001B[0m\n\u001B[0;32m   1229\u001B[0m \u001B[1;33m\u001B[0m\u001B[0m\n\u001B[1;32m-> 1230\u001B[1;33m         \u001B[0mmodel\u001B[0m\u001B[1;33m,\u001B[0m \u001B[0mfeval\u001B[0m\u001B[1;33m,\u001B[0m \u001B[0mparams\u001B[0m \u001B[1;33m=\u001B[0m \u001B[0mself\u001B[0m\u001B[1;33m.\u001B[0m\u001B[0m_configure_fit\u001B[0m\u001B[1;33m(\u001B[0m\u001B[0mxgb_model\u001B[0m\u001B[1;33m,\u001B[0m \u001B[0meval_metric\u001B[0m\u001B[1;33m,\u001B[0m \u001B[0mparams\u001B[0m\u001B[1;33m)\u001B[0m\u001B[1;33m\u001B[0m\u001B[1;33m\u001B[0m\u001B[0m\n\u001B[0m\u001B[0;32m   1231\u001B[0m         train_dmatrix, evals = _wrap_evaluation_matrices(\n\u001B[0;32m   1232\u001B[0m             \u001B[0mmissing\u001B[0m\u001B[1;33m=\u001B[0m\u001B[0mself\u001B[0m\u001B[1;33m.\u001B[0m\u001B[0mmissing\u001B[0m\u001B[1;33m,\u001B[0m\u001B[1;33m\u001B[0m\u001B[1;33m\u001B[0m\u001B[0m\n",
      "\u001B[1;32m~\\anaconda3\\envs\\ML1\\lib\\site-packages\\xgboost\\sklearn.py\u001B[0m in \u001B[0;36m_configure_fit\u001B[1;34m(self, booster, eval_metric, params)\u001B[0m\n\u001B[0;32m    653\u001B[0m         \u001B[1;32mif\u001B[0m \u001B[0mself\u001B[0m\u001B[1;33m.\u001B[0m\u001B[0menable_categorical\u001B[0m \u001B[1;32mand\u001B[0m \u001B[0mparams\u001B[0m\u001B[1;33m.\u001B[0m\u001B[0mget\u001B[0m\u001B[1;33m(\u001B[0m\u001B[1;34m\"tree_method\"\u001B[0m\u001B[1;33m,\u001B[0m \u001B[1;32mNone\u001B[0m\u001B[1;33m)\u001B[0m \u001B[1;33m!=\u001B[0m \u001B[1;34m\"gpu_hist\"\u001B[0m\u001B[1;33m:\u001B[0m\u001B[1;33m\u001B[0m\u001B[1;33m\u001B[0m\u001B[0m\n\u001B[0;32m    654\u001B[0m             raise ValueError(\n\u001B[1;32m--> 655\u001B[1;33m                 \u001B[1;34m\"Experimental support for categorical data is not implemented for\"\u001B[0m\u001B[1;33m\u001B[0m\u001B[1;33m\u001B[0m\u001B[0m\n\u001B[0m\u001B[0;32m    656\u001B[0m                 \u001B[1;34m\" current tree method yet.\"\u001B[0m\u001B[1;33m\u001B[0m\u001B[1;33m\u001B[0m\u001B[0m\n\u001B[0;32m    657\u001B[0m             )\n",
      "\u001B[1;31mValueError\u001B[0m: Experimental support for categorical data is not implemented for current tree method yet."
     ]
    }
   ],
   "source": [
    "XGB_Model = XGBClassifier(objective = \"binary:logistic\",\n",
    "                          n_estimators = 10,\n",
    "                          seed = 123,\n",
    "                          enable_categorical=True,\n",
    "                          use_label_encoder=False)\n",
    "XGB_Model.fit(X_train, y_train)\n",
    "XGB_Predict = XGB_Model.predict(X_valid)\n",
    "XGB_Accuracy = accuracy_score(y_valid, XGB_Predict)\n",
    "print(\"Accuracy: \" + str(XGB_Accuracy))\n",
    "\n",
    "XGB_AUC = roc_auc_score(y_valid, XGB_Predict) \n",
    "print(\"AUC: \" + str(XGB_AUC))"
   ]
  },
  {
   "cell_type": "code",
   "execution_count": null,
   "id": "922a394a",
   "metadata": {},
   "outputs": [],
   "source": [
    "#  GENRE CLASSIFICATION \n",
    "from sklearn.model_selection import train_test_split\n",
    "import time\n",
    "\n",
    "X = df.drop(columns=['genre'])\n",
    "y = df['genre']\n",
    "random_state = 11\n",
    "test_size = 0.2\n",
    "X_train, X_valid, y_train, y_valid = train_test_split(X, y, test_size=test_size, random_state=random_state)"
   ]
  },
  {
   "cell_type": "code",
   "execution_count": null,
   "id": "5436cf6a",
   "metadata": {},
   "outputs": [],
   "source": [
    "y_train.value_counts().sort_index()"
   ]
  },
  {
   "cell_type": "code",
   "execution_count": null,
   "id": "afe95a5d",
   "metadata": {},
   "outputs": [],
   "source": [
    "from sklearn.linear_model import LogisticRegression\n",
    "model = LogisticRegression(multi_class = 'multinomial', solver='lbfgs', max_iter=200)"
   ]
  },
  {
   "cell_type": "code",
   "execution_count": null,
   "id": "c14045bc",
   "metadata": {},
   "outputs": [],
   "source": [
    "#model.fit(X_train, y_train)"
   ]
  },
  {
   "cell_type": "code",
   "execution_count": null,
   "id": "4df532c9",
   "metadata": {},
   "outputs": [],
   "source": []
  }
 ],
 "metadata": {
  "kernelspec": {
   "display_name": "Python 3",
   "language": "python",
   "name": "python3"
  },
  "language_info": {
   "codemirror_mode": {
    "name": "ipython",
    "version": 3
   },
   "file_extension": ".py",
   "mimetype": "text/x-python",
   "name": "python",
   "nbconvert_exporter": "python",
   "pygments_lexer": "ipython3",
   "version": "3.8.8"
  }
 },
 "nbformat": 4,
 "nbformat_minor": 5
}
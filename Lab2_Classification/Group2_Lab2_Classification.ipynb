{
 "cells": [
  {
   "cell_type": "markdown",
   "metadata": {
    "collapsed": true,
    "pycharm": {
     "name": "#%% md\n"
    }
   },
   "source": [
    "___\n",
    "**GROUP 2**\n",
    "- Name 1: Taylor Bonar\n",
    "- Name 2: Robert Burigo\n",
    "- Name 3: Rashmi Patel\n",
    "- Name 4: Scott Englerth\n",
    "___\n",
    "# Project Details\n",
    "You are to build upon the predictive analysis (classification) that you already completed in the\n",
    "previous mini-project, adding additional modeling from new classification algorithms as well as\n",
    "more explanations that are inline with the CRISP-DM framework. You should use appropriate cross\n",
    "validation for all of your analysis (explain your chosen method of performance validation in detail).\n",
    "Try to use as much testing data as possible in a realistic manner (you should define what you think\n",
    "is realistic and why).\n",
    "\n",
    "## Dataset Selection\n",
    "You must identify two tasks from the dataset to regress or classify. That is:\n",
    "* two classification tasks OR\n",
    "* two regression tasks OR\n",
    "* one classification task and one regression task\n",
    "\n",
    "For our tasks, we will look into one classification task and one regression task:\n",
    "* Classifying multiclass genre classifications based on audio features\n",
    "* Regression on predicting a song's popularity based on audio features"
   ]
  },
  {
   "cell_type": "markdown",
   "source": [
    "## Data Preparation\n",
    "Define and prepare your class variables. Use proper variable\n",
    "representations (int, float, one-hot, etc.). Use pre-processing methods (as needed) for\n",
    "dimensionality reduction, scaling, etc. Remove variables that are not needed/useful for\n",
    "the analysis\n",
    "### Data Importing"
   ],
   "metadata": {
    "collapsed": false
   }
  },
  {
   "cell_type": "code",
   "execution_count": 155,
   "outputs": [],
   "source": [
    "import os\n",
    "import pandas as pd  # working w/ data frames\n",
    "\n",
    "# Classification Techniques\n",
    "from sklearn.linear_model import LogisticRegression\n",
    "from sklearn.ensemble import RandomForestClassifier\n",
    "\n",
    "from sklearn.metrics import accuracy_score, roc_auc_score\n",
    "from sklearn.model_selection import train_test_split"
   ],
   "metadata": {
    "collapsed": false,
    "pycharm": {
     "name": "#%%\n"
    }
   }
  },
  {
   "cell_type": "code",
   "execution_count": 156,
   "outputs": [
    {
     "data": {
      "text/plain": "   genre        artist_name                        track_name  \\\n0  Movie     Henri Salvador       C'est beau de faire un Show   \n1  Movie  Martin & les fées  Perdu d'avance (par Gad Elmaleh)   \n2  Movie    Joseph Williams    Don't Let Me Be Lonely Tonight   \n3  Movie     Henri Salvador    Dis-moi Monsieur Gordon Cooper   \n4  Movie       Fabien Nataf                         Ouverture   \n\n                 track_id  popularity  acousticness  danceability  \\\n0  0BRjO6ga9RKCKjfDqeFgWV           0         0.611         0.389   \n1  0BjC1NfoEOOusryehmNudP           1         0.246         0.590   \n2  0CoSDzoNIKCRs124s9uTVy           3         0.952         0.663   \n3  0Gc6TVm52BwZD07Ki6tIvf           0         0.703         0.240   \n4  0IuslXpMROHdEPvSl1fTQK           4         0.950         0.331   \n\n   duration_ms  energy  instrumentalness key  liveness  loudness   mode  \\\n0        99373   0.910             0.000  C#    0.3460    -1.828  Major   \n1       137373   0.737             0.000  F#    0.1510    -5.559  Minor   \n2       170267   0.131             0.000   C    0.1030   -13.879  Minor   \n3       152427   0.326             0.000  C#    0.0985   -12.178  Major   \n4        82625   0.225             0.123   F    0.2020   -21.150  Major   \n\n   speechiness    tempo time_signature  valence  \n0       0.0525  166.969            4/4    0.814  \n1       0.0868  174.003            4/4    0.816  \n2       0.0362   99.488            5/4    0.368  \n3       0.0395  171.758            4/4    0.227  \n4       0.0456  140.576            4/4    0.390  ",
      "text/html": "<div>\n<style scoped>\n    .dataframe tbody tr th:only-of-type {\n        vertical-align: middle;\n    }\n\n    .dataframe tbody tr th {\n        vertical-align: top;\n    }\n\n    .dataframe thead th {\n        text-align: right;\n    }\n</style>\n<table border=\"1\" class=\"dataframe\">\n  <thead>\n    <tr style=\"text-align: right;\">\n      <th></th>\n      <th>genre</th>\n      <th>artist_name</th>\n      <th>track_name</th>\n      <th>track_id</th>\n      <th>popularity</th>\n      <th>acousticness</th>\n      <th>danceability</th>\n      <th>duration_ms</th>\n      <th>energy</th>\n      <th>instrumentalness</th>\n      <th>key</th>\n      <th>liveness</th>\n      <th>loudness</th>\n      <th>mode</th>\n      <th>speechiness</th>\n      <th>tempo</th>\n      <th>time_signature</th>\n      <th>valence</th>\n    </tr>\n  </thead>\n  <tbody>\n    <tr>\n      <th>0</th>\n      <td>Movie</td>\n      <td>Henri Salvador</td>\n      <td>C'est beau de faire un Show</td>\n      <td>0BRjO6ga9RKCKjfDqeFgWV</td>\n      <td>0</td>\n      <td>0.611</td>\n      <td>0.389</td>\n      <td>99373</td>\n      <td>0.910</td>\n      <td>0.000</td>\n      <td>C#</td>\n      <td>0.3460</td>\n      <td>-1.828</td>\n      <td>Major</td>\n      <td>0.0525</td>\n      <td>166.969</td>\n      <td>4/4</td>\n      <td>0.814</td>\n    </tr>\n    <tr>\n      <th>1</th>\n      <td>Movie</td>\n      <td>Martin &amp; les fées</td>\n      <td>Perdu d'avance (par Gad Elmaleh)</td>\n      <td>0BjC1NfoEOOusryehmNudP</td>\n      <td>1</td>\n      <td>0.246</td>\n      <td>0.590</td>\n      <td>137373</td>\n      <td>0.737</td>\n      <td>0.000</td>\n      <td>F#</td>\n      <td>0.1510</td>\n      <td>-5.559</td>\n      <td>Minor</td>\n      <td>0.0868</td>\n      <td>174.003</td>\n      <td>4/4</td>\n      <td>0.816</td>\n    </tr>\n    <tr>\n      <th>2</th>\n      <td>Movie</td>\n      <td>Joseph Williams</td>\n      <td>Don't Let Me Be Lonely Tonight</td>\n      <td>0CoSDzoNIKCRs124s9uTVy</td>\n      <td>3</td>\n      <td>0.952</td>\n      <td>0.663</td>\n      <td>170267</td>\n      <td>0.131</td>\n      <td>0.000</td>\n      <td>C</td>\n      <td>0.1030</td>\n      <td>-13.879</td>\n      <td>Minor</td>\n      <td>0.0362</td>\n      <td>99.488</td>\n      <td>5/4</td>\n      <td>0.368</td>\n    </tr>\n    <tr>\n      <th>3</th>\n      <td>Movie</td>\n      <td>Henri Salvador</td>\n      <td>Dis-moi Monsieur Gordon Cooper</td>\n      <td>0Gc6TVm52BwZD07Ki6tIvf</td>\n      <td>0</td>\n      <td>0.703</td>\n      <td>0.240</td>\n      <td>152427</td>\n      <td>0.326</td>\n      <td>0.000</td>\n      <td>C#</td>\n      <td>0.0985</td>\n      <td>-12.178</td>\n      <td>Major</td>\n      <td>0.0395</td>\n      <td>171.758</td>\n      <td>4/4</td>\n      <td>0.227</td>\n    </tr>\n    <tr>\n      <th>4</th>\n      <td>Movie</td>\n      <td>Fabien Nataf</td>\n      <td>Ouverture</td>\n      <td>0IuslXpMROHdEPvSl1fTQK</td>\n      <td>4</td>\n      <td>0.950</td>\n      <td>0.331</td>\n      <td>82625</td>\n      <td>0.225</td>\n      <td>0.123</td>\n      <td>F</td>\n      <td>0.2020</td>\n      <td>-21.150</td>\n      <td>Major</td>\n      <td>0.0456</td>\n      <td>140.576</td>\n      <td>4/4</td>\n      <td>0.390</td>\n    </tr>\n  </tbody>\n</table>\n</div>"
     },
     "execution_count": 156,
     "metadata": {},
     "output_type": "execute_result"
    }
   ],
   "source": [
    "file_path = os.path.join(os.getcwd(), \"SpotifyFeatures.csv\")\n",
    "\n",
    "#Loading in csv Spotify dataset\n",
    "df = pd.read_csv(file_path)  # read in the csv file\n",
    "\n",
    "# Data Import Check\n",
    "df.head()"
   ],
   "metadata": {
    "collapsed": false,
    "pycharm": {
     "name": "#%%\n"
    }
   }
  },
  {
   "cell_type": "markdown",
   "source": [
    "### Data Inspection\n",
    "#### Duplicates"
   ],
   "metadata": {
    "collapsed": false,
    "pycharm": {
     "name": "#%% md\n"
    }
   }
  },
  {
   "cell_type": "code",
   "source": [
    "print(df[df.duplicated(keep=False)])"
   ],
   "metadata": {
    "collapsed": false,
    "pycharm": {
     "name": "#%%\n"
    }
   },
   "execution_count": 157,
   "outputs": [
    {
     "name": "stdout",
     "output_type": "stream",
     "text": [
      "Empty DataFrame\n",
      "Columns: [genre, artist_name, track_name, track_id, popularity, acousticness, danceability, duration_ms, energy, instrumentalness, key, liveness, loudness, mode, speechiness, tempo, time_signature, valence]\n",
      "Index: []\n"
     ]
    }
   ]
  },
  {
   "cell_type": "markdown",
   "source": [
    "After our initial import of the dataset, there appears to be no duplicated rows when checking all the columns, but let's\n",
    "take a second look at our dataset for specifically track_id, the Spotify identifier for a specific song."
   ],
   "metadata": {
    "collapsed": false,
    "pycharm": {
     "name": "#%% md\n"
    }
   }
  },
  {
   "cell_type": "code",
   "execution_count": 172,
   "outputs": [
    {
     "data": {
      "text/plain": "                   genre  artist_name track_name                track_id  \\\n142                  R&B  Frank Ocean  Seigfried  1BViPjTT585XAhkUUrkts0   \n1385         Alternative  Frank Ocean  Seigfried  1BViPjTT585XAhkUUrkts0   \n68573            Hip-Hop  Frank Ocean  Seigfried  1BViPjTT585XAhkUUrkts0   \n77577   Children’s Music  Frank Ocean  Seigfried  1BViPjTT585XAhkUUrkts0   \n192149              Soul  Frank Ocean  Seigfried  1BViPjTT585XAhkUUrkts0   \n\n        popularity  acousticness  danceability  duration_ms  energy  \\\n142             66         0.975         0.377       334570   0.255   \n1385            61         0.975         0.377       334570   0.255   \n68573           66         0.975         0.377       334570   0.255   \n77577           66         0.975         0.377       334570   0.255   \n192149          66         0.975         0.377       334570   0.255   \n\n        instrumentalness key  liveness  loudness   mode  speechiness    tempo  \\\n142             0.000208   E     0.102   -11.165  Minor       0.0387  125.004   \n1385            0.000208   E     0.102   -11.165  Minor       0.0387  125.004   \n68573           0.000208   E     0.102   -11.165  Minor       0.0387  125.004   \n77577           0.000208   E     0.102   -11.165  Minor       0.0387  125.004   \n192149          0.000208   E     0.102   -11.165  Minor       0.0387  125.004   \n\n       time_signature  valence  \n142               5/4     0.37  \n1385              5/4     0.37  \n68573             5/4     0.37  \n77577             5/4     0.37  \n192149            5/4     0.37  ",
      "text/html": "<div>\n<style scoped>\n    .dataframe tbody tr th:only-of-type {\n        vertical-align: middle;\n    }\n\n    .dataframe tbody tr th {\n        vertical-align: top;\n    }\n\n    .dataframe thead th {\n        text-align: right;\n    }\n</style>\n<table border=\"1\" class=\"dataframe\">\n  <thead>\n    <tr style=\"text-align: right;\">\n      <th></th>\n      <th>genre</th>\n      <th>artist_name</th>\n      <th>track_name</th>\n      <th>track_id</th>\n      <th>popularity</th>\n      <th>acousticness</th>\n      <th>danceability</th>\n      <th>duration_ms</th>\n      <th>energy</th>\n      <th>instrumentalness</th>\n      <th>key</th>\n      <th>liveness</th>\n      <th>loudness</th>\n      <th>mode</th>\n      <th>speechiness</th>\n      <th>tempo</th>\n      <th>time_signature</th>\n      <th>valence</th>\n    </tr>\n  </thead>\n  <tbody>\n    <tr>\n      <th>142</th>\n      <td>R&amp;B</td>\n      <td>Frank Ocean</td>\n      <td>Seigfried</td>\n      <td>1BViPjTT585XAhkUUrkts0</td>\n      <td>66</td>\n      <td>0.975</td>\n      <td>0.377</td>\n      <td>334570</td>\n      <td>0.255</td>\n      <td>0.000208</td>\n      <td>E</td>\n      <td>0.102</td>\n      <td>-11.165</td>\n      <td>Minor</td>\n      <td>0.0387</td>\n      <td>125.004</td>\n      <td>5/4</td>\n      <td>0.37</td>\n    </tr>\n    <tr>\n      <th>1385</th>\n      <td>Alternative</td>\n      <td>Frank Ocean</td>\n      <td>Seigfried</td>\n      <td>1BViPjTT585XAhkUUrkts0</td>\n      <td>61</td>\n      <td>0.975</td>\n      <td>0.377</td>\n      <td>334570</td>\n      <td>0.255</td>\n      <td>0.000208</td>\n      <td>E</td>\n      <td>0.102</td>\n      <td>-11.165</td>\n      <td>Minor</td>\n      <td>0.0387</td>\n      <td>125.004</td>\n      <td>5/4</td>\n      <td>0.37</td>\n    </tr>\n    <tr>\n      <th>68573</th>\n      <td>Hip-Hop</td>\n      <td>Frank Ocean</td>\n      <td>Seigfried</td>\n      <td>1BViPjTT585XAhkUUrkts0</td>\n      <td>66</td>\n      <td>0.975</td>\n      <td>0.377</td>\n      <td>334570</td>\n      <td>0.255</td>\n      <td>0.000208</td>\n      <td>E</td>\n      <td>0.102</td>\n      <td>-11.165</td>\n      <td>Minor</td>\n      <td>0.0387</td>\n      <td>125.004</td>\n      <td>5/4</td>\n      <td>0.37</td>\n    </tr>\n    <tr>\n      <th>77577</th>\n      <td>Children’s Music</td>\n      <td>Frank Ocean</td>\n      <td>Seigfried</td>\n      <td>1BViPjTT585XAhkUUrkts0</td>\n      <td>66</td>\n      <td>0.975</td>\n      <td>0.377</td>\n      <td>334570</td>\n      <td>0.255</td>\n      <td>0.000208</td>\n      <td>E</td>\n      <td>0.102</td>\n      <td>-11.165</td>\n      <td>Minor</td>\n      <td>0.0387</td>\n      <td>125.004</td>\n      <td>5/4</td>\n      <td>0.37</td>\n    </tr>\n    <tr>\n      <th>192149</th>\n      <td>Soul</td>\n      <td>Frank Ocean</td>\n      <td>Seigfried</td>\n      <td>1BViPjTT585XAhkUUrkts0</td>\n      <td>66</td>\n      <td>0.975</td>\n      <td>0.377</td>\n      <td>334570</td>\n      <td>0.255</td>\n      <td>0.000208</td>\n      <td>E</td>\n      <td>0.102</td>\n      <td>-11.165</td>\n      <td>Minor</td>\n      <td>0.0387</td>\n      <td>125.004</td>\n      <td>5/4</td>\n      <td>0.37</td>\n    </tr>\n  </tbody>\n</table>\n</div>"
     },
     "execution_count": 172,
     "metadata": {},
     "output_type": "execute_result"
    }
   ],
   "source": [
    "duplicated_all = df[df.duplicated(subset = 'track_id', keep=False)]\n",
    "duplicated = df[df.duplicated(subset = 'track_id', keep='first')]\n",
    "df[df['track_id'] == duplicated['track_id'].iloc[1]] # Because I wanted to show Frank Ocean"
   ],
   "metadata": {
    "collapsed": false,
    "pycharm": {
     "name": "#%%\n"
    }
   }
  },
  {
   "cell_type": "markdown",
   "source": [
    "With this we can see that the Spotify API has a limitation for handling multi-genre songs. We'll need to identify\n",
    "how many of our songs are duplicated but marked with different genres to see how this may affect our model later."
   ],
   "metadata": {
    "collapsed": false,
    "pycharm": {
     "name": "#%% md\n"
    }
   }
  },
  {
   "cell_type": "code",
   "execution_count": 179,
   "outputs": [
    {
     "name": "stdout",
     "output_type": "stream",
     "text": [
      "Original Dataset's Unique Duplicates: 275\n",
      "Original Dataset's Total Duplicates: 550\n",
      "Original Dataset's Total Data: 232725\n",
      "Original Dataset's Duplicates %: 0.24\n"
     ]
    }
   ],
   "source": [
    "og_duplicates_shape = duplicated.shape[0]\n",
    "og_total_dupes = duplicated_all.shape[0]\n",
    "og_total_df_records = df.shape[0]\n",
    "og_dupe_percentage = round(duplicated_all.shape[0]/df.shape[0]*100, 2)\n",
    "\n",
    "print(f'''Original Dataset's Unique Duplicates: {og_duplicates_shape}\n",
    "Original Dataset's Total Duplicates: {og_total_dupes}\n",
    "Original Dataset's Total Data: {og_total_df_records}\n",
    "Original Dataset's Duplicates %: {og_dupe_percentage}''')"
   ],
   "metadata": {
    "collapsed": false,
    "pycharm": {
     "name": "#%%\n"
    }
   }
  },
  {
   "cell_type": "markdown",
   "source": [
    "We have a large portion of our dataset that are duplicate songs but marked as different genres. As we do not have a\n",
    "secondary source to supplement and reduce this dimensionality, we'll have to proceed with caution and note this as\n",
    "a potential performance reducer.\n",
    "\n",
    "However, for our regression task, we can simply drop the genre feature as it is not part of the audio features we plan\n",
    "on using for our model and its task of predicting a track's popularity. Then we can keep all unique rows to simplify the\n",
    "regression dataset."
   ],
   "metadata": {
    "collapsed": false,
    "pycharm": {
     "name": "#%% md\n"
    }
   }
  },
  {
   "cell_type": "code",
   "execution_count": 181,
   "outputs": [
    {
     "data": {
      "text/plain": "     artist_name track_name                track_id  popularity  acousticness  \\\n276     Tobi Lou  Buff Baby  1F1QmI8TMHir9SUFrooq5F          62          0.19   \n1634    tobi lou  Buff Baby  1F1QmI8TMHir9SUFrooq5F          59          0.19   \n\n      danceability  duration_ms  energy  instrumentalness key  liveness  \\\n276          0.736       215385   0.643               0.0   F     0.106   \n1634         0.736       215385   0.643               0.0   F     0.106   \n\n      loudness   mode  speechiness    tempo time_signature  valence  \n276     -8.636  Major       0.0461  156.002            4/4    0.599  \n1634    -8.636  Major       0.0461  156.002            4/4    0.599  ",
      "text/html": "<div>\n<style scoped>\n    .dataframe tbody tr th:only-of-type {\n        vertical-align: middle;\n    }\n\n    .dataframe tbody tr th {\n        vertical-align: top;\n    }\n\n    .dataframe thead th {\n        text-align: right;\n    }\n</style>\n<table border=\"1\" class=\"dataframe\">\n  <thead>\n    <tr style=\"text-align: right;\">\n      <th></th>\n      <th>artist_name</th>\n      <th>track_name</th>\n      <th>track_id</th>\n      <th>popularity</th>\n      <th>acousticness</th>\n      <th>danceability</th>\n      <th>duration_ms</th>\n      <th>energy</th>\n      <th>instrumentalness</th>\n      <th>key</th>\n      <th>liveness</th>\n      <th>loudness</th>\n      <th>mode</th>\n      <th>speechiness</th>\n      <th>tempo</th>\n      <th>time_signature</th>\n      <th>valence</th>\n    </tr>\n  </thead>\n  <tbody>\n    <tr>\n      <th>276</th>\n      <td>Tobi Lou</td>\n      <td>Buff Baby</td>\n      <td>1F1QmI8TMHir9SUFrooq5F</td>\n      <td>62</td>\n      <td>0.19</td>\n      <td>0.736</td>\n      <td>215385</td>\n      <td>0.643</td>\n      <td>0.0</td>\n      <td>F</td>\n      <td>0.106</td>\n      <td>-8.636</td>\n      <td>Major</td>\n      <td>0.0461</td>\n      <td>156.002</td>\n      <td>4/4</td>\n      <td>0.599</td>\n    </tr>\n    <tr>\n      <th>1634</th>\n      <td>tobi lou</td>\n      <td>Buff Baby</td>\n      <td>1F1QmI8TMHir9SUFrooq5F</td>\n      <td>59</td>\n      <td>0.19</td>\n      <td>0.736</td>\n      <td>215385</td>\n      <td>0.643</td>\n      <td>0.0</td>\n      <td>F</td>\n      <td>0.106</td>\n      <td>-8.636</td>\n      <td>Major</td>\n      <td>0.0461</td>\n      <td>156.002</td>\n      <td>4/4</td>\n      <td>0.599</td>\n    </tr>\n  </tbody>\n</table>\n</div>"
     },
     "execution_count": 181,
     "metadata": {},
     "output_type": "execute_result"
    }
   ],
   "source": [
    "df_audio_reg_feats = df.drop(columns=[\"genre\"]).reset_index(drop=True)\n",
    "df_audio_reg_feats.drop_duplicates(subset=['artist_name','track_name','track_id'], keep='first',inplace=True)\n",
    "\n",
    "duplicated_all = df_audio_reg_feats[df_audio_reg_feats.duplicated(subset = 'track_id', keep=False)]\n",
    "duplicated = df_audio_reg_feats[df_audio_reg_feats.duplicated(subset = 'track_id', keep='first')]\n",
    "df_audio_reg_feats[df_audio_reg_feats['track_id'] == duplicated['track_id'].iloc[0]]"
   ],
   "metadata": {
    "collapsed": false,
    "pycharm": {
     "name": "#%%\n"
    }
   }
  },
  {
   "cell_type": "code",
   "execution_count": 180,
   "outputs": [
    {
     "name": "stdout",
     "output_type": "stream",
     "text": [
      "Regression Dataset's Unique Duplicates: 275\n",
      "Regression Dataset's Total Duplicates: 550\n",
      "Regression Dataset's Total Data: 177049\n",
      "Regression Dataset's Duplicates %: 0.31\n"
     ]
    }
   ],
   "source": [
    "duplicates_shape = duplicated.shape[0]\n",
    "total_dupes = duplicated_all.shape[0]\n",
    "total_df_records = df_audio_reg_feats.shape[0]\n",
    "dupe_percentage = round(duplicated_all.shape[0]/df_audio_reg_feats.shape[0]*100, 2)\n",
    "\n",
    "print(f'''Regression Dataset's Unique Duplicates: {duplicates_shape}\n",
    "Regression Dataset's Total Duplicates: {total_dupes}\n",
    "Regression Dataset's Total Data: {total_df_records}\n",
    "Regression Dataset's Duplicates %: {dupe_percentage}''')"
   ],
   "metadata": {
    "collapsed": false,
    "pycharm": {
     "name": "#%%\n"
    }
   }
  },
  {
   "cell_type": "markdown",
   "source": [
    "For the regression dataset, we can now see that after dropping genre, and then dropping duplicates based off the track_id,\n",
    "track_name, and artist_name, we've reduced our duplication and records size considerably. There is however, still a small\n",
    "percentage of duplicate records with the only difference being popularity. This may be a shortsight on how the data was\n",
    "collected from Spotify and could be due to the repeated scraping of their API that shows a changee in popularity over time.\n",
    "\n",
    "We will handle this later during our feature/variable type conversion via hot-encoding."
   ],
   "metadata": {
    "collapsed": false,
    "pycharm": {
     "name": "#%% md\n"
    }
   }
  },
  {
   "cell_type": "markdown",
   "source": [
    "#### Feature Dropping\n",
    "As we are wanting to identify a specific song's genre based off its audio features, we will drop\n",
    "some unnecessary attributes as they are song identifiers, and not audio features:\n",
    "* artist_name\n",
    "* track_name\n",
    "\n",
    "However, we will keep popularity and duration_ms and evaluate if they are useful for a given model's performance for\n",
    "classification task and may be useful in our regression task."
   ],
   "metadata": {
    "collapsed": false,
    "pycharm": {
     "name": "#%% md\n"
    }
   }
  },
  {
   "cell_type": "code",
   "execution_count": 115,
   "outputs": [
    {
     "name": "stdout",
     "output_type": "stream",
     "text": [
      "Features for classifier: Index(['genre', 'track_id', 'popularity', 'acousticness', 'danceability',\n",
      "       'duration_ms', 'energy', 'instrumentalness', 'key', 'liveness',\n",
      "       'loudness', 'mode', 'speechiness', 'tempo', 'time_signature',\n",
      "       'valence'],\n",
      "      dtype='object')\n",
      "Features for regression: Index(['track_id', 'popularity', 'acousticness', 'danceability', 'duration_ms',\n",
      "       'energy', 'instrumentalness', 'key', 'liveness', 'loudness', 'mode',\n",
      "       'speechiness', 'tempo', 'time_signature', 'valence'],\n",
      "      dtype='object')\n"
     ]
    }
   ],
   "source": [
    "df_audio_feats = df.drop(columns=[\"artist_name\", \"track_name\"]).reset_index(drop=True)\n",
    "print(f'Features for classifier: {df_audio_feats.columns}')\n",
    "df_audio_reg_feats = df_audio_reg_feats.drop(columns=[\"artist_name\", \"track_name\"]).reset_index(drop=True)\n",
    "print(f'Features for regression: {df_audio_reg_feats.columns}')"
   ],
   "metadata": {
    "collapsed": false,
    "pycharm": {
     "name": "#%%\n"
    }
   }
  },
  {
   "cell_type": "code",
   "execution_count": 117,
   "outputs": [
    {
     "name": "stdout",
     "output_type": "stream",
     "text": [
      "<class 'pandas.core.frame.DataFrame'>\n",
      "RangeIndex: 232725 entries, 0 to 232724\n",
      "Data columns (total 16 columns):\n",
      " #   Column            Non-Null Count   Dtype  \n",
      "---  ------            --------------   -----  \n",
      " 0   genre             232725 non-null  object \n",
      " 1   track_id          232725 non-null  object \n",
      " 2   popularity        232725 non-null  int64  \n",
      " 3   acousticness      232725 non-null  float64\n",
      " 4   danceability      232725 non-null  float64\n",
      " 5   duration_ms       232725 non-null  int64  \n",
      " 6   energy            232725 non-null  float64\n",
      " 7   instrumentalness  232725 non-null  float64\n",
      " 8   key               232725 non-null  object \n",
      " 9   liveness          232725 non-null  float64\n",
      " 10  loudness          232725 non-null  float64\n",
      " 11  mode              232725 non-null  object \n",
      " 12  speechiness       232725 non-null  float64\n",
      " 13  tempo             232725 non-null  float64\n",
      " 14  time_signature    232725 non-null  object \n",
      " 15  valence           232725 non-null  float64\n",
      "dtypes: float64(9), int64(2), object(5)\n",
      "memory usage: 28.4+ MB\n",
      "Total missing classifier features: 0\n",
      "Total missing regression features: 0\n"
     ]
    }
   ],
   "source": [
    "df_audio_feats.info() # Use df_audio_feats as its the same as df_audio_reg_feats w/ genre still in it\n",
    "print(f'Total missing classifier features: {df_audio_feats.isna().sum().sum()}')\n",
    "print(f'Total missing regression features: {df_audio_reg_feats.isna().sum().sum()}')"
   ],
   "metadata": {
    "collapsed": false,
    "pycharm": {
     "name": "#%%\n"
    }
   }
  },
  {
   "cell_type": "markdown",
   "source": [
    "We currently have no missing values in our dataset.\n",
    "#### Feature Type Correction\n",
    "However, we have several features that are typed as an object, but are distinct nominal\n",
    "categorical variables that we should take note. We need to transform these variables\n",
    "into a \"dtype\" or \"Series\" to save memory, logical sorting on categories, or for other Python libraries\n",
    "to treat them as nominal categorical variables for the classification models and do hot-encoding for the regression models:\n",
    "* key\n",
    "* mode\n",
    "* time_signature"
   ],
   "metadata": {
    "collapsed": false,
    "pycharm": {
     "name": "#%% md\n"
    }
   }
  },
  {
   "cell_type": "code",
   "execution_count": 127,
   "outputs": [
    {
     "name": "stdout",
     "output_type": "stream",
     "text": [
      "Data Types for Classifier:\n",
      "genre               category\n",
      "track_id              object\n",
      "popularity             int64\n",
      "acousticness         float64\n",
      "danceability         float64\n",
      "duration_ms            int64\n",
      "energy               float64\n",
      "instrumentalness     float64\n",
      "key                 category\n",
      "liveness             float64\n",
      "loudness             float64\n",
      "mode                category\n",
      "speechiness          float64\n",
      "tempo                float64\n",
      "time_signature      category\n",
      "valence              float64\n",
      "dtype: object\n",
      "\n",
      "Data Types for Regression:\n",
      "track_id             object\n",
      "popularity            int64\n",
      "acousticness        float64\n",
      "danceability        float64\n",
      "duration_ms           int64\n",
      "energy              float64\n",
      "instrumentalness    float64\n",
      "key                  object\n",
      "liveness            float64\n",
      "loudness            float64\n",
      "mode                 object\n",
      "speechiness         float64\n",
      "tempo               float64\n",
      "time_signature       object\n",
      "valence             float64\n",
      "dtype: object\n"
     ]
    }
   ],
   "source": [
    "df_audio_feats[\"key\"] = df_audio_feats[\"key\"].astype('category')\n",
    "df_audio_feats[\"mode\"] = df_audio_feats[\"mode\"].astype('category')\n",
    "df_audio_feats[\"time_signature\"] = df_audio_feats[\"time_signature\"].astype('category')\n",
    "# We'll transform our classification category as well\n",
    "df_audio_feats[\"genre\"] = df_audio_feats[\"genre\"].astype('category')\n",
    "\n",
    "print(f'Data Types for Classifier:\\n{df_audio_feats.dtypes}')\n",
    "print()\n",
    "print(f'Data Types for Regression:\\n{df_audio_reg_feats.dtypes}')"
   ],
   "metadata": {
    "collapsed": false,
    "pycharm": {
     "name": "#%%\n"
    }
   }
  },
  {
   "cell_type": "code",
   "execution_count": 13,
   "outputs": [
    {
     "data": {
      "text/plain": "          popularity   acousticness   danceability   duration_ms  \\\ncount  232725.000000  232725.000000  232725.000000  2.327250e+05   \nmean       41.127502       0.368560       0.554364  2.351223e+05   \nstd        18.189948       0.354768       0.185608  1.189359e+05   \nmin         0.000000       0.000000       0.056900  1.538700e+04   \n25%        29.000000       0.037600       0.435000  1.828570e+05   \n50%        43.000000       0.232000       0.571000  2.204270e+05   \n75%        55.000000       0.722000       0.692000  2.657680e+05   \nmax       100.000000       0.996000       0.989000  5.552917e+06   \n\n              energy  instrumentalness       liveness       loudness  \\\ncount  232725.000000     232725.000000  232725.000000  232725.000000   \nmean        0.570958          0.148301       0.215009      -9.569885   \nstd         0.263456          0.302768       0.198273       5.998204   \nmin         0.000020          0.000000       0.009670     -52.457000   \n25%         0.385000          0.000000       0.097400     -11.771000   \n50%         0.605000          0.000044       0.128000      -7.762000   \n75%         0.787000          0.035800       0.264000      -5.501000   \nmax         0.999000          0.999000       1.000000       3.744000   \n\n         speechiness          tempo        valence  \ncount  232725.000000  232725.000000  232725.000000  \nmean        0.120765     117.666585       0.454917  \nstd         0.185518      30.898907       0.260065  \nmin         0.022200      30.379000       0.000000  \n25%         0.036700      92.959000       0.237000  \n50%         0.050100     115.778000       0.444000  \n75%         0.105000     139.054000       0.660000  \nmax         0.967000     242.903000       1.000000  ",
      "text/html": "<div>\n<style scoped>\n    .dataframe tbody tr th:only-of-type {\n        vertical-align: middle;\n    }\n\n    .dataframe tbody tr th {\n        vertical-align: top;\n    }\n\n    .dataframe thead th {\n        text-align: right;\n    }\n</style>\n<table border=\"1\" class=\"dataframe\">\n  <thead>\n    <tr style=\"text-align: right;\">\n      <th></th>\n      <th>popularity</th>\n      <th>acousticness</th>\n      <th>danceability</th>\n      <th>duration_ms</th>\n      <th>energy</th>\n      <th>instrumentalness</th>\n      <th>liveness</th>\n      <th>loudness</th>\n      <th>speechiness</th>\n      <th>tempo</th>\n      <th>valence</th>\n    </tr>\n  </thead>\n  <tbody>\n    <tr>\n      <th>count</th>\n      <td>232725.000000</td>\n      <td>232725.000000</td>\n      <td>232725.000000</td>\n      <td>2.327250e+05</td>\n      <td>232725.000000</td>\n      <td>232725.000000</td>\n      <td>232725.000000</td>\n      <td>232725.000000</td>\n      <td>232725.000000</td>\n      <td>232725.000000</td>\n      <td>232725.000000</td>\n    </tr>\n    <tr>\n      <th>mean</th>\n      <td>41.127502</td>\n      <td>0.368560</td>\n      <td>0.554364</td>\n      <td>2.351223e+05</td>\n      <td>0.570958</td>\n      <td>0.148301</td>\n      <td>0.215009</td>\n      <td>-9.569885</td>\n      <td>0.120765</td>\n      <td>117.666585</td>\n      <td>0.454917</td>\n    </tr>\n    <tr>\n      <th>std</th>\n      <td>18.189948</td>\n      <td>0.354768</td>\n      <td>0.185608</td>\n      <td>1.189359e+05</td>\n      <td>0.263456</td>\n      <td>0.302768</td>\n      <td>0.198273</td>\n      <td>5.998204</td>\n      <td>0.185518</td>\n      <td>30.898907</td>\n      <td>0.260065</td>\n    </tr>\n    <tr>\n      <th>min</th>\n      <td>0.000000</td>\n      <td>0.000000</td>\n      <td>0.056900</td>\n      <td>1.538700e+04</td>\n      <td>0.000020</td>\n      <td>0.000000</td>\n      <td>0.009670</td>\n      <td>-52.457000</td>\n      <td>0.022200</td>\n      <td>30.379000</td>\n      <td>0.000000</td>\n    </tr>\n    <tr>\n      <th>25%</th>\n      <td>29.000000</td>\n      <td>0.037600</td>\n      <td>0.435000</td>\n      <td>1.828570e+05</td>\n      <td>0.385000</td>\n      <td>0.000000</td>\n      <td>0.097400</td>\n      <td>-11.771000</td>\n      <td>0.036700</td>\n      <td>92.959000</td>\n      <td>0.237000</td>\n    </tr>\n    <tr>\n      <th>50%</th>\n      <td>43.000000</td>\n      <td>0.232000</td>\n      <td>0.571000</td>\n      <td>2.204270e+05</td>\n      <td>0.605000</td>\n      <td>0.000044</td>\n      <td>0.128000</td>\n      <td>-7.762000</td>\n      <td>0.050100</td>\n      <td>115.778000</td>\n      <td>0.444000</td>\n    </tr>\n    <tr>\n      <th>75%</th>\n      <td>55.000000</td>\n      <td>0.722000</td>\n      <td>0.692000</td>\n      <td>2.657680e+05</td>\n      <td>0.787000</td>\n      <td>0.035800</td>\n      <td>0.264000</td>\n      <td>-5.501000</td>\n      <td>0.105000</td>\n      <td>139.054000</td>\n      <td>0.660000</td>\n    </tr>\n    <tr>\n      <th>max</th>\n      <td>100.000000</td>\n      <td>0.996000</td>\n      <td>0.989000</td>\n      <td>5.552917e+06</td>\n      <td>0.999000</td>\n      <td>0.999000</td>\n      <td>1.000000</td>\n      <td>3.744000</td>\n      <td>0.967000</td>\n      <td>242.903000</td>\n      <td>1.000000</td>\n    </tr>\n  </tbody>\n</table>\n</div>"
     },
     "execution_count": 13,
     "metadata": {},
     "output_type": "execute_result"
    }
   ],
   "source": [
    "df_audio_feats.describe()"
   ],
   "metadata": {
    "collapsed": false,
    "pycharm": {
     "name": "#%%\n"
    }
   }
  },
  {
   "cell_type": "code",
   "execution_count": 80,
   "outputs": [],
   "source": [
    "import matplotlib.pyplot as plt\n",
    "%matplotlib inline\n",
    "import seaborn as sns"
   ],
   "metadata": {
    "collapsed": false,
    "pycharm": {
     "name": "#%%\n"
    }
   }
  },
  {
   "cell_type": "code",
   "execution_count": 88,
   "outputs": [
    {
     "data": {
      "text/plain": "<Figure size 720x2520 with 33 Axes>",
      "image/png": "[encoded data removed]"
     },
     "metadata": {
      "needs_background": "light"
     },
     "output_type": "display_data"
    }
   ],
   "source": [
    "df_audio_feats.hist(figsize=(10,35),layout=(11,3));\n"
   ],
   "metadata": {
    "collapsed": false,
    "pycharm": {
     "name": "#%%\n"
    }
   }
  },
  {
   "cell_type": "code",
   "execution_count": 90,
   "outputs": [],
   "source": [
    "import numpy as np"
   ],
   "metadata": {
    "collapsed": false,
    "pycharm": {
     "name": "#%%\n"
    }
   }
  },
  {
   "cell_type": "code",
   "execution_count": 101,
   "outputs": [
    {
     "name": "stderr",
     "output_type": "stream",
     "text": [
      "C:\\Users\\Taylo\\anaconda3\\envs\\ML1\\lib\\site-packages\\ipykernel_launcher.py:2: DeprecationWarning: `np.bool` is a deprecated alias for the builtin `bool`. To silence this warning, use `bool` by itself. Doing this will not modify any behavior and is safe. If you specifically wanted the numpy scalar type, use `np.bool_` here.\n",
      "Deprecated in NumPy 1.20; for more details and guidance: https://numpy.org/devdocs/release/1.20.0-notes.html#deprecations\n",
      "  \n"
     ]
    },
    {
     "data": {
      "text/plain": "<AxesSubplot:>"
     },
     "execution_count": 101,
     "metadata": {},
     "output_type": "execute_result"
    },
    {
     "data": {
      "text/plain": "<Figure size 792x648 with 2 Axes>",
      "image/png": "[encoded data removed]"
     },
     "metadata": {
      "needs_background": "light"
     },
     "output_type": "display_data"
    }
   ],
   "source": [
    "audio_feat_corr = df_audio_feats.corr()  # grabs correlation variables of features\n",
    "mask = np.zeros_like(audio_feat_corr, dtype=np.bool)  # returns array of zeros w/ same shape and type of given array\n",
    "mask[np.triu_indices_from(mask)]= True  # Generate a mask for the upper triangle\n",
    "f, ax = plt.subplots(figsize=(11, 9))  # Matplotlib figure setup / formats nicely\n",
    "\n",
    "sns.heatmap(audio_feat_corr,\n",
    "            mask = mask,\n",
    "            square = True,\n",
    "            cmap = 'coolwarm', # Easier visualization of correlated variables\n",
    "            annot = True,\n",
    "            annot_kws = {'size': 12})"
   ],
   "metadata": {
    "collapsed": false,
    "pycharm": {
     "name": "#%%\n"
    }
   }
  },
  {
   "cell_type": "markdown",
   "source": [
    "In our correlation map, we have very little corerelation, however, we see several variables that are correlated with one\n",
    "another:\n",
    "* loudness to energy with a value of .82\n",
    "* loudness and acousticness with a value of -0.69\n",
    "* energy and acousticness with a value of -0.73\n",
    "\n",
    "Due to this overlap, we will need to drop one or some of these during our feature to improve our classification and\n",
    "regression model's performance."
   ],
   "metadata": {
    "collapsed": false,
    "pycharm": {
     "name": "#%% md\n"
    }
   }
  },
  {
   "cell_type": "markdown",
   "source": [
    "### Final Datasets\n",
    "Describe the final dataset that is used for classification/regression (include a\n",
    "description of any newly formed variables you created)."
   ],
   "metadata": {
    "collapsed": false
   }
  },
  {
   "cell_type": "markdown",
   "source": [
    "## Modeling and Evaluation"
   ],
   "metadata": {
    "collapsed": false,
    "pycharm": {
     "name": "#%% md\n"
    }
   }
  },
  {
   "cell_type": "markdown",
   "source": [
    "### Task 1: Classifying Genre -- Multiclass\n",
    "\n",
    "#### Evaluation Metrics\n",
    "Choose and explain your evaluation metrics that you will use (i.e., accuracy,\n",
    "precision, recall, F-measure, or any metric we have discussed). Why are the measure(s)\n",
    "appropriate for analyzing the results of your modeling? Give a detailed explanation\n",
    "backing up any assertions.\n",
    "\n",
    "We are using Accuracy and AUC to evaluate between our three classification models. For popularity classification we have \n",
    "no preference for sensitivity vs. specificity but are evaluating based on overall model accuracy. Neither false \n",
    "positives, nor false negatives, have an impact other than false classification, so overall accuracy is our best benchmark \n",
    "measure. We are using AUC as a measure to distinguish between classes and summarize the results of each model's ROC \n",
    "curve. The higher the AUC score, the better the model performance, in terms of its ability to distinguish between \n",
    "popular and non-popular songs.\n",
    "\n",
    "#### Methods\n",
    "Choose the method you will use for dividing your data into training and\n",
    "testing splits (i.e., are you using Stratified 10-fold cross validation? Why?). Explain why\n",
    "your chosen method is appropriate or use more than one method as appropriate.\n",
    "\n",
    "#### Models\n",
    "1. Create three different classification/regression models (e.g., random forest,\n",
    "KNN, and SVM). Two modeling techniques must be new (but the third could be SVM or\n",
    "logistic regression). Adjust parameters as appropriate to increase generalization\n",
    "performance using your chosen metric.\n",
    "* Analyze the results using your chosen method of evaluation. Use\n",
    "visualizations of the results to bolster the analysis. Explain any visuals and analyze why\n",
    "they are interesting to someone that might use this model.\n",
    "* Discuss the advantages of each model for each classification task, if any. If\n",
    "there are not advantages, explain why. Is any model better than another? Is the\n",
    "difference significant with 95% confidence? Use proper statistical comparison methods.\n",
    "\n",
    "##### Model 1: K-NN Classifier\n",
    "\n",
    "##### Model 2: Decision Tree Classifier\n",
    "\n",
    "##### Model 3: Linear Support Vector Classifier\n",
    "\n",
    "#### Important Dataset Features for Analysis\n",
    "Which attributes from your analysis are most important? Use proper\n",
    "methods discussed in class to evaluate the importance of different attributes. Discuss\n",
    "the results and hypothesize about why certain attributes are more important than others\n",
    "for a given classification task."
   ],
   "metadata": {
    "collapsed": false
   }
  },
  {
   "cell_type": "markdown",
   "source": [
    "### Task 2: Regression -- Predicting Popularity\n",
    "#### Evaluation Metrics\n",
    "Choose and explain your evaluation metrics that you will use (i.e., accuracy,\n",
    "precision, recall, F-measure, or any metric we have discussed). Why are the measure(s)\n",
    "appropriate for analyzing the results of your modeling? Give a detailed explanation\n",
    "backing up any assertions.\n",
    "\n",
    "#### Methods\n",
    "Choose the method you will use for dividing your data into training and\n",
    "testing splits (i.e., are you using Stratified 10-fold cross validation? Why?). Explain why\n",
    "your chosen method is appropriate or use more than one method as appropriate."
   ],
   "metadata": {
    "collapsed": false,
    "pycharm": {
     "name": "#%% md\n"
    }
   }
  },
  {
   "cell_type": "markdown",
   "source": [
    "**For feature selection, we will select the following features which are only based on music theory and not artist/song\n",
    "information:**\n",
    "* acousticness\n",
    "* danceability\n",
    "* duration_ms\n",
    "* energy\n",
    "* instrumentalness\n",
    "* key\n",
    "* liveliness\n",
    "* loudness\n",
    "* mode\n",
    "* speeciness\n",
    "* tempo\n",
    "* time_signature\n",
    "* valence"
   ],
   "metadata": {
    "collapsed": false
   }
  },
  {
   "cell_type": "code",
   "execution_count": null,
   "outputs": [],
   "source": [
    "features = [\"acousticness\", \"danceability\", \"duration_ms\", \"energy\", \"instrumentalness\", \"key\", \"liveness\",\n",
    "            \"mode\", \"speechiness\", \"tempo\", \"time_signature\", \"valence\"]"
   ],
   "metadata": {
    "collapsed": false,
    "pycharm": {
     "name": "#%%\n"
    }
   }
  },
  {
   "cell_type": "code",
   "execution_count": null,
   "outputs": [],
   "source": [
    "training = df.sample(frac=0.8, random_state=420)\n",
    "X_train = training[features]\n",
    "y_train = training['popularity']\n",
    "X_test = df.drop(training.index)[features]\n",
    "\n",
    "X_train, X_valid, y_train, y_valid = train_test_split(X_train,\n",
    "                                                      y_train,\n",
    "                                                      test_size=0.2,\n",
    "                                                      random_state=420)"
   ],
   "metadata": {
    "collapsed": false,
    "pycharm": {
     "name": "#%%\n"
    }
   }
  },
  {
   "cell_type": "markdown",
   "source": [
    "#### Models\n",
    "1. Create three different classification/regression models (e.g., random forest,\n",
    "KNN, and SVM). Two modeling techniques must be new (but the third could be SVM or\n",
    "logistic regression). Adjust parameters as appropriate to increase generalization\n",
    "performance using your chosen metric.\n",
    "* Analyze the results using your chosen method of evaluation. Use\n",
    "visualizations of the results to bolster the analysis. Explain any visuals and analyze why\n",
    "they are interesting to someone that might use this model.\n",
    "* Discuss the advantages of each model for each classification task, if any. If\n",
    "there are not advantages, explain why. Is any model better than another? Is the\n",
    "difference significant with 95% confidence? Use proper statistical comparison methods.\n",
    "\n",
    "##### Model 1: Logistic Regression"
   ],
   "metadata": {
    "collapsed": false
   }
  },
  {
   "cell_type": "code",
   "execution_count": null,
   "outputs": [],
   "source": [
    "LR_Model = LogisticRegression()\n",
    "LR_Model.fit(X_train, y_train)\n",
    "LR_Predict = LR_Model.predict(X_valid)\n",
    "LR_Accuracy = accuracy_score(y_valid, LR_Predict)\n",
    "print(\"Accuracy: \" + str(LR_Accuracy))\n",
    "\n",
    "LR_AUC = roc_auc_score(y_valid, LR_Predict)\n",
    "print(\"AUC: \" + str(LR_AUC))"
   ],
   "metadata": {
    "collapsed": false,
    "pycharm": {
     "name": "#%%\n"
    }
   }
  },
  {
   "cell_type": "markdown",
   "source": [
    "##### Model 2: Random Forest"
   ],
   "metadata": {
    "collapsed": false
   }
  },
  {
   "cell_type": "code",
   "execution_count": null,
   "outputs": [],
   "source": [
    "# Random Forest Classifier\n",
    "RFC_Model = RandomForestClassifier()\n",
    "RFC_Model.fit(X_train, y_train)\n",
    "RFC_Predict = RFC_Model.predict(X_valid)\n",
    "RFC_Accuracy = accuracy_score(y_valid, RFC_Predict)\n",
    "print(\"Accuracy: \" + str(RFC_Accuracy))\n",
    "\n",
    "RFC_AUC = roc_auc_score(y_valid, RFC_Predict)\n",
    "print(\"AUC: \" + str(RFC_AUC))"
   ],
   "metadata": {
    "collapsed": false,
    "pycharm": {
     "name": "#%%\n"
    }
   }
  },
  {
   "cell_type": "code",
   "execution_count": null,
   "outputs": [],
   "source": [
    "# random forest for feature importance on a regression problem\n",
    "\n",
    "# Trying to show the feature name instead of feature 1 , feature 2.\n",
    "# TODO: Try if you can show the feature name in the plot\n",
    "\n",
    "from matplotlib import pyplot\n",
    "\n",
    "# define dataset\n",
    "# get importance\n",
    "importance = RFC_Model.feature_importances_\n",
    "importance\n",
    "# summarize feature importance\n",
    "for i, v in enumerate(importance):\n",
    "    print('Feature: %0d, Score: %.5f' % (i, v))\n",
    "# plot feature importance\n",
    "pyplot.bar([x for x in range(len(importance))], importance)\n",
    "pyplot.show()"
   ],
   "metadata": {
    "collapsed": false,
    "pycharm": {
     "name": "#%%\n"
    }
   }
  },
  {
   "cell_type": "markdown",
   "source": [
    "##### Model 3: XGBoost"
   ],
   "metadata": {
    "collapsed": false
   }
  },
  {
   "cell_type": "markdown",
   "source": [
    "#### Important Dataset Features for Analysis\n",
    "Which attributes from your analysis are most important? Use proper\n",
    "methods discussed in class to evaluate the importance of different attributes. Discuss\n",
    "the results and hypothesize about why certain attributes are more important than others\n",
    "for a given classification task."
   ],
   "metadata": {
    "collapsed": false
   }
  },
  {
   "cell_type": "code",
   "execution_count": null,
   "outputs": [],
   "source": [],
   "metadata": {
    "collapsed": false,
    "pycharm": {
     "name": "#%%\n"
    }
   }
  },
  {
   "cell_type": "markdown",
   "source": [
    "## Deployment\n",
    "How useful is your model for interested parties (i.e., the companies or\n",
    "organizations that might want to use it for prediction)? How would you measure the\n",
    "model's value if it was used by these parties? How would your deploy your model for\n",
    "interested parties? What other data should be collected? How often would the model\n",
    "need to be updated, etc.?"
   ],
   "metadata": {
    "collapsed": false,
    "pycharm": {
     "name": "#%% md\n"
    }
   }
  },
  {
   "cell_type": "markdown",
   "source": [
    "## Exceptional Work!\n",
    "You have free reign to provide additional modeling.\n",
    "\n",
    "**One idea:** grid search parameters in a parallelized fashion and visualize the\n",
    "performances across attributes. Which parameters are most significant for making a\n",
    "good model for each classification algorithm?"
   ],
   "metadata": {
    "collapsed": false,
    "pycharm": {
     "name": "#%% md\n"
    }
   }
  }
 ],
 "metadata": {
  "kernelspec": {
   "name": "python3",
   "language": "python",
   "display_name": "Python 3"
  },
  "language_info": {
   "codemirror_mode": {
    "name": "ipython",
    "version": 2
   },
   "file_extension": ".py",
   "mimetype": "text/x-python",
   "name": "python",
   "nbconvert_exporter": "python",
   "pygments_lexer": "ipython2",
   "version": "2.7.6"
  }
 },
 "nbformat": 4,
 "nbformat_minor": 0
}
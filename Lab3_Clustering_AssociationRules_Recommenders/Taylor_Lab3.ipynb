{
 "cells": [
  {
   "cell_type": "markdown",
   "metadata": {},
   "source": [
    "**Group 2:**\n",
    "- Taylor Bonar\n",
    "- Robert Burigo\n",
    "- Rashmi Patel\n",
    "- Scott Englerth\n",
    "\n",
    "# Rubric\n",
    "\n",
    "## Business Understanding\n",
    "\n",
    "**Describe the purpose of the data set you selected (i.e., why was this data collected in the first place?). How will you measure the effectiveness of a good algorithm? Why does your chosen validation method make sense for this specific dataset and the stakeholders needs?**\n",
    "\n",
    "# TBD\n",
    "\n",
    "#### What is the purpose of the dataset and how was it collected? \n",
    "\n",
    "This data was originally collected from Spotify for analyzing behaviors between valence and other measures. Each provided track information is derived from Spotify's public api. There is a total of 232,725 tacks spanning 26 genres.\n",
    "\n",
    "The dataset is a scraping of Spotify's tracks that detail a variety of fields such as:\n",
    "\n",
    "* danceability\n",
    "* energy\n",
    "* key\n",
    "* loudness\n",
    "* mode\n",
    "* speechiness\n",
    "* acousticness\n",
    "* instrumentalness\n",
    "* liveness\n",
    "* valence\n",
    "* tempo\n",
    "* type\n",
    "* track_id\n",
    "* artist_name\n",
    "* popularity\n",
    "* track_name\n",
    "* genre\n",
    "* duration in milliseconds\n",
    "\n",
    "\n",
    "#### How would you measure effectiveness of a good algorithm? \n",
    "\n",
    "From a technical perspective, we would measure the effectiveness of a clustering model by creating clusters that have a minimal distance within the cluster and are greater distance between different clusters. From a stakeholder perspective, we could measure the effectiveness of good clusters in two ways. Pre-deployment we would have to rely on subject-matter (music) experts that could sample from clusters and flag obvious misfits. After deployment we would measure effectiveness by collecting user feedback such as likes/dislikes, duration played, and song skips. The after deployment user feedback data would likely be our main way of measuring success, improving our model, and adjusting our clusters/playlists.\n",
    "\n",
    "#### Why does your chosen validation method make sense for this specific dataset and the stakeholders needs?\n",
    "\n",
    "Using user feedback as our validation method makes sense for our model since the end goal of this cluster model is to increase user time spent in the app and user satisfaction with the app. The product team will likely be happy with our clusters if they see playlists being used frequently and if they see that users that use playlist spend more time in the app and are happy with the songs our playlists suggest for them."
   ]
  },
  {
   "cell_type": "markdown",
   "metadata": {},
   "source": [
    "## Data Understanding\n",
    "**Describe the meaning and type of data (scale, values, etc.) for each attribute in the data file.** "
   ]
  },
  {
   "cell_type": "code",
   "execution_count": 138,
   "metadata": {},
   "outputs": [],
   "source": [
    "import os\n",
    "\n",
    "import pandas as pd  # working w/ data frames"
   ]
  },
  {
   "cell_type": "code",
   "execution_count": 139,
   "metadata": {},
   "outputs": [
    {
     "data": {
      "text/plain": "   genre        artist_name                        track_name  \\\n0  Movie     Henri Salvador       C'est beau de faire un Show   \n1  Movie  Martin & les fées  Perdu d'avance (par Gad Elmaleh)   \n2  Movie    Joseph Williams    Don't Let Me Be Lonely Tonight   \n3  Movie     Henri Salvador    Dis-moi Monsieur Gordon Cooper   \n4  Movie       Fabien Nataf                         Ouverture   \n\n                 track_id  popularity  acousticness  danceability  \\\n0  0BRjO6ga9RKCKjfDqeFgWV           0         0.611         0.389   \n1  0BjC1NfoEOOusryehmNudP           1         0.246         0.590   \n2  0CoSDzoNIKCRs124s9uTVy           3         0.952         0.663   \n3  0Gc6TVm52BwZD07Ki6tIvf           0         0.703         0.240   \n4  0IuslXpMROHdEPvSl1fTQK           4         0.950         0.331   \n\n   duration_ms  energy  instrumentalness key  liveness  loudness   mode  \\\n0        99373   0.910             0.000  C#    0.3460    -1.828  Major   \n1       137373   0.737             0.000  F#    0.1510    -5.559  Minor   \n2       170267   0.131             0.000   C    0.1030   -13.879  Minor   \n3       152427   0.326             0.000  C#    0.0985   -12.178  Major   \n4        82625   0.225             0.123   F    0.2020   -21.150  Major   \n\n   speechiness    tempo time_signature  valence  \n0       0.0525  166.969            4/4    0.814  \n1       0.0868  174.003            4/4    0.816  \n2       0.0362   99.488            5/4    0.368  \n3       0.0395  171.758            4/4    0.227  \n4       0.0456  140.576            4/4    0.390  ",
      "text/html": "<div>\n<style scoped>\n    .dataframe tbody tr th:only-of-type {\n        vertical-align: middle;\n    }\n\n    .dataframe tbody tr th {\n        vertical-align: top;\n    }\n\n    .dataframe thead th {\n        text-align: right;\n    }\n</style>\n<table border=\"1\" class=\"dataframe\">\n  <thead>\n    <tr style=\"text-align: right;\">\n      <th></th>\n      <th>genre</th>\n      <th>artist_name</th>\n      <th>track_name</th>\n      <th>track_id</th>\n      <th>popularity</th>\n      <th>acousticness</th>\n      <th>danceability</th>\n      <th>duration_ms</th>\n      <th>energy</th>\n      <th>instrumentalness</th>\n      <th>key</th>\n      <th>liveness</th>\n      <th>loudness</th>\n      <th>mode</th>\n      <th>speechiness</th>\n      <th>tempo</th>\n      <th>time_signature</th>\n      <th>valence</th>\n    </tr>\n  </thead>\n  <tbody>\n    <tr>\n      <th>0</th>\n      <td>Movie</td>\n      <td>Henri Salvador</td>\n      <td>C'est beau de faire un Show</td>\n      <td>0BRjO6ga9RKCKjfDqeFgWV</td>\n      <td>0</td>\n      <td>0.611</td>\n      <td>0.389</td>\n      <td>99373</td>\n      <td>0.910</td>\n      <td>0.000</td>\n      <td>C#</td>\n      <td>0.3460</td>\n      <td>-1.828</td>\n      <td>Major</td>\n      <td>0.0525</td>\n      <td>166.969</td>\n      <td>4/4</td>\n      <td>0.814</td>\n    </tr>\n    <tr>\n      <th>1</th>\n      <td>Movie</td>\n      <td>Martin &amp; les fées</td>\n      <td>Perdu d'avance (par Gad Elmaleh)</td>\n      <td>0BjC1NfoEOOusryehmNudP</td>\n      <td>1</td>\n      <td>0.246</td>\n      <td>0.590</td>\n      <td>137373</td>\n      <td>0.737</td>\n      <td>0.000</td>\n      <td>F#</td>\n      <td>0.1510</td>\n      <td>-5.559</td>\n      <td>Minor</td>\n      <td>0.0868</td>\n      <td>174.003</td>\n      <td>4/4</td>\n      <td>0.816</td>\n    </tr>\n    <tr>\n      <th>2</th>\n      <td>Movie</td>\n      <td>Joseph Williams</td>\n      <td>Don't Let Me Be Lonely Tonight</td>\n      <td>0CoSDzoNIKCRs124s9uTVy</td>\n      <td>3</td>\n      <td>0.952</td>\n      <td>0.663</td>\n      <td>170267</td>\n      <td>0.131</td>\n      <td>0.000</td>\n      <td>C</td>\n      <td>0.1030</td>\n      <td>-13.879</td>\n      <td>Minor</td>\n      <td>0.0362</td>\n      <td>99.488</td>\n      <td>5/4</td>\n      <td>0.368</td>\n    </tr>\n    <tr>\n      <th>3</th>\n      <td>Movie</td>\n      <td>Henri Salvador</td>\n      <td>Dis-moi Monsieur Gordon Cooper</td>\n      <td>0Gc6TVm52BwZD07Ki6tIvf</td>\n      <td>0</td>\n      <td>0.703</td>\n      <td>0.240</td>\n      <td>152427</td>\n      <td>0.326</td>\n      <td>0.000</td>\n      <td>C#</td>\n      <td>0.0985</td>\n      <td>-12.178</td>\n      <td>Major</td>\n      <td>0.0395</td>\n      <td>171.758</td>\n      <td>4/4</td>\n      <td>0.227</td>\n    </tr>\n    <tr>\n      <th>4</th>\n      <td>Movie</td>\n      <td>Fabien Nataf</td>\n      <td>Ouverture</td>\n      <td>0IuslXpMROHdEPvSl1fTQK</td>\n      <td>4</td>\n      <td>0.950</td>\n      <td>0.331</td>\n      <td>82625</td>\n      <td>0.225</td>\n      <td>0.123</td>\n      <td>F</td>\n      <td>0.2020</td>\n      <td>-21.150</td>\n      <td>Major</td>\n      <td>0.0456</td>\n      <td>140.576</td>\n      <td>4/4</td>\n      <td>0.390</td>\n    </tr>\n  </tbody>\n</table>\n</div>"
     },
     "execution_count": 139,
     "metadata": {},
     "output_type": "execute_result"
    }
   ],
   "source": [
    "file_path = os.path.join(os.getcwd(), \"SpotifyFeatures.csv\")\n",
    "\n",
    "#Loading in csv Spotify dataset\n",
    "df = pd.read_csv(file_path)  # read in the csv file\n",
    "\n",
    "# Data Import Check\n",
    "df.head()"
   ]
  },
  {
   "cell_type": "markdown",
   "metadata": {},
   "source": [
    "**Categorical Variables:**\n",
    "* **genre** - describes the genre category of the track\n",
    "* **artist_name** - describes the name of the artist\n",
    "* **track_name** - describes the name of the track\n",
    "* **track_id** - unique track identifier\n",
    "* **key** - describes the key/pitch the track is in\n",
    "* **mode** - Mode indicates the modality (major or minor) of a track, the type of scale from which its melodic content is derived. Major is represented by 1 and minor is 0.\n",
    "* **time_signature** - An estimated overall time signature of a track. The time signature (meter) is a notational convention to specify how many beats are in each bar (or measure).\n",
    "\n",
    "**Continous Variables:**\n",
    "* **popularity** - (0-100, least popular to most popular) The popularity of the track. The popularity is calculated by algorithm and is based, in the most part, on the total number of plays the track has had and how recent those plays are.\n",
    "* **acousticness** - (0.0-1.0) A confidence measure from 0.0 to 1.0 of whether the track is acoustic. 1.0 represents high confidence the track is acoustic.\n",
    "* **danceability** - (0.0-1.0) Danceability describes how suitable a track is for dancing based on a combination of musical elements including tempo, rhythm stability, beat strength, and overall regularity. A value of 0.0 is least danceable and 1.0 is most danceable.\n",
    "* **duration_ms** - The duration of the track in milliseconds.\n",
    "* **energy** - (0.0-1.0) Energy is a measure from 0.0 to 1.0 and represents a perceptual measure of intensity and activity. Typically, energetic tracks feel fast, loud, and noisy. For example, death metal has high energy, while a Bach prelude scores low on the scale. Perceptual features contributing to this attribute include dynamic range, perceived loudness, timbre, onset rate, and general entropy.\n",
    "* **instrumentalness** - (0.0-1.0) Predicts whether a track contains no vocals. “Ooh” and “aah” sounds are treated as instrumental in this context. Rap or spoken word tracks are clearly “vocal”. The closer the instrumentalness value is to 1.0, the greater likelihood the track contains no vocal content. Values above 0.5 are intended to represent instrumental tracks, but confidence is higher as the value approaches 1.0.\n",
    "* **liveness** - (0.0-1.0) Detects the presence of an audience in the recording. Higher liveness values represent an increased probability that the track was performed live. A value above 0.8 provides strong likelihood that the track is live.\n",
    "* **loudness** - (-60 to 0 decibels/dB typically) The overall loudness of a track in decibels (dB). Loudness values are averaged across the entire track and are useful for comparing relative loudness of tracks. Loudness is the quality of a sound that is the primary psychological correlate of physical strength (amplitude). Values typical range between -60 and 0 db.\n",
    "* **speechiness** - (0.0-1.0) Speechiness detects the presence of spoken words in a track. The more exclusively speech-like the recording (e.g. talk show, audio book, poetry), the closer to 1.0 the attribute value. Values above 0.66 describe tracks that are probably made entirely of spoken words. Values between 0.33 and 0.66 describe tracks that may contain both music and speech, either in sections or layered, including such cases as rap music. Values below 0.33 most likely represent music and other non-speech-like tracks.\n",
    "* **tempo** - The overall estimated tempo of a track in beats per minute (BPM). In musical terminology, tempo is the speed or pace of a given piece and derives directly from the average beat duration.\n",
    "* **valence** - (0.0-1.0) Describes the musical positiveness conveyed by a track. Tracks with high valence sound more positive (e.g. happy, cheerful, euphoric), while tracks with low valence sound more negative (e.g. sad, depressed, angry)."
   ]
  },
  {
   "cell_type": "code",
   "execution_count": 140,
   "metadata": {},
   "outputs": [
    {
     "name": "stdout",
     "output_type": "stream",
     "text": [
      "<class 'pandas.core.frame.DataFrame'>\n",
      "RangeIndex: 232725 entries, 0 to 232724\n",
      "Data columns (total 18 columns):\n",
      " #   Column            Non-Null Count   Dtype  \n",
      "---  ------            --------------   -----  \n",
      " 0   genre             232725 non-null  object \n",
      " 1   artist_name       232725 non-null  object \n",
      " 2   track_name        232725 non-null  object \n",
      " 3   track_id          232725 non-null  object \n",
      " 4   popularity        232725 non-null  int64  \n",
      " 5   acousticness      232725 non-null  float64\n",
      " 6   danceability      232725 non-null  float64\n",
      " 7   duration_ms       232725 non-null  int64  \n",
      " 8   energy            232725 non-null  float64\n",
      " 9   instrumentalness  232725 non-null  float64\n",
      " 10  key               232725 non-null  object \n",
      " 11  liveness          232725 non-null  float64\n",
      " 12  loudness          232725 non-null  float64\n",
      " 13  mode              232725 non-null  object \n",
      " 14  speechiness       232725 non-null  float64\n",
      " 15  tempo             232725 non-null  float64\n",
      " 16  time_signature    232725 non-null  object \n",
      " 17  valence           232725 non-null  float64\n",
      "dtypes: float64(9), int64(2), object(7)\n",
      "memory usage: 32.0+ MB\n"
     ]
    }
   ],
   "source": [
    "df.info() # There are 232725 number of rows and 18 columns"
   ]
  },
  {
   "cell_type": "markdown",
   "metadata": {},
   "source": [
    "Our initial import of our data shows that most of our objects are imported as objects, int64, and float64. We may need to transition some of these variables, such as key, mode, etc., to one-hot encoding via sklearn's [LabelEncoder](https://scikit-learn.org/stable/modules/generated/sklearn.preprocessing.LabelEncoder.html)/[One-Hot Encoder](https://scikit-learn.org/stable/modules/generated/sklearn.preprocessing.OneHotEncoder.html) or convert to a dtype of [Series](https://pandas.pydata.org/docs/reference/api/pandas.Series.html) into our pandas dataframe. \n",
    "\n",
    "However, if you examine the current [Spotify Web API for retrieving tracks' audio features](https://developer.spotify.com/documentation/web-api/reference/#/operations/get-several-audio-features), you will notice our data does not entirely match what is expected. For clarity, please refer to the section above for expected ranges of continuous variables.\n",
    "\n",
    "Next, we will inspect and look closer at our categorical variables, genre, key, mode, and time signature, to check for any potential data input mistakes."
   ]
  },
  {
   "cell_type": "code",
   "execution_count": 141,
   "metadata": {},
   "outputs": [
    {
     "name": "stdout",
     "output_type": "stream",
     "text": [
      "Unique Values for Categorical Variables\n",
      "Genres: ['Movie' 'R&B' 'A Capella' 'Alternative' 'Country' 'Dance' 'Electronic'\n",
      " 'Anime' 'Folk' 'Blues' 'Opera' 'Hip-Hop' \"Children's Music\"\n",
      " 'Children’s Music' 'Rap' 'Indie' 'Classical' 'Pop' 'Reggae' 'Reggaeton'\n",
      " 'Jazz' 'Rock' 'Ska' 'Comedy' 'Soul' 'Soundtrack' 'World']\n",
      "Keys: ['C#' 'F#' 'C' 'F' 'G' 'E' 'D#' 'G#' 'D' 'A#' 'A' 'B']\n",
      "Modes: ['Major', 'Minor']\n",
      "Time Signatures: ['4/4', '5/4', '3/4', '1/4', '0/4']\n"
     ]
    }
   ],
   "source": [
    "print(f'''Unique Values for Categorical Variables\n",
    "Genres: {df.genre.unique()}\n",
    "Keys: {df.key.unique()}\n",
    "Modes: {df[\"mode\"].unique().tolist()}\n",
    "Time Signatures: {df['time_signature'].unique().tolist()}''')"
   ]
  },
  {
   "cell_type": "markdown",
   "metadata": {},
   "source": [
    "Here, we can see an immediate problem. In genres, we have a Children's Music twice, as it appears one of them has a smart quote. This should be an easy fix thanks to pandas' dataframe.loc method."
   ]
  },
  {
   "cell_type": "code",
   "execution_count": 142,
   "metadata": {},
   "outputs": [
    {
     "name": "stdout",
     "output_type": "stream",
     "text": [
      "New Unique Values for Genre: ['Movie' 'R&B' 'A Capella' 'Alternative' 'Country' 'Dance' 'Electronic'\n",
      " 'Anime' 'Folk' 'Blues' 'Opera' 'Hip-Hop' \"Children's Music\" 'Rap' 'Indie'\n",
      " 'Classical' 'Pop' 'Reggae' 'Reggaeton' 'Jazz' 'Rock' 'Ska' 'Comedy'\n",
      " 'Soul' 'Soundtrack' 'World']\n"
     ]
    }
   ],
   "source": [
    "df.loc[df['genre'] == 'Children’s Music', ['genre']] = \"Children's Music\"\n",
    "print(f\"New Unique Values for Genre: {df.genre.unique()}\")"
   ]
  },
  {
   "cell_type": "code",
   "execution_count": 143,
   "metadata": {},
   "outputs": [
    {
     "data": {
      "text/plain": "          popularity   acousticness   danceability   duration_ms  \\\ncount  232725.000000  232725.000000  232725.000000  2.327250e+05   \nmean       41.127502       0.368560       0.554364  2.351223e+05   \nstd        18.189948       0.354768       0.185608  1.189359e+05   \nmin         0.000000       0.000000       0.056900  1.538700e+04   \n25%        29.000000       0.037600       0.435000  1.828570e+05   \n50%        43.000000       0.232000       0.571000  2.204270e+05   \n75%        55.000000       0.722000       0.692000  2.657680e+05   \nmax       100.000000       0.996000       0.989000  5.552917e+06   \n\n              energy  instrumentalness       liveness       loudness  \\\ncount  232725.000000     232725.000000  232725.000000  232725.000000   \nmean        0.570958          0.148301       0.215009      -9.569885   \nstd         0.263456          0.302768       0.198273       5.998204   \nmin         0.000020          0.000000       0.009670     -52.457000   \n25%         0.385000          0.000000       0.097400     -11.771000   \n50%         0.605000          0.000044       0.128000      -7.762000   \n75%         0.787000          0.035800       0.264000      -5.501000   \nmax         0.999000          0.999000       1.000000       3.744000   \n\n         speechiness          tempo        valence  \ncount  232725.000000  232725.000000  232725.000000  \nmean        0.120765     117.666585       0.454917  \nstd         0.185518      30.898907       0.260065  \nmin         0.022200      30.379000       0.000000  \n25%         0.036700      92.959000       0.237000  \n50%         0.050100     115.778000       0.444000  \n75%         0.105000     139.054000       0.660000  \nmax         0.967000     242.903000       1.000000  ",
      "text/html": "<div>\n<style scoped>\n    .dataframe tbody tr th:only-of-type {\n        vertical-align: middle;\n    }\n\n    .dataframe tbody tr th {\n        vertical-align: top;\n    }\n\n    .dataframe thead th {\n        text-align: right;\n    }\n</style>\n<table border=\"1\" class=\"dataframe\">\n  <thead>\n    <tr style=\"text-align: right;\">\n      <th></th>\n      <th>popularity</th>\n      <th>acousticness</th>\n      <th>danceability</th>\n      <th>duration_ms</th>\n      <th>energy</th>\n      <th>instrumentalness</th>\n      <th>liveness</th>\n      <th>loudness</th>\n      <th>speechiness</th>\n      <th>tempo</th>\n      <th>valence</th>\n    </tr>\n  </thead>\n  <tbody>\n    <tr>\n      <th>count</th>\n      <td>232725.000000</td>\n      <td>232725.000000</td>\n      <td>232725.000000</td>\n      <td>2.327250e+05</td>\n      <td>232725.000000</td>\n      <td>232725.000000</td>\n      <td>232725.000000</td>\n      <td>232725.000000</td>\n      <td>232725.000000</td>\n      <td>232725.000000</td>\n      <td>232725.000000</td>\n    </tr>\n    <tr>\n      <th>mean</th>\n      <td>41.127502</td>\n      <td>0.368560</td>\n      <td>0.554364</td>\n      <td>2.351223e+05</td>\n      <td>0.570958</td>\n      <td>0.148301</td>\n      <td>0.215009</td>\n      <td>-9.569885</td>\n      <td>0.120765</td>\n      <td>117.666585</td>\n      <td>0.454917</td>\n    </tr>\n    <tr>\n      <th>std</th>\n      <td>18.189948</td>\n      <td>0.354768</td>\n      <td>0.185608</td>\n      <td>1.189359e+05</td>\n      <td>0.263456</td>\n      <td>0.302768</td>\n      <td>0.198273</td>\n      <td>5.998204</td>\n      <td>0.185518</td>\n      <td>30.898907</td>\n      <td>0.260065</td>\n    </tr>\n    <tr>\n      <th>min</th>\n      <td>0.000000</td>\n      <td>0.000000</td>\n      <td>0.056900</td>\n      <td>1.538700e+04</td>\n      <td>0.000020</td>\n      <td>0.000000</td>\n      <td>0.009670</td>\n      <td>-52.457000</td>\n      <td>0.022200</td>\n      <td>30.379000</td>\n      <td>0.000000</td>\n    </tr>\n    <tr>\n      <th>25%</th>\n      <td>29.000000</td>\n      <td>0.037600</td>\n      <td>0.435000</td>\n      <td>1.828570e+05</td>\n      <td>0.385000</td>\n      <td>0.000000</td>\n      <td>0.097400</td>\n      <td>-11.771000</td>\n      <td>0.036700</td>\n      <td>92.959000</td>\n      <td>0.237000</td>\n    </tr>\n    <tr>\n      <th>50%</th>\n      <td>43.000000</td>\n      <td>0.232000</td>\n      <td>0.571000</td>\n      <td>2.204270e+05</td>\n      <td>0.605000</td>\n      <td>0.000044</td>\n      <td>0.128000</td>\n      <td>-7.762000</td>\n      <td>0.050100</td>\n      <td>115.778000</td>\n      <td>0.444000</td>\n    </tr>\n    <tr>\n      <th>75%</th>\n      <td>55.000000</td>\n      <td>0.722000</td>\n      <td>0.692000</td>\n      <td>2.657680e+05</td>\n      <td>0.787000</td>\n      <td>0.035800</td>\n      <td>0.264000</td>\n      <td>-5.501000</td>\n      <td>0.105000</td>\n      <td>139.054000</td>\n      <td>0.660000</td>\n    </tr>\n    <tr>\n      <th>max</th>\n      <td>100.000000</td>\n      <td>0.996000</td>\n      <td>0.989000</td>\n      <td>5.552917e+06</td>\n      <td>0.999000</td>\n      <td>0.999000</td>\n      <td>1.000000</td>\n      <td>3.744000</td>\n      <td>0.967000</td>\n      <td>242.903000</td>\n      <td>1.000000</td>\n    </tr>\n  </tbody>\n</table>\n</div>"
     },
     "execution_count": 143,
     "metadata": {},
     "output_type": "execute_result"
    }
   ],
   "source": [
    "df.describe() # shows statistics of spotify data"
   ]
  },
  {
   "cell_type": "markdown",
   "metadata": {},
   "source": [
    "# TODO"
   ]
  },
  {
   "cell_type": "markdown",
   "metadata": {},
   "source": [
    "#### Data Quality"
   ]
  },
  {
   "cell_type": "code",
   "execution_count": 144,
   "metadata": {},
   "outputs": [
    {
     "name": "stdout",
     "output_type": "stream",
     "text": [
      "Are there missing values? False\n",
      "How many values are missing? 0 values\n"
     ]
    }
   ],
   "source": [
    "print(f'''Are there missing values? {df.isnull().values.any()}\n",
    "How many values are missing? {df.isnull().values.sum()} values''')"
   ]
  },
  {
   "cell_type": "markdown",
   "metadata": {},
   "source": [
    "\n",
    "**Duplicate data?**\n",
    "\n",
    "Upon an initial inspection with pandas dataframe, one would think there are no duplicates in this dataset. However, as we've previously explored this dataset in Lab 2 for Classification, we discovered there are two duplicacy problem: genre and popularity.\n",
    "\n",
    "**Multi-Genre & Popularity Duplicacy Exploration**\n",
    "\n",
    "The Kaggle dataset was initially utilizing two Spotify Web API endpoints ([Search](https://developer.spotify.com/documentation/web-api/reference/#/operations/search) & [Get Tracks' Audio Features](https://developer.spotify.com/documentation/web-api/reference/#/operations/get-several-audio-features)) and then joins them into Google Cloud Platform's Big Query. As the [original code](https://github.com/tgel0/spotify-data) limited the tracks to 1000 per search query of songs with year 2021. The original Kaggle author did not specify how they scrapped the code, but it can be observed, once dropping the \"genre\" variable."
   ]
  },
  {
   "cell_type": "code",
   "execution_count": 145,
   "metadata": {},
   "outputs": [
    {
     "name": "stdout",
     "output_type": "stream",
     "text": [
      "Empty DataFrame\n",
      "Columns: [genre, artist_name, track_name, track_id, popularity, acousticness, danceability, duration_ms, energy, instrumentalness, key, liveness, loudness, mode, speechiness, tempo, time_signature, valence]\n",
      "Index: []\n"
     ]
    }
   ],
   "source": [
    "print(df[df.duplicated(keep=False)])"
   ]
  },
  {
   "cell_type": "code",
   "execution_count": 146,
   "metadata": {},
   "outputs": [
    {
     "data": {
      "text/plain": "                   genre  artist_name track_name                track_id  \\\n142                  R&B  Frank Ocean  Seigfried  1BViPjTT585XAhkUUrkts0   \n1385         Alternative  Frank Ocean  Seigfried  1BViPjTT585XAhkUUrkts0   \n68573            Hip-Hop  Frank Ocean  Seigfried  1BViPjTT585XAhkUUrkts0   \n77577   Children's Music  Frank Ocean  Seigfried  1BViPjTT585XAhkUUrkts0   \n192149              Soul  Frank Ocean  Seigfried  1BViPjTT585XAhkUUrkts0   \n\n        popularity  acousticness  danceability  duration_ms  energy  \\\n142             66         0.975         0.377       334570   0.255   \n1385            61         0.975         0.377       334570   0.255   \n68573           66         0.975         0.377       334570   0.255   \n77577           66         0.975         0.377       334570   0.255   \n192149          66         0.975         0.377       334570   0.255   \n\n        instrumentalness key  liveness  loudness   mode  speechiness    tempo  \\\n142             0.000208   E     0.102   -11.165  Minor       0.0387  125.004   \n1385            0.000208   E     0.102   -11.165  Minor       0.0387  125.004   \n68573           0.000208   E     0.102   -11.165  Minor       0.0387  125.004   \n77577           0.000208   E     0.102   -11.165  Minor       0.0387  125.004   \n192149          0.000208   E     0.102   -11.165  Minor       0.0387  125.004   \n\n       time_signature  valence  \n142               5/4     0.37  \n1385              5/4     0.37  \n68573             5/4     0.37  \n77577             5/4     0.37  \n192149            5/4     0.37  ",
      "text/html": "<div>\n<style scoped>\n    .dataframe tbody tr th:only-of-type {\n        vertical-align: middle;\n    }\n\n    .dataframe tbody tr th {\n        vertical-align: top;\n    }\n\n    .dataframe thead th {\n        text-align: right;\n    }\n</style>\n<table border=\"1\" class=\"dataframe\">\n  <thead>\n    <tr style=\"text-align: right;\">\n      <th></th>\n      <th>genre</th>\n      <th>artist_name</th>\n      <th>track_name</th>\n      <th>track_id</th>\n      <th>popularity</th>\n      <th>acousticness</th>\n      <th>danceability</th>\n      <th>duration_ms</th>\n      <th>energy</th>\n      <th>instrumentalness</th>\n      <th>key</th>\n      <th>liveness</th>\n      <th>loudness</th>\n      <th>mode</th>\n      <th>speechiness</th>\n      <th>tempo</th>\n      <th>time_signature</th>\n      <th>valence</th>\n    </tr>\n  </thead>\n  <tbody>\n    <tr>\n      <th>142</th>\n      <td>R&amp;B</td>\n      <td>Frank Ocean</td>\n      <td>Seigfried</td>\n      <td>1BViPjTT585XAhkUUrkts0</td>\n      <td>66</td>\n      <td>0.975</td>\n      <td>0.377</td>\n      <td>334570</td>\n      <td>0.255</td>\n      <td>0.000208</td>\n      <td>E</td>\n      <td>0.102</td>\n      <td>-11.165</td>\n      <td>Minor</td>\n      <td>0.0387</td>\n      <td>125.004</td>\n      <td>5/4</td>\n      <td>0.37</td>\n    </tr>\n    <tr>\n      <th>1385</th>\n      <td>Alternative</td>\n      <td>Frank Ocean</td>\n      <td>Seigfried</td>\n      <td>1BViPjTT585XAhkUUrkts0</td>\n      <td>61</td>\n      <td>0.975</td>\n      <td>0.377</td>\n      <td>334570</td>\n      <td>0.255</td>\n      <td>0.000208</td>\n      <td>E</td>\n      <td>0.102</td>\n      <td>-11.165</td>\n      <td>Minor</td>\n      <td>0.0387</td>\n      <td>125.004</td>\n      <td>5/4</td>\n      <td>0.37</td>\n    </tr>\n    <tr>\n      <th>68573</th>\n      <td>Hip-Hop</td>\n      <td>Frank Ocean</td>\n      <td>Seigfried</td>\n      <td>1BViPjTT585XAhkUUrkts0</td>\n      <td>66</td>\n      <td>0.975</td>\n      <td>0.377</td>\n      <td>334570</td>\n      <td>0.255</td>\n      <td>0.000208</td>\n      <td>E</td>\n      <td>0.102</td>\n      <td>-11.165</td>\n      <td>Minor</td>\n      <td>0.0387</td>\n      <td>125.004</td>\n      <td>5/4</td>\n      <td>0.37</td>\n    </tr>\n    <tr>\n      <th>77577</th>\n      <td>Children's Music</td>\n      <td>Frank Ocean</td>\n      <td>Seigfried</td>\n      <td>1BViPjTT585XAhkUUrkts0</td>\n      <td>66</td>\n      <td>0.975</td>\n      <td>0.377</td>\n      <td>334570</td>\n      <td>0.255</td>\n      <td>0.000208</td>\n      <td>E</td>\n      <td>0.102</td>\n      <td>-11.165</td>\n      <td>Minor</td>\n      <td>0.0387</td>\n      <td>125.004</td>\n      <td>5/4</td>\n      <td>0.37</td>\n    </tr>\n    <tr>\n      <th>192149</th>\n      <td>Soul</td>\n      <td>Frank Ocean</td>\n      <td>Seigfried</td>\n      <td>1BViPjTT585XAhkUUrkts0</td>\n      <td>66</td>\n      <td>0.975</td>\n      <td>0.377</td>\n      <td>334570</td>\n      <td>0.255</td>\n      <td>0.000208</td>\n      <td>E</td>\n      <td>0.102</td>\n      <td>-11.165</td>\n      <td>Minor</td>\n      <td>0.0387</td>\n      <td>125.004</td>\n      <td>5/4</td>\n      <td>0.37</td>\n    </tr>\n  </tbody>\n</table>\n</div>"
     },
     "execution_count": 146,
     "metadata": {},
     "output_type": "execute_result"
    }
   ],
   "source": [
    "duplicated_all = df[df.duplicated(subset = 'track_id', keep=False)]\n",
    "duplicated = df[df.duplicated(subset = 'track_id', keep='first')]\n",
    "df[df['track_id'] == duplicated['track_id'].iloc[1]] # Because I wanted to show Frank Ocean"
   ]
  },
  {
   "cell_type": "code",
   "execution_count": 147,
   "metadata": {},
   "outputs": [
    {
     "name": "stdout",
     "output_type": "stream",
     "text": [
      "Original Dataset's Unique Duplicates: 55951 duplicates\n",
      "Original Dataset's Total Duplicates Rows: 91075 rows\n",
      "Original Dataset's Total Data Rows: 232725 rows\n",
      "Original Dataset's Duplicates Percentage: 39.13 %\n"
     ]
    }
   ],
   "source": [
    "og_duplicates_shape = duplicated.shape[0]\n",
    "og_total_dupes = duplicated_all.shape[0]\n",
    "og_total_df_records = df.shape[0]\n",
    "og_dupe_percentage = round(duplicated_all.shape[0]/df.shape[0]*100, 2)\n",
    "\n",
    "print(f'''Original Dataset's Unique Duplicates: {og_duplicates_shape} duplicates\n",
    "Original Dataset's Total Duplicates Rows: {og_total_dupes} rows\n",
    "Original Dataset's Total Data Rows: {og_total_df_records} rows\n",
    "Original Dataset's Duplicates Percentage: {og_dupe_percentage} %''')"
   ]
  },
  {
   "cell_type": "markdown",
   "metadata": {},
   "source": [
    "We have a large portion of our dataset that are duplicate songs but marked as different genres with similar audio features, but also occasional different popularity ratings. We'll use sklearn's One Hot Encoder to reduce and handle the multi-genre problem, and we'll either take an average (i.e., the mean) or the most common, repeated value (mode) to handle the popularity problem"
   ]
  },
  {
   "cell_type": "code",
   "execution_count": 148,
   "metadata": {},
   "outputs": [],
   "source": [
    "from sklearn import preprocessing"
   ]
  },
  {
   "cell_type": "code",
   "execution_count": 149,
   "metadata": {},
   "outputs": [
    {
     "name": "stdout",
     "output_type": "stream",
     "text": [
      "Genre Class Multi-Labels are: ['A Capella' 'Alternative' 'Anime' 'Blues' \"Children's Music\" 'Classical'\n",
      " 'Comedy' 'Country' 'Dance' 'Electronic' 'Folk' 'Hip-Hop' 'Indie' 'Jazz'\n",
      " 'Movie' 'Opera' 'Pop' 'R&B' 'Rap' 'Reggae' 'Reggaeton' 'Rock' 'Ska'\n",
      " 'Soul' 'Soundtrack' 'World']\n"
     ]
    },
    {
     "data": {
      "text/plain": "                      track_id              artist_name  \\\n177044  7zz7MbCb9G7KJc1NVl9bL0           Caravan Palace   \n177045  7zzFNNxVD0h0ctAT08H0pa  Thelonious Monk Quartet   \n177046  7zzTeItz93lYI52hlcipm5      Magnate Y Valentino   \n177047  7zzZmpw8L66ZPjH1M6qmOs               Moonstar88   \n177048  7zzbfi8fvHe6hm342GcNYl                 Bob Weir   \n\n                                               track_name  \\\n177044                                             Maniac   \n177045  Crepescule With Nellie - Live At Carnegie Hall...   \n177046                                   Una En Un Millón   \n177047                                           Migraine   \n177048                                Black-Throated Wind   \n\n                            genre  \n177044                    (Jazz,)  \n177045                    (Jazz,)  \n177046               (Reggaeton,)  \n177047  (Children's Music, Indie)  \n177048                   (Blues,)  ",
      "text/html": "<div>\n<style scoped>\n    .dataframe tbody tr th:only-of-type {\n        vertical-align: middle;\n    }\n\n    .dataframe tbody tr th {\n        vertical-align: top;\n    }\n\n    .dataframe thead th {\n        text-align: right;\n    }\n</style>\n<table border=\"1\" class=\"dataframe\">\n  <thead>\n    <tr style=\"text-align: right;\">\n      <th></th>\n      <th>track_id</th>\n      <th>artist_name</th>\n      <th>track_name</th>\n      <th>genre</th>\n    </tr>\n  </thead>\n  <tbody>\n    <tr>\n      <th>177044</th>\n      <td>7zz7MbCb9G7KJc1NVl9bL0</td>\n      <td>Caravan Palace</td>\n      <td>Maniac</td>\n      <td>(Jazz,)</td>\n    </tr>\n    <tr>\n      <th>177045</th>\n      <td>7zzFNNxVD0h0ctAT08H0pa</td>\n      <td>Thelonious Monk Quartet</td>\n      <td>Crepescule With Nellie - Live At Carnegie Hall...</td>\n      <td>(Jazz,)</td>\n    </tr>\n    <tr>\n      <th>177046</th>\n      <td>7zzTeItz93lYI52hlcipm5</td>\n      <td>Magnate Y Valentino</td>\n      <td>Una En Un Millón</td>\n      <td>(Reggaeton,)</td>\n    </tr>\n    <tr>\n      <th>177047</th>\n      <td>7zzZmpw8L66ZPjH1M6qmOs</td>\n      <td>Moonstar88</td>\n      <td>Migraine</td>\n      <td>(Children's Music, Indie)</td>\n    </tr>\n    <tr>\n      <th>177048</th>\n      <td>7zzbfi8fvHe6hm342GcNYl</td>\n      <td>Bob Weir</td>\n      <td>Black-Throated Wind</td>\n      <td>(Blues,)</td>\n    </tr>\n  </tbody>\n</table>\n</div>"
     },
     "execution_count": 149,
     "metadata": {},
     "output_type": "execute_result"
    }
   ],
   "source": [
    "genre_multilabel_binarizer = preprocessing.MultiLabelBinarizer(sparse_output=True)\n",
    "genre_multilabel_binarizer.fit([df.genre.unique()])\n",
    "print(f\"Genre Class Multi-Labels are: {genre_multilabel_binarizer.classes_}\")\n",
    "\n",
    "# Use group by to track unique songs, then using those grouped songs, create a tuple of genres\n",
    "df_grouped_genre_songs = pd.DataFrame(df.groupby(['track_id','artist_name','track_name'])['genre'].apply(lambda x: tuple(x.values)))\n",
    "df_grouped_genre_songs.reset_index(inplace=True)\n",
    "df_grouped_genre_songs.tail()\n"
   ]
  },
  {
   "cell_type": "code",
   "execution_count": 150,
   "metadata": {},
   "outputs": [
    {
     "data": {
      "text/plain": "       genre               artist_name                      track_name  \\\n232720  Soul                     Slave                    Son Of Slide   \n232721  Soul  Jr Thomas & The Volcanos                    Burning Fire   \n232722  Soul              Muddy Waters  (I'm Your) Hoochie Coochie Man   \n232723  Soul                   R.LUM.R                   With My Words   \n232724  Soul            Mint Condition  You Don't Have To Hurt No More   \n\n                      track_id  popularity  acousticness  danceability  \\\n232720  2XGLdVl7lGeq8ksM6Al7jT          39       0.00384         0.687   \n232721  1qWZdkBl4UVPj9lK6HuuFM          38       0.03290         0.785   \n232722  2ziWXUmQLrXTiYjCg2fZ2t          47       0.90100         0.517   \n232723  6EFsue2YbIG4Qkq8Zr9Rir          44       0.26200         0.745   \n232724  34XO9RwPMKjbvRry54QzWn          35       0.09730         0.758   \n\n        duration_ms  energy  instrumentalness  ... Pop  R&B  Rap Reggae  \\\n232720       326240   0.714          0.544000  ...   0    0    0      0   \n232721       282447   0.683          0.000880  ...   0    0    0      0   \n232722       166960   0.419          0.000000  ...   0    0    0      0   \n232723       222442   0.704          0.000000  ...   0    1    0      0   \n232724       323027   0.470          0.000049  ...   0    0    0      0   \n\n        Reggaeton  Rock Ska  Soul  Soundtrack  World  \n232720          0     0   0     1           0      0  \n232721          0     0   0     1           0      0  \n232722          0     0   0     1           0      0  \n232723          0     0   0     1           0      0  \n232724          0     0   0     1           0      0  \n\n[5 rows x 44 columns]",
      "text/html": "<div>\n<style scoped>\n    .dataframe tbody tr th:only-of-type {\n        vertical-align: middle;\n    }\n\n    .dataframe tbody tr th {\n        vertical-align: top;\n    }\n\n    .dataframe thead th {\n        text-align: right;\n    }\n</style>\n<table border=\"1\" class=\"dataframe\">\n  <thead>\n    <tr style=\"text-align: right;\">\n      <th></th>\n      <th>genre</th>\n      <th>artist_name</th>\n      <th>track_name</th>\n      <th>track_id</th>\n      <th>popularity</th>\n      <th>acousticness</th>\n      <th>danceability</th>\n      <th>duration_ms</th>\n      <th>energy</th>\n      <th>instrumentalness</th>\n      <th>...</th>\n      <th>Pop</th>\n      <th>R&amp;B</th>\n      <th>Rap</th>\n      <th>Reggae</th>\n      <th>Reggaeton</th>\n      <th>Rock</th>\n      <th>Ska</th>\n      <th>Soul</th>\n      <th>Soundtrack</th>\n      <th>World</th>\n    </tr>\n  </thead>\n  <tbody>\n    <tr>\n      <th>232720</th>\n      <td>Soul</td>\n      <td>Slave</td>\n      <td>Son Of Slide</td>\n      <td>2XGLdVl7lGeq8ksM6Al7jT</td>\n      <td>39</td>\n      <td>0.00384</td>\n      <td>0.687</td>\n      <td>326240</td>\n      <td>0.714</td>\n      <td>0.544000</td>\n      <td>...</td>\n      <td>0</td>\n      <td>0</td>\n      <td>0</td>\n      <td>0</td>\n      <td>0</td>\n      <td>0</td>\n      <td>0</td>\n      <td>1</td>\n      <td>0</td>\n      <td>0</td>\n    </tr>\n    <tr>\n      <th>232721</th>\n      <td>Soul</td>\n      <td>Jr Thomas &amp; The Volcanos</td>\n      <td>Burning Fire</td>\n      <td>1qWZdkBl4UVPj9lK6HuuFM</td>\n      <td>38</td>\n      <td>0.03290</td>\n      <td>0.785</td>\n      <td>282447</td>\n      <td>0.683</td>\n      <td>0.000880</td>\n      <td>...</td>\n      <td>0</td>\n      <td>0</td>\n      <td>0</td>\n      <td>0</td>\n      <td>0</td>\n      <td>0</td>\n      <td>0</td>\n      <td>1</td>\n      <td>0</td>\n      <td>0</td>\n    </tr>\n    <tr>\n      <th>232722</th>\n      <td>Soul</td>\n      <td>Muddy Waters</td>\n      <td>(I'm Your) Hoochie Coochie Man</td>\n      <td>2ziWXUmQLrXTiYjCg2fZ2t</td>\n      <td>47</td>\n      <td>0.90100</td>\n      <td>0.517</td>\n      <td>166960</td>\n      <td>0.419</td>\n      <td>0.000000</td>\n      <td>...</td>\n      <td>0</td>\n      <td>0</td>\n      <td>0</td>\n      <td>0</td>\n      <td>0</td>\n      <td>0</td>\n      <td>0</td>\n      <td>1</td>\n      <td>0</td>\n      <td>0</td>\n    </tr>\n    <tr>\n      <th>232723</th>\n      <td>Soul</td>\n      <td>R.LUM.R</td>\n      <td>With My Words</td>\n      <td>6EFsue2YbIG4Qkq8Zr9Rir</td>\n      <td>44</td>\n      <td>0.26200</td>\n      <td>0.745</td>\n      <td>222442</td>\n      <td>0.704</td>\n      <td>0.000000</td>\n      <td>...</td>\n      <td>0</td>\n      <td>1</td>\n      <td>0</td>\n      <td>0</td>\n      <td>0</td>\n      <td>0</td>\n      <td>0</td>\n      <td>1</td>\n      <td>0</td>\n      <td>0</td>\n    </tr>\n    <tr>\n      <th>232724</th>\n      <td>Soul</td>\n      <td>Mint Condition</td>\n      <td>You Don't Have To Hurt No More</td>\n      <td>34XO9RwPMKjbvRry54QzWn</td>\n      <td>35</td>\n      <td>0.09730</td>\n      <td>0.758</td>\n      <td>323027</td>\n      <td>0.470</td>\n      <td>0.000049</td>\n      <td>...</td>\n      <td>0</td>\n      <td>0</td>\n      <td>0</td>\n      <td>0</td>\n      <td>0</td>\n      <td>0</td>\n      <td>0</td>\n      <td>1</td>\n      <td>0</td>\n      <td>0</td>\n    </tr>\n  </tbody>\n</table>\n<p>5 rows × 44 columns</p>\n</div>"
     },
     "execution_count": 150,
     "metadata": {},
     "output_type": "execute_result"
    }
   ],
   "source": [
    "df_genre_multilabel_binarized = df.join(\n",
    "    pd.DataFrame.sparse.from_spmatrix(  # Create sparse array of songs to merge into dataframe\n",
    "        genre_multilabel_binarizer.transform(df_grouped_genre_songs[\"genre\"]),  # Creates array of a sparse matrix\n",
    "        columns=genre_multilabel_binarizer.classes_,  # Sets columns into genre names instead of numbers\n",
    "        index=df_grouped_genre_songs[\"track_id\"]  # Creates index via track_id\n",
    "    ),\n",
    "    on=\"track_id\"\n",
    ")\n",
    "\n",
    "df_genre_multilabel_binarized.tail()\n"
   ]
  },
  {
   "cell_type": "markdown",
   "metadata": {},
   "source": [
    "Now that we have the multi-label binarizer done on the song tracks, let's re-examine our Frank Ocean song again to see how it matches up and if we can drop the old genre."
   ]
  },
  {
   "cell_type": "code",
   "execution_count": 151,
   "metadata": {},
   "outputs": [
    {
     "data": {
      "text/plain": "                   genre  artist_name track_name                track_id  \\\n142                  R&B  Frank Ocean  Seigfried  1BViPjTT585XAhkUUrkts0   \n1385         Alternative  Frank Ocean  Seigfried  1BViPjTT585XAhkUUrkts0   \n68573            Hip-Hop  Frank Ocean  Seigfried  1BViPjTT585XAhkUUrkts0   \n77577   Children's Music  Frank Ocean  Seigfried  1BViPjTT585XAhkUUrkts0   \n192149              Soul  Frank Ocean  Seigfried  1BViPjTT585XAhkUUrkts0   \n\n        popularity  acousticness  danceability  duration_ms  energy  \\\n142             66         0.975         0.377       334570   0.255   \n1385            61         0.975         0.377       334570   0.255   \n68573           66         0.975         0.377       334570   0.255   \n77577           66         0.975         0.377       334570   0.255   \n192149          66         0.975         0.377       334570   0.255   \n\n        instrumentalness  ... Pop  R&B  Rap Reggae  Reggaeton  Rock Ska  Soul  \\\n142             0.000208  ...   0    1    0      0          0     0   0     1   \n1385            0.000208  ...   0    1    0      0          0     0   0     1   \n68573           0.000208  ...   0    1    0      0          0     0   0     1   \n77577           0.000208  ...   0    1    0      0          0     0   0     1   \n192149          0.000208  ...   0    1    0      0          0     0   0     1   \n\n        Soundtrack  World  \n142              0      0  \n1385             0      0  \n68573            0      0  \n77577            0      0  \n192149           0      0  \n\n[5 rows x 44 columns]",
      "text/html": "<div>\n<style scoped>\n    .dataframe tbody tr th:only-of-type {\n        vertical-align: middle;\n    }\n\n    .dataframe tbody tr th {\n        vertical-align: top;\n    }\n\n    .dataframe thead th {\n        text-align: right;\n    }\n</style>\n<table border=\"1\" class=\"dataframe\">\n  <thead>\n    <tr style=\"text-align: right;\">\n      <th></th>\n      <th>genre</th>\n      <th>artist_name</th>\n      <th>track_name</th>\n      <th>track_id</th>\n      <th>popularity</th>\n      <th>acousticness</th>\n      <th>danceability</th>\n      <th>duration_ms</th>\n      <th>energy</th>\n      <th>instrumentalness</th>\n      <th>...</th>\n      <th>Pop</th>\n      <th>R&amp;B</th>\n      <th>Rap</th>\n      <th>Reggae</th>\n      <th>Reggaeton</th>\n      <th>Rock</th>\n      <th>Ska</th>\n      <th>Soul</th>\n      <th>Soundtrack</th>\n      <th>World</th>\n    </tr>\n  </thead>\n  <tbody>\n    <tr>\n      <th>142</th>\n      <td>R&amp;B</td>\n      <td>Frank Ocean</td>\n      <td>Seigfried</td>\n      <td>1BViPjTT585XAhkUUrkts0</td>\n      <td>66</td>\n      <td>0.975</td>\n      <td>0.377</td>\n      <td>334570</td>\n      <td>0.255</td>\n      <td>0.000208</td>\n      <td>...</td>\n      <td>0</td>\n      <td>1</td>\n      <td>0</td>\n      <td>0</td>\n      <td>0</td>\n      <td>0</td>\n      <td>0</td>\n      <td>1</td>\n      <td>0</td>\n      <td>0</td>\n    </tr>\n    <tr>\n      <th>1385</th>\n      <td>Alternative</td>\n      <td>Frank Ocean</td>\n      <td>Seigfried</td>\n      <td>1BViPjTT585XAhkUUrkts0</td>\n      <td>61</td>\n      <td>0.975</td>\n      <td>0.377</td>\n      <td>334570</td>\n      <td>0.255</td>\n      <td>0.000208</td>\n      <td>...</td>\n      <td>0</td>\n      <td>1</td>\n      <td>0</td>\n      <td>0</td>\n      <td>0</td>\n      <td>0</td>\n      <td>0</td>\n      <td>1</td>\n      <td>0</td>\n      <td>0</td>\n    </tr>\n    <tr>\n      <th>68573</th>\n      <td>Hip-Hop</td>\n      <td>Frank Ocean</td>\n      <td>Seigfried</td>\n      <td>1BViPjTT585XAhkUUrkts0</td>\n      <td>66</td>\n      <td>0.975</td>\n      <td>0.377</td>\n      <td>334570</td>\n      <td>0.255</td>\n      <td>0.000208</td>\n      <td>...</td>\n      <td>0</td>\n      <td>1</td>\n      <td>0</td>\n      <td>0</td>\n      <td>0</td>\n      <td>0</td>\n      <td>0</td>\n      <td>1</td>\n      <td>0</td>\n      <td>0</td>\n    </tr>\n    <tr>\n      <th>77577</th>\n      <td>Children's Music</td>\n      <td>Frank Ocean</td>\n      <td>Seigfried</td>\n      <td>1BViPjTT585XAhkUUrkts0</td>\n      <td>66</td>\n      <td>0.975</td>\n      <td>0.377</td>\n      <td>334570</td>\n      <td>0.255</td>\n      <td>0.000208</td>\n      <td>...</td>\n      <td>0</td>\n      <td>1</td>\n      <td>0</td>\n      <td>0</td>\n      <td>0</td>\n      <td>0</td>\n      <td>0</td>\n      <td>1</td>\n      <td>0</td>\n      <td>0</td>\n    </tr>\n    <tr>\n      <th>192149</th>\n      <td>Soul</td>\n      <td>Frank Ocean</td>\n      <td>Seigfried</td>\n      <td>1BViPjTT585XAhkUUrkts0</td>\n      <td>66</td>\n      <td>0.975</td>\n      <td>0.377</td>\n      <td>334570</td>\n      <td>0.255</td>\n      <td>0.000208</td>\n      <td>...</td>\n      <td>0</td>\n      <td>1</td>\n      <td>0</td>\n      <td>0</td>\n      <td>0</td>\n      <td>0</td>\n      <td>0</td>\n      <td>1</td>\n      <td>0</td>\n      <td>0</td>\n    </tr>\n  </tbody>\n</table>\n<p>5 rows × 44 columns</p>\n</div>"
     },
     "execution_count": 151,
     "metadata": {},
     "output_type": "execute_result"
    }
   ],
   "source": [
    "duplicated_all = df_genre_multilabel_binarized[df_genre_multilabel_binarized.duplicated(subset = 'track_id', keep=False)]\n",
    "duplicated = df_genre_multilabel_binarized[df_genre_multilabel_binarized.duplicated(subset = 'track_id', keep='first')]\n",
    "frank_ocean = df_genre_multilabel_binarized[df_genre_multilabel_binarized['track_id'] == duplicated['track_id'].iloc[9]]\n",
    "frank_ocean"
   ]
  },
  {
   "cell_type": "code",
   "execution_count": 152,
   "metadata": {},
   "outputs": [
    {
     "data": {
      "text/plain": "      artist_name track_name                track_id  popularity  \\\n142   Frank Ocean  Seigfried  1BViPjTT585XAhkUUrkts0          66   \n1393  Frank Ocean  Seigfried  1BViPjTT585XAhkUUrkts0          61   \n\n      acousticness  danceability  duration_ms  energy  instrumentalness key  \\\n142          0.975         0.377       334570   0.255          0.000208   E   \n1393         0.975         0.377       334570   0.255          0.000208   E   \n\n      ...  Pop  R&B Rap  Reggae  Reggaeton Rock  Ska  Soul  Soundtrack  World  \n142   ...    0    1   0       0          0    0    0     1           0      0  \n1393  ...    0    1   0       0          0    0    0     1           0      0  \n\n[2 rows x 43 columns]",
      "text/html": "<div>\n<style scoped>\n    .dataframe tbody tr th:only-of-type {\n        vertical-align: middle;\n    }\n\n    .dataframe tbody tr th {\n        vertical-align: top;\n    }\n\n    .dataframe thead th {\n        text-align: right;\n    }\n</style>\n<table border=\"1\" class=\"dataframe\">\n  <thead>\n    <tr style=\"text-align: right;\">\n      <th></th>\n      <th>artist_name</th>\n      <th>track_name</th>\n      <th>track_id</th>\n      <th>popularity</th>\n      <th>acousticness</th>\n      <th>danceability</th>\n      <th>duration_ms</th>\n      <th>energy</th>\n      <th>instrumentalness</th>\n      <th>key</th>\n      <th>...</th>\n      <th>Pop</th>\n      <th>R&amp;B</th>\n      <th>Rap</th>\n      <th>Reggae</th>\n      <th>Reggaeton</th>\n      <th>Rock</th>\n      <th>Ska</th>\n      <th>Soul</th>\n      <th>Soundtrack</th>\n      <th>World</th>\n    </tr>\n  </thead>\n  <tbody>\n    <tr>\n      <th>142</th>\n      <td>Frank Ocean</td>\n      <td>Seigfried</td>\n      <td>1BViPjTT585XAhkUUrkts0</td>\n      <td>66</td>\n      <td>0.975</td>\n      <td>0.377</td>\n      <td>334570</td>\n      <td>0.255</td>\n      <td>0.000208</td>\n      <td>E</td>\n      <td>...</td>\n      <td>0</td>\n      <td>1</td>\n      <td>0</td>\n      <td>0</td>\n      <td>0</td>\n      <td>0</td>\n      <td>0</td>\n      <td>1</td>\n      <td>0</td>\n      <td>0</td>\n    </tr>\n    <tr>\n      <th>1393</th>\n      <td>Frank Ocean</td>\n      <td>Seigfried</td>\n      <td>1BViPjTT585XAhkUUrkts0</td>\n      <td>61</td>\n      <td>0.975</td>\n      <td>0.377</td>\n      <td>334570</td>\n      <td>0.255</td>\n      <td>0.000208</td>\n      <td>E</td>\n      <td>...</td>\n      <td>0</td>\n      <td>1</td>\n      <td>0</td>\n      <td>0</td>\n      <td>0</td>\n      <td>0</td>\n      <td>0</td>\n      <td>1</td>\n      <td>0</td>\n      <td>0</td>\n    </tr>\n  </tbody>\n</table>\n<p>2 rows × 43 columns</p>\n</div>"
     },
     "execution_count": 152,
     "metadata": {},
     "output_type": "execute_result"
    }
   ],
   "source": [
    "df_audio_reg_feats = df_genre_multilabel_binarized.drop(columns=[\"genre\"]).reset_index(drop=True)  # Remove single \"genre\" column in favor of multiple \"one-hot enccodings\" via Multilabel Binarizer\n",
    "df_audio_reg_feats.drop_duplicates(subset=['artist_name','track_name','track_id', 'popularity'], keep='first',inplace=True)  # Note: add popularity to reduce condensing for future averaging of score\n",
    "\n",
    "duplicated_all = df_audio_reg_feats[df_audio_reg_feats.duplicated(subset = 'track_id', keep=False)]  # list all duplicated songs subset by track_id\n",
    "duplicated = df_audio_reg_feats[df_audio_reg_feats.duplicated(subset = 'track_id', keep='first')]  # now keep only the first track of duplicates for individual track_ids\n",
    "df_audio_reg_feats[df_audio_reg_feats['track_id'] == duplicated['track_id'].iloc[0]]  # Extract matching duplicates only"
   ]
  },
  {
   "cell_type": "markdown",
   "metadata": {},
   "source": [
    "Now that we've reduced Seigfried by Frank Ocean to just two rows, we can now see that popularity is the only separation between the two rows. Let's go ahead and fix that by taking the average popularity score between the the duplicated rows."
   ]
  },
  {
   "cell_type": "code",
   "execution_count": 153,
   "outputs": [
    {
     "data": {
      "text/plain": "                    track_id  artist_name track_name  popularity  \\\n142   1BViPjTT585XAhkUUrkts0  Frank Ocean  Seigfried        63.5   \n1384  1BViPjTT585XAhkUUrkts0  Frank Ocean  Seigfried        63.5   \n\n      acousticness  danceability  duration_ms  energy  instrumentalness key  \\\n142          0.975         0.377       334570   0.255          0.000208   E   \n1384         0.975         0.377       334570   0.255          0.000208   E   \n\n      ...  Pop  R&B Rap  Reggae  Reggaeton Rock  Ska  Soul  Soundtrack  World  \n142   ...    0    1   0       0          0    0    0     1           0      0  \n1384  ...    0    1   0       0          0    0    0     1           0      0  \n\n[2 rows x 43 columns]",
      "text/html": "<div>\n<style scoped>\n    .dataframe tbody tr th:only-of-type {\n        vertical-align: middle;\n    }\n\n    .dataframe tbody tr th {\n        vertical-align: top;\n    }\n\n    .dataframe thead th {\n        text-align: right;\n    }\n</style>\n<table border=\"1\" class=\"dataframe\">\n  <thead>\n    <tr style=\"text-align: right;\">\n      <th></th>\n      <th>track_id</th>\n      <th>artist_name</th>\n      <th>track_name</th>\n      <th>popularity</th>\n      <th>acousticness</th>\n      <th>danceability</th>\n      <th>duration_ms</th>\n      <th>energy</th>\n      <th>instrumentalness</th>\n      <th>key</th>\n      <th>...</th>\n      <th>Pop</th>\n      <th>R&amp;B</th>\n      <th>Rap</th>\n      <th>Reggae</th>\n      <th>Reggaeton</th>\n      <th>Rock</th>\n      <th>Ska</th>\n      <th>Soul</th>\n      <th>Soundtrack</th>\n      <th>World</th>\n    </tr>\n  </thead>\n  <tbody>\n    <tr>\n      <th>142</th>\n      <td>1BViPjTT585XAhkUUrkts0</td>\n      <td>Frank Ocean</td>\n      <td>Seigfried</td>\n      <td>63.5</td>\n      <td>0.975</td>\n      <td>0.377</td>\n      <td>334570</td>\n      <td>0.255</td>\n      <td>0.000208</td>\n      <td>E</td>\n      <td>...</td>\n      <td>0</td>\n      <td>1</td>\n      <td>0</td>\n      <td>0</td>\n      <td>0</td>\n      <td>0</td>\n      <td>0</td>\n      <td>1</td>\n      <td>0</td>\n      <td>0</td>\n    </tr>\n    <tr>\n      <th>1384</th>\n      <td>1BViPjTT585XAhkUUrkts0</td>\n      <td>Frank Ocean</td>\n      <td>Seigfried</td>\n      <td>63.5</td>\n      <td>0.975</td>\n      <td>0.377</td>\n      <td>334570</td>\n      <td>0.255</td>\n      <td>0.000208</td>\n      <td>E</td>\n      <td>...</td>\n      <td>0</td>\n      <td>1</td>\n      <td>0</td>\n      <td>0</td>\n      <td>0</td>\n      <td>0</td>\n      <td>0</td>\n      <td>1</td>\n      <td>0</td>\n      <td>0</td>\n    </tr>\n  </tbody>\n</table>\n<p>2 rows × 43 columns</p>\n</div>"
     },
     "execution_count": 153,
     "metadata": {},
     "output_type": "execute_result"
    }
   ],
   "source": [
    "avg_duplicates_popularity = df_audio_reg_feats.groupby(\"track_id\")['popularity'].mean()\n",
    "df_audio_reg_feats = df_audio_reg_feats.set_index('track_id')  # matches indexes of avg_duplicates_popularity\n",
    "df_audio_reg_feats[\"popularity\"] = avg_duplicates_popularity  # Write over old popularity with avg popularity\n",
    "df_audio_reg_feats = df_audio_reg_feats.reset_index()  # resets to take off hierarchical index\n",
    "\n",
    "df_audio_reg_feats[df_audio_reg_feats['track_id'] == duplicated['track_id'].iloc[0]]"
   ],
   "metadata": {
    "collapsed": false,
    "pycharm": {
     "name": "#%%\n"
    }
   }
  },
  {
   "cell_type": "code",
   "execution_count": 154,
   "outputs": [
    {
     "data": {
      "text/plain": "                   track_id  artist_name track_name  popularity  acousticness  \\\n142  1BViPjTT585XAhkUUrkts0  Frank Ocean  Seigfried        63.5         0.975   \n\n     danceability  duration_ms  energy  instrumentalness key  ...  Pop  R&B  \\\n142         0.377       334570   0.255          0.000208   E  ...    0    1   \n\n    Rap  Reggae  Reggaeton Rock  Ska  Soul  Soundtrack  World  \n142   0       0          0    0    0     1           0      0  \n\n[1 rows x 43 columns]",
      "text/html": "<div>\n<style scoped>\n    .dataframe tbody tr th:only-of-type {\n        vertical-align: middle;\n    }\n\n    .dataframe tbody tr th {\n        vertical-align: top;\n    }\n\n    .dataframe thead th {\n        text-align: right;\n    }\n</style>\n<table border=\"1\" class=\"dataframe\">\n  <thead>\n    <tr style=\"text-align: right;\">\n      <th></th>\n      <th>track_id</th>\n      <th>artist_name</th>\n      <th>track_name</th>\n      <th>popularity</th>\n      <th>acousticness</th>\n      <th>danceability</th>\n      <th>duration_ms</th>\n      <th>energy</th>\n      <th>instrumentalness</th>\n      <th>key</th>\n      <th>...</th>\n      <th>Pop</th>\n      <th>R&amp;B</th>\n      <th>Rap</th>\n      <th>Reggae</th>\n      <th>Reggaeton</th>\n      <th>Rock</th>\n      <th>Ska</th>\n      <th>Soul</th>\n      <th>Soundtrack</th>\n      <th>World</th>\n    </tr>\n  </thead>\n  <tbody>\n    <tr>\n      <th>142</th>\n      <td>1BViPjTT585XAhkUUrkts0</td>\n      <td>Frank Ocean</td>\n      <td>Seigfried</td>\n      <td>63.5</td>\n      <td>0.975</td>\n      <td>0.377</td>\n      <td>334570</td>\n      <td>0.255</td>\n      <td>0.000208</td>\n      <td>E</td>\n      <td>...</td>\n      <td>0</td>\n      <td>1</td>\n      <td>0</td>\n      <td>0</td>\n      <td>0</td>\n      <td>0</td>\n      <td>0</td>\n      <td>1</td>\n      <td>0</td>\n      <td>0</td>\n    </tr>\n  </tbody>\n</table>\n<p>1 rows × 43 columns</p>\n</div>"
     },
     "execution_count": 154,
     "metadata": {},
     "output_type": "execute_result"
    }
   ],
   "source": [
    "df_audio_reg_feats.drop_duplicates(subset=['artist_name','track_name','track_id'], keep='first',inplace=True)\n",
    "\n",
    "df_audio_reg_feats[df_audio_reg_feats['track_id'] == duplicated['track_id'].iloc[0]]"
   ],
   "metadata": {
    "collapsed": false,
    "pycharm": {
     "name": "#%%\n"
    }
   }
  },
  {
   "cell_type": "markdown",
   "source": [
    "Now that we've taken the average popularity for the remaining duplicates and dropped all duplicate rows, let's see how our duplication is shaping up."
   ],
   "metadata": {
    "collapsed": false
   }
  },
  {
   "cell_type": "code",
   "execution_count": 155,
   "outputs": [
    {
     "name": "stdout",
     "output_type": "stream",
     "text": [
      "New Dataset's Unique Duplicates: 275 -- previously 55951 duplicates\n",
      "New Dataset's Total Duplicated Rows: 550 -- previously 91075 rows\n",
      "New Dataset's Total Data Rows: 177049 -- previously 232725 rows\n",
      "New Dataset's Duplicates Percentage: 0.24 % -- previously 39.13 %\n"
     ]
    }
   ],
   "source": [
    "# Update duplicated variables with df_audio_reg_feats to see how it's shaping up.\n",
    "duplicated_all = df_audio_reg_feats[df_audio_reg_feats.duplicated(subset = 'track_id', keep=False)]\n",
    "duplicated = df_audio_reg_feats[df_audio_reg_feats.duplicated(subset = 'track_id', keep='first')]\n",
    "\n",
    "new_duplicates_shape = duplicated.shape[0]\n",
    "new_total_dupes = duplicated_all.shape[0]\n",
    "new_total_df_records = df_audio_reg_feats.shape[0]\n",
    "new_dupe_percentage = round(duplicated_all.shape[0]/df.shape[0]*100, 2)\n",
    "\n",
    "print(f'''New Dataset's Unique Duplicates: {new_duplicates_shape} -- previously {og_duplicates_shape} duplicates\n",
    "New Dataset's Total Duplicated Rows: {new_total_dupes} -- previously {og_total_dupes} rows\n",
    "New Dataset's Total Data Rows: {new_total_df_records} -- previously {og_total_df_records} rows\n",
    "New Dataset's Duplicates Percentage: {new_dupe_percentage} % -- previously {og_dupe_percentage} %''')"
   ],
   "metadata": {
    "collapsed": false,
    "pycharm": {
     "name": "#%%\n"
    }
   }
  },
  {
   "cell_type": "markdown",
   "source": [
    "We have reduced from about 40% duplicates to now roughly 0.24% of duplicated data. That's a considerable improvement from the previous measure. We could look closer at spelling storage errors within track names and artist names, but we'll cut it off here as our rates are satisfactory."
   ],
   "metadata": {
    "collapsed": false
   }
  },
  {
   "cell_type": "markdown",
   "metadata": {},
   "source": [
    "\n",
    "**Outliers? Are those mistakes? How do you deal with these problems?**\n",
    "\n",
    "For a change of pace, we will use pandas profiling library to examine closer at any potential outliers. Let's generate an exploration report on what new dataset\n"
   ]
  },
  {
   "cell_type": "code",
   "execution_count": 156,
   "outputs": [],
   "source": [
    "import seaborn as sns\n",
    "import matplotlib.pyplot as plt\n",
    "%matplotlib inline"
   ],
   "metadata": {
    "collapsed": false,
    "pycharm": {
     "name": "#%%\n"
    }
   }
  },
  {
   "cell_type": "code",
   "execution_count": 189,
   "outputs": [],
   "source": [
    "numerical_columns = df_audio_reg_feats.select_dtypes(include=['int16', 'int32', 'int64', 'float16', 'float32', 'float64'])\n",
    "genre_columns = df_audio_reg_feats[genre_multilabel_binarizer.classes_]\n",
    "\n",
    "desired_boxplot_columns = numerical_columns.drop(axis=1, labels=genre_columns).drop([\"duration_ms\", \"popularity\", \"loudness\", \"tempo\"], axis=1)\n"
   ],
   "metadata": {
    "collapsed": false,
    "pycharm": {
     "name": "#%%\n"
    }
   }
  },
  {
   "cell_type": "code",
   "execution_count": 225,
   "outputs": [],
   "source": [
    "sns.set(rc = {'figure.figsize':(15,8)})\n",
    "sns.set(font_scale = 1.5)"
   ],
   "metadata": {
    "collapsed": false,
    "pycharm": {
     "name": "#%%\n"
    }
   }
  },
  {
   "cell_type": "code",
   "execution_count": 226,
   "outputs": [
    {
     "data": {
      "text/plain": "Text(0.5, 1.0, 'Audio Feature Scale')"
     },
     "execution_count": 226,
     "metadata": {},
     "output_type": "execute_result"
    },
    {
     "data": {
      "text/plain": "<Figure size 1080x576 with 1 Axes>",
      "image/png": "[encoded data removed]"
     },
     "metadata": {},
     "output_type": "display_data"
    }
   ],
   "source": [
    "p = sns.boxplot(x=\"value\", y=\"variable\", data = pd.melt(desired_boxplot_columns))\n",
    "p.set_title(\"Audio Feature Scale\")"
   ],
   "metadata": {
    "collapsed": false,
    "pycharm": {
     "name": "#%%\n"
    }
   }
  },
  {
   "cell_type": "code",
   "execution_count": 227,
   "outputs": [
    {
     "data": {
      "text/plain": "Text(0.5, 0, 'Popularity Value')"
     },
     "execution_count": 227,
     "metadata": {},
     "output_type": "execute_result"
    },
    {
     "data": {
      "text/plain": "<Figure size 1080x576 with 1 Axes>",
      "image/png": "[encoded data removed]"
     },
     "metadata": {},
     "output_type": "display_data"
    }
   ],
   "source": [
    "p = sns.boxplot(x=\"popularity\", data=numerical_columns)\n",
    "p.set_title(\"Song's Popularity\")\n",
    "p.set_xlabel(\"Popularity Value\")"
   ],
   "metadata": {
    "collapsed": false,
    "pycharm": {
     "name": "#%%\n"
    }
   }
  },
  {
   "cell_type": "code",
   "execution_count": 228,
   "outputs": [
    {
     "data": {
      "text/plain": "Text(0.5, 0, 'Duration (in milliseconds)')"
     },
     "execution_count": 228,
     "metadata": {},
     "output_type": "execute_result"
    },
    {
     "data": {
      "text/plain": "<Figure size 1080x576 with 1 Axes>",
      "image/png": "[encoded data removed]"
     },
     "metadata": {},
     "output_type": "display_data"
    }
   ],
   "source": [
    "p = sns.boxplot(x=\"duration_ms\", data=numerical_columns)\n",
    "p.set_title(\"Song Duration Length\")\n",
    "p.set_xlabel(\"Duration (in milliseconds)\")"
   ],
   "metadata": {
    "collapsed": false,
    "pycharm": {
     "name": "#%%\n"
    }
   }
  },
  {
   "cell_type": "code",
   "execution_count": 232,
   "outputs": [
    {
     "data": {
      "text/plain": "Text(0.5, 0, 'BPM')"
     },
     "execution_count": 232,
     "metadata": {},
     "output_type": "execute_result"
    },
    {
     "data": {
      "text/plain": "<Figure size 1080x576 with 1 Axes>",
      "image/png": "[encoded data removed]"
     },
     "metadata": {},
     "output_type": "display_data"
    }
   ],
   "source": [
    "p = sns.boxplot(x=\"tempo\", data=numerical_columns)\n",
    "p.set_title(\"Song Tempos\")\n",
    "p.set_xlabel(\"BPM\")"
   ],
   "metadata": {
    "collapsed": false,
    "pycharm": {
     "name": "#%%\n"
    }
   }
  },
  {
   "cell_type": "code",
   "execution_count": 233,
   "outputs": [
    {
     "data": {
      "text/plain": "Text(0.5, 0, 'Decibels (dB)')"
     },
     "execution_count": 233,
     "metadata": {},
     "output_type": "execute_result"
    },
    {
     "data": {
      "text/plain": "<Figure size 1080x576 with 1 Axes>",
      "image/png": "[encoded data removed]"
     },
     "metadata": {},
     "output_type": "display_data"
    }
   ],
   "source": [
    "p = sns.boxplot(x=\"loudness\", data=numerical_columns)\n",
    "p.set_title(\"Song Loudness\")\n",
    "p.set_xlabel(\"Decibels (dB)\")"
   ],
   "metadata": {
    "collapsed": false,
    "pycharm": {
     "name": "#%%\n"
    }
   }
  },
  {
   "cell_type": "markdown",
   "metadata": {},
   "source": [
    "**Visualize the any important attributes appropriately. Important: Provide an interpretation for any charts or graphs.**"
   ]
  },
  {
   "cell_type": "markdown",
   "metadata": {},
   "source": [
    "## Modeling and Evaluation \n",
    "Different tasks will require different evaluation methods. Be as thorough as possible when analyzing\n",
    "the data you have chosen and use visualizations of the results to explain the performance and\n",
    "expected outcomes whenever possible. Guide the reader through your analysis with plenty of\n",
    "discussion of the results\n",
    "* **Option A: Cluster Analysis:**\n",
    "  * Perform cluster analysis using several clustering methods\n",
    "  * How did you determine a suitable number of clusters for each method?\n",
    "  * Use internal and/or external validation measures to describe and compare the clusterings and the clusters (some visual methods would be good).\n",
    "  * Describe your results. What findings are the most interesting and why?\n",
    "* **Option B: Association Rule Mining:**\n",
    "  * Create frequent itemsets and association rules\n",
    "  * User tables/visualization to discuss the found results\n",
    "  * Use several measures for evaluating how interesting different rules are.\n",
    "  * Describe your results. What findings are the most compelling and why?\n",
    "* **Option C: Collaborative Filtering:**\n",
    "  * Create user-item matrices or item-item matrices using collaborative filtering\n",
    "  * Determine performance of the recommendations using different performance measures and explain what each measure\n",
    "  * User tables/visualizations to discuss the found results. Explain each visualization in detail.\n",
    "  * Describe your results. What findings are the most compelling and why?\n"
   ]
  },
  {
   "cell_type": "markdown",
   "metadata": {},
   "source": []
  },
  {
   "cell_type": "code",
   "execution_count": 230,
   "metadata": {},
   "outputs": [],
   "source": []
  },
  {
   "cell_type": "markdown",
   "metadata": {},
   "source": [
    "## Deployment\n",
    "Be critical of your performance and tell the reader how you current model might be usable by\n",
    "other parties. Did you achieve your goals? If not, can you reign in the utility of your modeling?\n",
    "* How useful is your model for interested parties (i.e., the companies or organizations that might want to use it)?\n",
    "* How would your deploy your model for interested parties?\n",
    "* What other data should be collected?\n",
    "* How often would the model need to be updated, etc.?"
   ]
  },
  {
   "cell_type": "markdown",
   "metadata": {},
   "source": [
    "# Analysis\n",
    "\n",
    "## Business Understanding\n"
   ]
  }
 ],
 "metadata": {
  "interpreter": {
   "hash": "74f1902591b77d9303fb49ebb9b4e89096207a70416360bf0c1ae06e071333fe"
  },
  "kernelspec": {
   "display_name": "Python 3.7.1 64-bit ('ML1': conda)",
   "language": "python",
   "name": "python3"
  },
  "language_info": {
   "codemirror_mode": {
    "name": "ipython",
    "version": 3
   },
   "file_extension": ".py",
   "mimetype": "text/x-python",
   "name": "python",
   "nbconvert_exporter": "python",
   "pygments_lexer": "ipython3",
   "version": "3.7.1"
  },
  "orig_nbformat": 4
 },
 "nbformat": 4,
 "nbformat_minor": 2
}
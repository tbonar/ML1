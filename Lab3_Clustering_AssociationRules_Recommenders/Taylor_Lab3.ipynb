{
 "cells": [
  {
   "cell_type": "markdown",
   "metadata": {},
   "source": [
    "**Group 2:**\n",
    "- Taylor Bonar\n",
    "- Robert Burigo\n",
    "- Rashmi Patel\n",
    "- Scott Englerth\n",
    "# Rubric\n",
    "## Business Understanding\n",
    "* Describe the purpose of the data set you selected (i.e., why was this data\n",
    "collected in the first place?). How will you measure the effectiveness of a good algorithm? Why does your chosen validation method make sense for this specific\n",
    "dataset and the stakeholders needs?\n"
   ]
  },
  {
   "cell_type": "markdown",
   "metadata": {},
   "source": [
    "## Data Understanding\n",
    "* Describe the meaning and type of data (scale, values, etc.) for each\n",
    "attribute in the data file. Verify data quality: Are there missing values? Duplicate data?\n",
    "Outliers? Are those mistakes? How do you deal with these problems?\n",
    "* Visualize the any important attributes appropriately. Important: Provide an\n",
    "interpretation for any charts or graphs."
   ]
  },
  {
   "cell_type": "markdown",
   "metadata": {},
   "source": [
    "## Modeling and Evaluation \n",
    "Different tasks will require different evaluation methods. Be as thorough as possible when analyzing\n",
    "the data you have chosen and use visualizations of the results to explain the performance and\n",
    "expected outcomes whenever possible. Guide the reader through your analysis with plenty of\n",
    "discussion of the results\n",
    "* **Option A: Cluster Analysis:**\n",
    "  * Perform cluster analysis using several clustering methods\n",
    "  * How did you determine a suitable number of clusters for each method?\n",
    "  * Use internal and/or external validation measures to describe and compare the clusterings and the clusters (some visual methods would be good).\n",
    "  * Describe your results. What findings are the most interesting and why?\n",
    "* **Option B: Association Rule Mining:**\n",
    "  * Create frequent itemsets and association rules\n",
    "  * User tables/visualization to discuss the found results\n",
    "  * Use several measures for evaluating how interesting different rules are.\n",
    "  * Describe your results. What findings are the most compelling and why?\n",
    "* **Option C: Collaborative Filtering:**\n",
    "  * Create user-item matrices or item-item matrices using collaborative filtering\n",
    "  * Determine performance of the recommendations using different performance measures and explain what each measure\n",
    "  * User tables/visualizations to discuss the found results. Explain each visualization in detail.\n",
    "  * Describe your results. What findings are the most compelling and why?\n"
   ]
  },
  {
   "cell_type": "markdown",
   "metadata": {},
   "source": [
    "## Deployment\n",
    "Be critical of your performance and tell the reader how you current model might be usable by\n",
    "other parties. Did you achieve your goals? If not, can you reign in the utility of your modeling?\n",
    "* How useful is your model for interested parties (i.e., the companies or organizations that might want to use it)?\n",
    "* How would your deploy your model for interested parties?\n",
    "* What other data should be collected?\n",
    "* How often would the model need to be updated, etc.?"
   ]
  },
  {
   "cell_type": "markdown",
   "metadata": {},
   "source": [
    "# Analysis\n",
    "\n",
    "## Business Understanding\n"
   ]
  }
 ],
 "metadata": {
  "interpreter": {
   "hash": "74f1902591b77d9303fb49ebb9b4e89096207a70416360bf0c1ae06e071333fe"
  },
  "kernelspec": {
   "display_name": "Python 3.7.1 64-bit ('ML1': conda)",
   "language": "python",
   "name": "python3"
  },
  "language_info": {
   "name": "python",
   "version": "3.7.1"
  },
  "orig_nbformat": 4
 },
 "nbformat": 4,
 "nbformat_minor": 2
}

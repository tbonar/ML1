{
 "cells": [
  {
   "cell_type": "code",
   "execution_count": 10,
   "metadata": {},
   "outputs": [
    {
     "data": {
      "text/html": [
       "<link href='https://fonts.googleapis.com/css?family=Passion+One' rel='stylesheet' type='text/css'><style>div.attn { font-family: 'Helvetica Neue'; font-size: 30px; line-height: 40px; color: #FFFFFF; text-align: center; margin: 30px 0; border-width: 10px 0; border-style: solid; border-color: #5AAAAA; padding: 30px 0; background-color: #DDDDFF; }hr { border: 0; background-color: #ffffff; border-top: 1px solid black; }hr.major { border-top: 10px solid #5AAA5A; }hr.minor { border: none; background-color: #ffffff; border-top: 5px dotted #CC3333; }div.bubble { width: 65%; padding: 20px; background: #DDDDDD; border-radius: 15px; margin: 0 auto; font-style: italic; color: #f00; }em { color: #AAA; }div.c1{visibility:hidden;margin:0;height:0;}div.note{color:red;}</style>"
      ],
      "text/plain": [
       "<IPython.core.display.HTML object>"
      ]
     },
     "execution_count": 10,
     "metadata": {},
     "output_type": "execute_result"
    }
   ],
   "source": [
    "#  Ebnable HTML/CSS \n",
    "from IPython.core.display import HTML\n",
    "HTML(\"<link href='https://fonts.googleapis.com/css?family=Passion+One' rel='stylesheet' type='text/css'><style>div.attn { font-family: 'Helvetica Neue'; font-size: 30px; line-height: 40px; color: #FFFFFF; text-align: center; margin: 30px 0; border-width: 10px 0; border-style: solid; border-color: #5AAAAA; padding: 30px 0; background-color: #DDDDFF; }hr { border: 0; background-color: #ffffff; border-top: 1px solid black; }hr.major { border-top: 10px solid #5AAA5A; }hr.minor { border: none; background-color: #ffffff; border-top: 5px dotted #CC3333; }div.bubble { width: 65%; padding: 20px; background: #DDDDDD; border-radius: 15px; margin: 0 auto; font-style: italic; color: #f00; }em { color: #AAA; }div.c1{visibility:hidden;margin:0;height:0;}div.note{color:red;}</style>\")"
   ]
  },
  {
   "cell_type": "markdown",
   "metadata": {},
   "source": [
    "___\n",
    "**GROUP 2** \n",
    "- Name 1: Taylor Bonar\n",
    "- Name 2: Robert Burigo\n",
    "- Name 3: Rashmi Patel\n",
    "- Name 4: Scott Englerth\n",
    "________\n",
    "\n",
    "# In Class Assignment Three\n",
    "In the following assignment you will be asked to fill in python code and derivations for a number of different problems. Please read all instructions carefully and turn in the rendered notebook (or HTML of the rendered notebook)  before the end of class.\n",
    "\n",
    "<a id=\"top\"></a>\n",
    "## Contents\n",
    "* <a href=\"#Loading\">Loading the Data</a>\n",
    "* <a href=\"#distance\">Measuring Distances</a>\n",
    "* <a href=\"#KNN\">K-Nearest Neighbors</a>\n",
    "* <a href=\"#naive\">Naive Bayes</a>\n",
    "\n",
    "________________________________________________________________________________________________________\n",
    "<a id=\"Loading\"></a>\n",
    "<a href=\"#top\">Back to Top</a>\n",
    "## Downloading the Document Data\n",
    "Please run the following code to read in the \"20 newsgroups\" dataset from sklearn's data loading module."
   ]
  },
  {
   "cell_type": "code",
   "execution_count": 2,
   "metadata": {},
   "outputs": [],
   "source": [
    "from __future__ import print_function"
   ]
  },
  {
   "cell_type": "code",
   "execution_count": 3,
   "metadata": {},
   "outputs": [
    {
     "name": "stdout",
     "output_type": "stream",
     "text": [
      "features shape: (11314, 130107)\n",
      "target shape: (11314,)\n",
      "range of target: 0 19\n",
      "Data type is <class 'scipy.sparse.csr.csr_matrix'> 0.1214353154362896 % of the data is non-zero\n"
     ]
    }
   ],
   "source": [
    "from sklearn.datasets import fetch_20newsgroups_vectorized\n",
    "import numpy as np\n",
    "\n",
    "# this takes about 30 seconds to compute, read the next section while this downloads\n",
    "ds = fetch_20newsgroups_vectorized(subset='train')\n",
    "\n",
    "# this holds the continuous feature data (which is tfidf)\n",
    "print('features shape:', ds.data.shape) # there are ~11000 instances and ~130k features per instance\n",
    "print('target shape:', ds.target.shape) \n",
    "print('range of target:', np.min(ds.target),np.max(ds.target))\n",
    "print('Data type is', type(ds.data), float(ds.data.nnz)/(ds.data.shape[0]*ds.data.shape[1])*100, '% of the data is non-zero')"
   ]
  },
  {
   "cell_type": "markdown",
   "metadata": {},
   "source": [
    "## Understanding the Dataset\n",
    "Look at the description for the 20 newsgroups dataset at http://qwone.com/~jason/20Newsgroups/. You have just downloaded the \"vectorized\" version of the dataset, which means all the words inside the articles have gone through a transformation that binned them into 130 thousand features related to the words in them.  \n",
    "\n",
    "**Question Set 1**:\n",
    "- How many instances are in the dataset? \n",
    "- What does each instance represent? \n",
    "- How many classes are in the dataset and what does each class represent?\n",
    "- Would you expect a classifier trained on this data would generalize to documents written in the past week? Why or why not?\n",
    "- Is the data represented as a sparse or dense matrix?"
   ]
  },
  {
   "cell_type": "markdown",
   "metadata": {},
   "source": [
    "___\n",
    "- How many instances are in the dataset? **11314 instances**\n",
    "- What does each instance represent? **A different newsgroup where each newsgroup corresponds to a different topic where all the words in the article have been transformed/vectorized into 130,000 features**\n",
    "- How many classes are in the dataset and what does each class represent? **There are 20 classes representing a newsgroup with each corresponding to a different topic**\n",
    "- Would you expect a classifier trained on this data would generalize to documents written in the past week? Why or why not? **We think the data could possibly generalize documents to certain newsgroups, but due to the older data, we think the accuracy could be reduced**\n",
    "- Is the data represented as a sparse or dense matrix? **This is a sparse index as the data has 0.1214353154362896 % of non-zero values**"
   ]
  },
  {
   "cell_type": "markdown",
   "metadata": {},
   "source": [
    "___\n",
    "<a id=\"distance\"></a>\n",
    "<a href=\"#top\">Back to Top</a>\n",
    "## Measures of Distance\n",
    "In the following block of code, we isolate three instances from the dataset. The instance \"`a`\" is from the group *computer graphics*, \"`b`\" is from from the group *recreation autos*, and \"`c`\" is from group *recreation motorcycle*. **Exercise for part 2**: Calculate the: \n",
    "- (1) Euclidean distance\n",
    "- (2) Cosine distance \n",
    "- (3) Jaccard similarity \n",
    "\n",
    "between each pair of instances using the imported functions below. Remember that the Jaccard similarity is only for binary valued vectors, so convert vectors to binary using a threshold. \n",
    "\n",
    "**Question for part 2**: Which distance seems more appropriate to use for this data? **Why**?"
   ]
  },
  {
   "cell_type": "code",
   "execution_count": 9,
   "metadata": {},
   "outputs": [
    {
     "name": "stdout",
     "output_type": "stream",
     "text": [
      "Instance A is from class comp.graphics\n",
      "Instance B is from class rec.autos\n",
      "Instance C is from class rec.motorcycles\n",
      "a=[[0. 0. 0. ... 0. 0. 0.]]\n",
      "b=[[0. 0. 0. ... 0. 0. 0.]]\n",
      "c=[[0. 0. 0. ... 0. 0. 0.]]\n",
      "\n",
      "\n",
      "Euclidean Distance\n",
      "\tab:1.098518467187086\n",
      "\tac:1.1891405425398234\n",
      "\tbc:0.9177794226661622\n",
      "Cosine Distance\n",
      "\tab:0.6033714113755322 \n",
      "\tac:0.7070276149559529 \n",
      "\tbc:0.4211595343347173\n",
      "Jaccard Dissimilarity (vectors should be boolean values)\n",
      "\tab:1.0\n",
      "\tac:1.0\n",
      "\tbc:1.0\n",
      "\n",
      "\n",
      "The most appropriate distance is Cosine\n"
     ]
    }
   ],
   "source": [
    "from scipy.spatial.distance import cosine\n",
    "from scipy.spatial.distance import euclidean\n",
    "from scipy.spatial.distance import jaccard\n",
    "import numpy as np\n",
    "\n",
    "# get first instance (comp)\n",
    "idx = 550  # Index of comp.graphics\n",
    "a = ds.data[idx].todense()  # returns \"dense\" (most values are non-zero) matrix\n",
    "a_class = ds.target_names[ds.target[idx]]  # Retrieves the index/instance's target name\n",
    "print('Instance A is from class', a_class)\n",
    "\n",
    "# get second instance (autos)\n",
    "idx = 4000\n",
    "b = ds.data[idx].todense()\n",
    "b_class = ds.target_names[ds.target[idx]]\n",
    "print('Instance B is from class', b_class)\n",
    "\n",
    "# get third instance (motorcycle)\n",
    "idx = 7000\n",
    "c = ds.data[idx].todense()\n",
    "c_class = ds.target_names[ds.target[idx]]\n",
    "print('Instance C is from class', c_class)\n",
    "\n",
    "ab_euclidean = euclidean(a, b)\n",
    "ab_cosine = cosine(a, b)\n",
    "ab_jaccard = jaccard(a, b)\n",
    "\n",
    "ac_euclidean = euclidean(a, c)\n",
    "ac_cosine = cosine(a, c)\n",
    "ac_jaccard = jaccard(a, c)\n",
    "\n",
    "bc_euclidean = euclidean(b,c)\n",
    "bc_cosine = cosine(b,c)\n",
    "bc_jaccard = jaccard(b,c)\n",
    "print(f'a={a}')\n",
    "print(f'b={b}')\n",
    "print(f'c={c}')\n",
    "\n",
    "# Enter distance comparison below for each pair of vectors:\n",
    "p = 'Placeholder'\n",
    "print(f'\\n\\nEuclidean Distance\\n\\tab:{ab_euclidean}\\n\\tac:{ac_euclidean}\\n\\tbc:{bc_euclidean}')\n",
    "print(f'Cosine Distance\\n\\tab:{ab_cosine} \\n\\tac:{ac_cosine} \\n\\tbc:{bc_cosine}')\n",
    "print(f'Jaccard Dissimilarity (vectors should be boolean values)\\n\\tab:{ab_jaccard}' \\\n",
    "f'\\n\\tac:{ac_jaccard}\\n\\tbc:{bc_jaccard}')\n",
    "\n",
    "print('\\n\\nThe most appropriate distance is Cosine')"
   ]
  },
  {
   "cell_type": "markdown",
   "metadata": {},
   "source": [
    "___\n",
    "# Start of Live Session Assignment\n",
    "___\n",
    "<a id=\"KNN\"></a>\n",
    "<a href=\"#top\">Back to Top</a>\n",
    "## Using scikit-learn with KNN\n",
    "Now let's use stratified cross validation with a holdout set to train a KNN model in `scikit-learn`. Use the example below to train a KNN classifier. The documentation for `KNeighborsClassifier` is here: http://scikit-learn.org/stable/modules/generated/sklearn.neighbors.KNeighborsClassifier.html  \n",
    "\n",
    "**Exercise for part 3**: Use the code below to test what value of `n_neighbors` works best for the given data. *Note: do NOT change the metric to be anything other than `'euclidean'`. Other distance functions are not optimized for the amount of data we are working with.* \n",
    "\n",
    "**Question for part 3**: What is the accuracy of the best classifier you can create for this data (by changing only the `n_neighbors` parameter)? "
   ]
  },
  {
   "cell_type": "code",
   "execution_count": 27,
   "metadata": {},
   "outputs": [
    {
     "name": "stdout",
     "output_type": "stream",
     "text": [
      "Predictions List: [ 1  5 11 ... 18  1  0]\n",
      "0.48842142478345413\n",
      "Accuracy = 0.48842142478345413\n",
      "\n",
      "\n",
      "Testing with k=1\n",
      "Predictions List: [ 1 12 11 ... 18  1  0]\n",
      "0.6056213540745978\n",
      "Accuracy = 0.6056213540745978\n",
      "\n",
      "\n",
      "Testing with k=3\n",
      "Predictions List: [ 1  5 11 ... 18  1 18]\n",
      "0.521831359377762\n",
      "Accuracy = 0.521831359377762\n",
      "\n",
      "\n",
      "Testing with k=5\n",
      "Predictions List: [ 1  5 11 ... 18  1  0]\n",
      "0.48842142478345413\n",
      "Accuracy = 0.48842142478345413\n",
      "\n",
      "\n",
      "Testing with k=7\n",
      "Predictions List: [ 1  1  0 ... 18  1 18]\n",
      "0.4718048435566555\n",
      "Accuracy = 0.4718048435566555\n",
      "\n",
      "\n",
      "Testing with k=9\n",
      "Predictions List: [ 1  1 11 ... 18  1 18]\n",
      "0.4587237051440693\n",
      "Accuracy = 0.4587237051440693\n",
      "\n",
      "\n",
      "Best Accuracy of classifier with 1 neighbors is: 0.61\n"
     ]
    }
   ],
   "source": [
    "from sklearn.model_selection import StratifiedShuffleSplit\n",
    "from sklearn.neighbors import KNeighborsClassifier\n",
    "from sklearn.metrics import accuracy_score\n",
    "from IPython.html import widgets \n",
    "\n",
    "cv = StratifiedShuffleSplit(n_splits=1, test_size = 0.5, train_size=0.5)\n",
    "\n",
    "# fill in the training and testing data and save as separate variables\n",
    "for trainidx, testidx in cv.split(ds.data,ds.target):\n",
    "    # note that these are sparse matrices\n",
    "    X_train = ds.data[trainidx] \n",
    "    X_test = ds.data[testidx] \n",
    "    y_train = ds.target[trainidx]\n",
    "    y_test = ds.target[testidx]\n",
    "\n",
    "# fill in your code  here to train and test\n",
    "# calculate the accuracy and print it for various values of K\n",
    "K = 5 \n",
    "clf = KNeighborsClassifier(n_neighbors=K, weights='uniform', metric='euclidean')\n",
    "\n",
    "fit = clf.fit(X_train,y_train)\n",
    "\n",
    "predictions = clf.predict(X_test)\n",
    "print(f'Predictions List: {predictions}')\n",
    "\n",
    "print(clf.score(X_test, y_test))\n",
    "acc = accuracy_score(y_test, predictions)\n",
    "print(f'Accuracy = {acc}')\n",
    "\n",
    "#=====================================\n",
    "best_k=0\n",
    "best_acc=0\n",
    "\n",
    "for k in range(1,10):\n",
    "    if(k % 2 is not 0):\n",
    "        print(f'\\n\\nTesting with k={k}')\n",
    "        clf = KNeighborsClassifier(n_neighbors=k, weights='uniform', metric='euclidean')\n",
    "        fit = clf.fit(X_train,y_train)\n",
    "\n",
    "        predictions = clf.predict(X_test)\n",
    "        print(f'Predictions List: {predictions}')\n",
    "\n",
    "        print(clf.score(X_test, y_test))\n",
    "        acc = accuracy_score(y_test, predictions)\n",
    "        print(f'Accuracy = {acc}')\n",
    "        \n",
    "        if best_acc < acc:\n",
    "            best_acc = acc\n",
    "            best_k = k\n",
    "        \n",
    "        \n",
    "print('\\n\\nBest Accuracy of classifier with %d neighbors is: %.2f'%(best_k,best_acc))\n"
   ]
  },
  {
   "cell_type": "markdown",
   "metadata": {},
   "source": [
    "**Question for part 3**: With sparse data, does the use of a KDTree representation make sense? Why or Why not?"
   ]
  },
  {
   "cell_type": "markdown",
   "metadata": {},
   "source": [
    "Our instincts for using KDTree representation with sparse matrices/data is not ideal as our original dataset has about 130,000 features resulting in high dimensionality which can result in potential fruitless splits in our KDTree. "
   ]
  },
  {
   "cell_type": "markdown",
   "metadata": {},
   "source": [
    "_____\n",
    "## KNN extensions - Centroids\n",
    "Now lets look at a very closely related classifier to KNN, called nearest centroid. In this classifier (which is more appropriate for big data scenarios and sparse data), the training step is used to calculate the centroids for each class. These centroids are saved. Unknown attributes, at prediction time, only need to have distances calculated for each saved centroid, drastically decreasing the time required for a prediction. \n",
    "\n",
    "**Exercise for part 4**: Use the template code below to create a nearest centroid classifier. Test which metric has the best cross validated performance: Euclidean, Cosine, or Manhattan. In `scikit-learn` you can see the documentation for NearestCentroid here: \n",
    "- http://scikit-learn.org/stable/modules/generated/sklearn.neighbors.NearestCentroid.html#sklearn.neighbors.NearestCentroid\n",
    "\n",
    "and for supported distance metrics here:\n",
    "- http://scikit-learn.org/stable/modules/generated/sklearn.metrics.pairwise.distance_metrics.html#sklearn.metrics.pairwise.distance_metrics"
   ]
  },
  {
   "cell_type": "code",
   "execution_count": 32,
   "metadata": {},
   "outputs": [
    {
     "name": "stderr",
     "output_type": "stream",
     "text": [
      "C:\\Users\\Taylo\\anaconda3\\envs\\ML1\\lib\\site-packages\\sklearn\\neighbors\\_nearest_centroid.py:150: UserWarning: Averaging for metrics other than euclidean and manhattan not supported. The average is set to be the mean.\n",
      "  warnings.warn(\"Averaging for metrics other than \"\n",
      "C:\\Users\\Taylo\\anaconda3\\envs\\ML1\\lib\\site-packages\\sklearn\\neighbors\\_nearest_centroid.py:150: UserWarning: Averaging for metrics other than euclidean and manhattan not supported. The average is set to be the mean.\n",
      "  warnings.warn(\"Averaging for metrics other than \"\n"
     ]
    },
    {
     "name": "stdout",
     "output_type": "stream",
     "text": [
      "euclidean centroid accuracy = 0.4138235814035708\n",
      "cosine centroid accuracy = 0.4843556655471098\n"
     ]
    },
    {
     "name": "stderr",
     "output_type": "stream",
     "text": [
      "C:\\Users\\Taylo\\anaconda3\\envs\\ML1\\lib\\site-packages\\sklearn\\neighbors\\_nearest_centroid.py:150: UserWarning: Averaging for metrics other than euclidean and manhattan not supported. The average is set to be the mean.\n",
      "  warnings.warn(\"Averaging for metrics other than \"\n"
     ]
    },
    {
     "name": "stdout",
     "output_type": "stream",
     "text": [
      "manhanttan centroid accuracy = 0.3063461198515114\n",
      "The best distance metric is cosine centroid accuracy\n"
     ]
    }
   ],
   "source": [
    "from sklearn.neighbors import NearestCentroid\n",
    "\n",
    "# the parameters for the nearest centroid metric to test are:\n",
    "#    l1 (manhanta, l2, and cosine (all are optimized)\n",
    "clf = NearestCentroid(metric='euclidean')\n",
    "\n",
    "# fill in your code here\n",
    "e_clf = NearestCentroid(metric='l2')\n",
    "e_fit = e_clf.fit(X_train,y_train)\n",
    "e_predictions = e_clf.predict(X_test)\n",
    "e_acc = e_clf.score(X_test,y_test)\n",
    "\n",
    "print(f'euclidean centroid accuracy = {e_acc}')\n",
    "\n",
    "\n",
    "c_clf = NearestCentroid(metric='cosine')\n",
    "c_fit = c_clf.fit(X_train,y_train)\n",
    "c_predictions = c_clf.predict(X_test)\n",
    "c_acc = c_clf.score(X_test,y_test)\n",
    "\n",
    "print(f'cosine centroid accuracy = {c_acc}')\n",
    "\n",
    "m_clf = NearestCentroid(metric='l1')\n",
    "m_fit = m_clf.fit(X_train,y_train)\n",
    "m_predictions = m_clf.predict(X_test)\n",
    "m_acc = m_clf.score(X_test,y_test)\n",
    "\n",
    "print(f'manhanttan centroid accuracy = {m_acc}')\n",
    "\n",
    "print('The best distance metric is cosine centroid accuracy')"
   ]
  },
  {
   "cell_type": "markdown",
   "metadata": {},
   "source": [
    "___\n",
    "<a id=\"naive\"></a>\n",
    "<a href=\"#top\">Back to Top</a>\n",
    "## Naive Bayes Classification\n",
    "Now let's look at the use of the Naive Bayes classifier. The 20 newsgroups dataset has 20 classes and about 130,000 features per instance. Recall that the Naive Bayes classifer calculates a posterior distribution for each possible class. Each posterior distribution is a multiplication of many conditional distributions: \n",
    "\n",
    "$${\\arg \\max}_{j} \\left(p(class=j)\\prod_{i} p(attribute=i|class=j) \\right)$$\n",
    "\n",
    "where $p(class=j)$ is the prior and $p(attribute=i|class=j)$ is the conditional probability.\n",
    "\n",
    "**Question for part 5**: With this many classes and features, how many different conditional probabilities need to be parameterized? How many priors need to be parameterized?"
   ]
  },
  {
   "cell_type": "markdown",
   "metadata": {},
   "source": [
    "**20 priors and way too many conditional probabilities**"
   ]
  },
  {
   "cell_type": "code",
   "execution_count": 35,
   "metadata": {},
   "outputs": [
    {
     "name": "stdout",
     "output_type": "stream",
     "text": [
      "2602140 conditional probablities\n"
     ]
    }
   ],
   "source": [
    "probabilities=20*130107\n",
    "print(f'{probabilities} conditional probablities')"
   ]
  },
  {
   "cell_type": "markdown",
   "metadata": {},
   "source": [
    "___\n",
    "## Naive Bayes in Scikit-learn\n",
    "Scikit has several implementations of the Naive Bayes classifier: `GaussianNB`, `MultinomialNB`, and `BernoulliNB`. Look at the documentation here: http://scikit-learn.org/stable/modules/naive_bayes.html Take a look at each implementation and then answer this question: \n",
    "\n",
    "**Questions for part 6**: \n",
    "- If the instances contain mostly continuous attributes, would it be better to use Gaussian Naive Bayes, Multinomial Naive Bayes, or Bernoulli? And Why? \n",
    "- What if the data is sparse, does this change your answer? Why or Why not?"
   ]
  },
  {
   "cell_type": "markdown",
   "metadata": {},
   "source": [
    "6.1: Gaussian Naive Bayes would be the ideal implementation as it is usually chosen to represent the class-conditional probability for continuous attributes. \n",
    "\n",
    "6.2: No, because the data is still continuous, but you may want to consider multinomial naive bayes for comparisons. \n",
    "___"
   ]
  },
  {
   "cell_type": "markdown",
   "metadata": {},
   "source": [
    "## Naive Bayes Comparison\n",
    "For the final section of this notebook let's compare the performance of Naive Bayes for document classification. Look at the parameters for `MultinomialNB`, and `BernoulliNB` (especially `alpha` and `binarize`). \n",
    "\n",
    "**Exercise for part 7**: Using the example code below, change the parameters for each classifier and see how accurate you can make the classifiers on the test set. \n",
    "\n",
    "**Question for part 7**: Why are these implementations so fast to train? What does the `'alpha'` value control in these models (*i.e.*, how does it change the parameterizations)? "
   ]
  },
  {
   "cell_type": "code",
   "execution_count": 49,
   "metadata": {},
   "outputs": [
    {
     "name": "stderr",
     "output_type": "stream",
     "text": [
      "C:\\Users\\Taylo\\anaconda3\\envs\\ML1\\lib\\site-packages\\sklearn\\neighbors\\_nearest_centroid.py:150: UserWarning: Averaging for metrics other than euclidean and manhattan not supported. The average is set to be the mean.\n",
      "  warnings.warn(\"Averaging for metrics other than \"\n",
      "C:\\Users\\Taylo\\anaconda3\\envs\\ML1\\lib\\site-packages\\sklearn\\neighbors\\_nearest_centroid.py:150: UserWarning: Averaging for metrics other than euclidean and manhattan not supported. The average is set to be the mean.\n",
      "  warnings.warn(\"Averaging for metrics other than \"\n"
     ]
    },
    {
     "name": "stdout",
     "output_type": "stream",
     "text": [
      "Multinomial NB accuracy: 0.4843556655471098\n",
      "Bernoulli NB accuracy: 0.4843556655471098\n",
      "Testing with alpha set to 0.0\n"
     ]
    },
    {
     "name": "stderr",
     "output_type": "stream",
     "text": [
      "C:\\Users\\Taylo\\anaconda3\\envs\\ML1\\lib\\site-packages\\sklearn\\naive_bayes.py:509: UserWarning: alpha too small will result in numeric errors, setting alpha = 1.0e-10\n",
      "  'setting alpha = %.1e' % _ALPHA_MIN)\n",
      "C:\\Users\\Taylo\\anaconda3\\envs\\ML1\\lib\\site-packages\\sklearn\\naive_bayes.py:509: UserWarning: alpha too small will result in numeric errors, setting alpha = 1.0e-10\n",
      "  'setting alpha = %.1e' % _ALPHA_MIN)\n"
     ]
    },
    {
     "name": "stdout",
     "output_type": "stream",
     "text": [
      "Testing with alpha set to 0.1\n",
      "Testing with alpha set to 0.2\n",
      "Testing with alpha set to 0.30000000000000004\n",
      "Testing with alpha set to 0.4\n",
      "Testing with alpha set to 0.5\n",
      "Testing with alpha set to 0.6000000000000001\n",
      "Testing with alpha set to 0.7000000000000001\n",
      "Testing with alpha set to 0.8\n",
      "Testing with alpha set to 0.9\n",
      "Testing with alpha set to 1.0\n",
      "The best alpha for Multinomial NB is 0.0 with an accuracy of 0.8652996287785045\n",
      "The best alpha for Bernoulli NB is 0.0 with an accuracy of 0.8516881739437865\n",
      "These classifiers are so fast because we have sparse data\n",
      "The alpha values controls the additive smoothing parameter (accounts for features not present in the learning samples) which causes the classification to skew towards the class with more records resulting in underfitting\n"
     ]
    }
   ],
   "source": [
    "from sklearn.naive_bayes import MultinomialNB\n",
    "from sklearn.naive_bayes import BernoulliNB\n",
    "\n",
    "\n",
    "clf_mnb = MultinomialNB(alpha=1.0)\n",
    "clf_bnb = BernoulliNB(alpha=1.0, binarize=0.0)\n",
    "\n",
    "# fill in your code here\n",
    "mnb_fit = c_clf.fit(X_train,y_train)\n",
    "mnb_predictions = c_clf.predict(X_test)\n",
    "mnb_acc = c_clf.score(X_test,y_test)\n",
    "\n",
    "print(f'Multinomial NB accuracy: {mnb_acc}')\n",
    "\n",
    "bnb_fit = c_clf.fit(X_train,y_train)\n",
    "bnb_predictions = c_clf.predict(X_test)\n",
    "bnb_acc = c_clf.score(X_test,y_test)\n",
    "\n",
    "print(f'Bernoulli NB accuracy: {bnb_acc}')\n",
    "\n",
    "best_mnb_acc=0\n",
    "best_mnb_alpha=0\n",
    "best_bnb_alpha=0\n",
    "best_bnb_acc=0\n",
    "\n",
    "for a in np.linspace(0,1,11):\n",
    "    print(f'Testing with alpha set to {a}')\n",
    "    clf_mnb = MultinomialNB(alpha=a)\n",
    "    clf_bnb = BernoulliNB(alpha=a, binarize=0.0)\n",
    "\n",
    "    mnb_fit = clf_mnb.fit(X_train,y_train)\n",
    "    mnb_predictions = clf_mnb.predict(X_test)\n",
    "    mnb_acc = clf_mnb.score(X_test,y_test)\n",
    "    \n",
    "    bnb_fit = clf_bnb.fit(X_train,y_train)\n",
    "    bnb_predictions = clf_bnb.predict(X_test)\n",
    "    bnb_acc = clf_bnb.score(X_test,y_test)\n",
    "    \n",
    "    if best_bnb_acc < bnb_acc:\n",
    "        best_bnb_acc = bnb_acc\n",
    "        best_bnb_alpha = a\n",
    "        \n",
    "    if best_mnb_acc < mnb_acc:\n",
    "        best_mnb_acc = mnb_acc\n",
    "        best_mnb_alpha = a\n",
    "        \n",
    "print(f'The best alpha for Multinomial NB is {best_mnb_alpha} with an accuracy of {best_mnb_acc}')\n",
    "print(f'The best alpha for Bernoulli NB is {best_bnb_alpha} with an accuracy of {best_bnb_acc}')\n",
    "\n",
    "\n",
    "print('These classifiers are so fast because we have sparse data')\n",
    "print('The alpha values controls the additive smoothing parameter (accounts for features not present in the learning samples) which causes the classification to skew towards the class with more records resulting in underfitting')\n"
   ]
  },
  {
   "cell_type": "markdown",
   "metadata": {},
   "source": [
    "________________________________________________________________________________________________________\n",
    "\n",
    "That's all! Please **upload your rendered notebook to blackboard** and please include **team member names** in the notebook submission."
   ]
  },
  {
   "cell_type": "code",
   "execution_count": null,
   "metadata": {
    "collapsed": true
   },
   "outputs": [],
   "source": []
  }
 ],
 "metadata": {
  "kernelspec": {
   "display_name": "Python 3",
   "language": "python",
   "name": "python3"
  },
  "language_info": {
   "codemirror_mode": {
    "name": "ipython",
    "version": 3
   },
   "file_extension": ".py",
   "mimetype": "text/x-python",
   "name": "python",
   "nbconvert_exporter": "python",
   "pygments_lexer": "ipython3",
   "version": "3.7.1"
  }
 },
 "nbformat": 4,
 "nbformat_minor": 2
}
